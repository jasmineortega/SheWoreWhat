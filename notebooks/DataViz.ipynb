{
 "cells": [
  {
   "cell_type": "markdown",
   "id": "4362ad17-ddf1-4410-80e0-1638d501006e",
   "metadata": {},
   "source": [
    "# Data viz ideas"
   ]
  },
  {
   "cell_type": "markdown",
   "id": "b59f125d-f380-42ea-8190-a43b4cb8d941",
   "metadata": {
    "tags": []
   },
   "source": [
    "## There's two main parts to this:\n",
    "1) Dashboard building\n",
    "2) Actual plots and such \n",
    "    - Most worn items per category \n",
    "    - Top colors worn\n",
    "    - Parse data by season (winter/spring/summer/fall)"
   ]
  },
  {
   "cell_type": "code",
   "execution_count": 1,
   "id": "63ed3817-71ad-4764-b2e7-954cef835989",
   "metadata": {},
   "outputs": [
    {
     "ename": "KeyboardInterrupt",
     "evalue": "",
     "output_type": "error",
     "traceback": [
      "\u001b[0;31m---------------------------------------------------------------------------\u001b[0m",
      "\u001b[0;31mKeyboardInterrupt\u001b[0m                         Traceback (most recent call last)",
      "\u001b[0;32m/var/folders/qh/6chp8sds4c7gybyg8m5n7k3m0000gn/T/ipykernel_2987/2119737469.py\u001b[0m in \u001b[0;36m<module>\u001b[0;34m\u001b[0m\n\u001b[1;32m      1\u001b[0m \u001b[0;32mfrom\u001b[0m \u001b[0mdash\u001b[0m \u001b[0;32mimport\u001b[0m \u001b[0mDash\u001b[0m\u001b[0;34m,\u001b[0m \u001b[0mhtml\u001b[0m\u001b[0;34m,\u001b[0m \u001b[0mdcc\u001b[0m\u001b[0;34m,\u001b[0m \u001b[0mInput\u001b[0m\u001b[0;34m,\u001b[0m \u001b[0mOutput\u001b[0m\u001b[0;34m\u001b[0m\u001b[0;34m\u001b[0m\u001b[0m\n\u001b[0;32m----> 2\u001b[0;31m \u001b[0;32mimport\u001b[0m \u001b[0maltair\u001b[0m \u001b[0;32mas\u001b[0m \u001b[0malt\u001b[0m\u001b[0;34m\u001b[0m\u001b[0;34m\u001b[0m\u001b[0m\n\u001b[0m\u001b[1;32m      3\u001b[0m \u001b[0;32mimport\u001b[0m \u001b[0mdash_bootstrap_components\u001b[0m \u001b[0;32mas\u001b[0m \u001b[0mdbc\u001b[0m\u001b[0;34m\u001b[0m\u001b[0;34m\u001b[0m\u001b[0m\n\u001b[1;32m      4\u001b[0m \u001b[0;32mimport\u001b[0m \u001b[0mpandas\u001b[0m \u001b[0;32mas\u001b[0m \u001b[0mpd\u001b[0m\u001b[0;34m\u001b[0m\u001b[0;34m\u001b[0m\u001b[0m\n\u001b[1;32m      5\u001b[0m \u001b[0;32mimport\u001b[0m \u001b[0mnumpy\u001b[0m \u001b[0;32mas\u001b[0m \u001b[0mnp\u001b[0m\u001b[0;34m\u001b[0m\u001b[0;34m\u001b[0m\u001b[0m\n",
      "\u001b[0;32m~/opt/miniconda3/lib/python3.9/site-packages/altair/__init__.py\u001b[0m in \u001b[0;36m<module>\u001b[0;34m\u001b[0m\n\u001b[1;32m      2\u001b[0m \u001b[0m__version__\u001b[0m \u001b[0;34m=\u001b[0m \u001b[0;34m\"4.2.0\"\u001b[0m\u001b[0;34m\u001b[0m\u001b[0;34m\u001b[0m\u001b[0m\n\u001b[1;32m      3\u001b[0m \u001b[0;34m\u001b[0m\u001b[0m\n\u001b[0;32m----> 4\u001b[0;31m \u001b[0;32mfrom\u001b[0m \u001b[0;34m.\u001b[0m\u001b[0mvegalite\u001b[0m \u001b[0;32mimport\u001b[0m \u001b[0;34m*\u001b[0m\u001b[0;34m\u001b[0m\u001b[0;34m\u001b[0m\u001b[0m\n\u001b[0m\u001b[1;32m      5\u001b[0m \u001b[0;32mfrom\u001b[0m \u001b[0;34m.\u001b[0m \u001b[0;32mimport\u001b[0m \u001b[0mexamples\u001b[0m\u001b[0;34m\u001b[0m\u001b[0;34m\u001b[0m\u001b[0m\n\u001b[1;32m      6\u001b[0m \u001b[0;34m\u001b[0m\u001b[0m\n",
      "\u001b[0;32m~/opt/miniconda3/lib/python3.9/site-packages/altair/vegalite/__init__.py\u001b[0m in \u001b[0;36m<module>\u001b[0;34m\u001b[0m\n\u001b[1;32m      1\u001b[0m \u001b[0;31m# flake8: noqa\u001b[0m\u001b[0;34m\u001b[0m\u001b[0;34m\u001b[0m\u001b[0m\n\u001b[0;32m----> 2\u001b[0;31m \u001b[0;32mfrom\u001b[0m \u001b[0;34m.\u001b[0m\u001b[0mv4\u001b[0m \u001b[0;32mimport\u001b[0m \u001b[0;34m*\u001b[0m\u001b[0;34m\u001b[0m\u001b[0;34m\u001b[0m\u001b[0m\n\u001b[0m",
      "\u001b[0;32m~/opt/miniconda3/lib/python3.9/site-packages/altair/vegalite/v4/__init__.py\u001b[0m in \u001b[0;36m<module>\u001b[0;34m\u001b[0m\n\u001b[1;32m      1\u001b[0m \u001b[0;31m# flake8: noqa\u001b[0m\u001b[0;34m\u001b[0m\u001b[0;34m\u001b[0m\u001b[0m\n\u001b[0;32m----> 2\u001b[0;31m \u001b[0;32mfrom\u001b[0m \u001b[0;34m.\u001b[0m\u001b[0mschema\u001b[0m \u001b[0;32mimport\u001b[0m \u001b[0;34m*\u001b[0m\u001b[0;34m\u001b[0m\u001b[0;34m\u001b[0m\u001b[0m\n\u001b[0m\u001b[1;32m      3\u001b[0m \u001b[0;32mfrom\u001b[0m \u001b[0;34m.\u001b[0m\u001b[0mapi\u001b[0m \u001b[0;32mimport\u001b[0m \u001b[0;34m*\u001b[0m\u001b[0;34m\u001b[0m\u001b[0;34m\u001b[0m\u001b[0m\n\u001b[1;32m      4\u001b[0m \u001b[0;34m\u001b[0m\u001b[0m\n\u001b[1;32m      5\u001b[0m \u001b[0;32mfrom\u001b[0m \u001b[0;34m...\u001b[0m\u001b[0mdatasets\u001b[0m \u001b[0;32mimport\u001b[0m \u001b[0mlist_datasets\u001b[0m\u001b[0;34m,\u001b[0m \u001b[0mload_dataset\u001b[0m\u001b[0;34m\u001b[0m\u001b[0;34m\u001b[0m\u001b[0m\n",
      "\u001b[0;32m~/opt/miniconda3/lib/python3.9/site-packages/altair/vegalite/v4/schema/__init__.py\u001b[0m in \u001b[0;36m<module>\u001b[0;34m\u001b[0m\n\u001b[1;32m      1\u001b[0m \u001b[0;31m# flake8: noqa\u001b[0m\u001b[0;34m\u001b[0m\u001b[0;34m\u001b[0m\u001b[0m\n\u001b[0;32m----> 2\u001b[0;31m \u001b[0;32mfrom\u001b[0m \u001b[0;34m.\u001b[0m\u001b[0mcore\u001b[0m \u001b[0;32mimport\u001b[0m \u001b[0;34m*\u001b[0m\u001b[0;34m\u001b[0m\u001b[0;34m\u001b[0m\u001b[0m\n\u001b[0m\u001b[1;32m      3\u001b[0m \u001b[0;32mfrom\u001b[0m \u001b[0;34m.\u001b[0m\u001b[0mchannels\u001b[0m \u001b[0;32mimport\u001b[0m \u001b[0;34m*\u001b[0m\u001b[0;34m\u001b[0m\u001b[0;34m\u001b[0m\u001b[0m\n\u001b[1;32m      4\u001b[0m \u001b[0mSCHEMA_VERSION\u001b[0m \u001b[0;34m=\u001b[0m \u001b[0;34m'v4.17.0'\u001b[0m\u001b[0;34m\u001b[0m\u001b[0;34m\u001b[0m\u001b[0m\n\u001b[1;32m      5\u001b[0m \u001b[0mSCHEMA_URL\u001b[0m \u001b[0;34m=\u001b[0m \u001b[0;34m'https://vega.github.io/schema/vega-lite/v4.17.0.json'\u001b[0m\u001b[0;34m\u001b[0m\u001b[0;34m\u001b[0m\u001b[0m\n",
      "\u001b[0;32m~/opt/miniconda3/lib/python3.9/site-packages/altair/vegalite/v4/schema/core.py\u001b[0m in \u001b[0;36m<module>\u001b[0;34m\u001b[0m\n\u001b[1;32m  14215\u001b[0m \u001b[0;34m\u001b[0m\u001b[0m\n\u001b[1;32m  14216\u001b[0m \u001b[0;34m\u001b[0m\u001b[0m\n\u001b[0;32m> 14217\u001b[0;31m \u001b[0;32mclass\u001b[0m \u001b[0mShapeDef\u001b[0m\u001b[0;34m(\u001b[0m\u001b[0mVegaLiteSchema\u001b[0m\u001b[0;34m)\u001b[0m\u001b[0;34m:\u001b[0m\u001b[0;34m\u001b[0m\u001b[0;34m\u001b[0m\u001b[0m\n\u001b[0m\u001b[1;32m  14218\u001b[0m     \"\"\"ShapeDef schema wrapper\n\u001b[1;32m  14219\u001b[0m \u001b[0;34m\u001b[0m\u001b[0m\n",
      "\u001b[0;32m~/opt/miniconda3/lib/python3.9/site-packages/altair/vegalite/v4/schema/core.py\u001b[0m in \u001b[0;36mShapeDef\u001b[0;34m()\u001b[0m\n\u001b[1;32m  14224\u001b[0m     \u001b[0m_schema\u001b[0m \u001b[0;34m=\u001b[0m \u001b[0;34m{\u001b[0m\u001b[0;34m'$ref'\u001b[0m\u001b[0;34m:\u001b[0m \u001b[0;34m'#/definitions/ShapeDef'\u001b[0m\u001b[0;34m}\u001b[0m\u001b[0;34m\u001b[0m\u001b[0;34m\u001b[0m\u001b[0m\n\u001b[1;32m  14225\u001b[0m \u001b[0;34m\u001b[0m\u001b[0m\n\u001b[0;32m> 14226\u001b[0;31m     \u001b[0;32mdef\u001b[0m \u001b[0m__init__\u001b[0m\u001b[0;34m(\u001b[0m\u001b[0mself\u001b[0m\u001b[0;34m,\u001b[0m \u001b[0;34m*\u001b[0m\u001b[0margs\u001b[0m\u001b[0;34m,\u001b[0m \u001b[0;34m**\u001b[0m\u001b[0mkwds\u001b[0m\u001b[0;34m)\u001b[0m\u001b[0;34m:\u001b[0m\u001b[0;34m\u001b[0m\u001b[0;34m\u001b[0m\u001b[0m\n\u001b[0m\u001b[1;32m  14227\u001b[0m         \u001b[0msuper\u001b[0m\u001b[0;34m(\u001b[0m\u001b[0mShapeDef\u001b[0m\u001b[0;34m,\u001b[0m \u001b[0mself\u001b[0m\u001b[0;34m)\u001b[0m\u001b[0;34m.\u001b[0m\u001b[0m__init__\u001b[0m\u001b[0;34m(\u001b[0m\u001b[0;34m*\u001b[0m\u001b[0margs\u001b[0m\u001b[0;34m,\u001b[0m \u001b[0;34m**\u001b[0m\u001b[0mkwds\u001b[0m\u001b[0;34m)\u001b[0m\u001b[0;34m\u001b[0m\u001b[0;34m\u001b[0m\u001b[0m\n\u001b[1;32m  14228\u001b[0m \u001b[0;34m\u001b[0m\u001b[0m\n",
      "\u001b[0;31mKeyboardInterrupt\u001b[0m: "
     ]
    }
   ],
   "source": [
    "from dash import Dash, html, dcc, Input, Output\n",
    "import altair as alt\n",
    "import dash_bootstrap_components as dbc\n",
    "import pandas as pd\n",
    "import numpy as np\n",
    "import matplotlib as plt\n",
    "from matplotlib.pyplot import figure\n",
    "\n",
    "import datetime\n",
    "import calmap\n",
    "import sheworewhat as sww\n",
    "\n",
    "alt.data_transformers.disable_max_rows()\n",
    "# alt.renderers.enable('notebook')"
   ]
  },
  {
   "cell_type": "code",
   "execution_count": null,
   "id": "db2a3a5f-6b90-4d69-bce7-0c54d68e83c4",
   "metadata": {},
   "outputs": [],
   "source": [
    "closet = sww.closet_df()\n",
    "\n",
    "closet"
   ]
  },
  {
   "cell_type": "code",
   "execution_count": null,
   "id": "6d9de3e5-4288-46b0-bdfc-febc1dab85ab",
   "metadata": {},
   "outputs": [],
   "source": [
    "acc_df, bottom_df, fb_df, out_df, shoes_df, top_df = sww.closet_cat(closet)\n",
    "\n",
    "acc_df.tail(5)"
   ]
  },
  {
   "cell_type": "markdown",
   "id": "0ec518b5-810f-4425-98af-346cd43addf1",
   "metadata": {
    "jp-MarkdownHeadingCollapsed": true,
    "tags": []
   },
   "source": [
    "## Closet EDA\n",
    "- What percentage of my closet is new vs. secondhand?"
   ]
  },
  {
   "cell_type": "code",
   "execution_count": null,
   "id": "b5d1ed4a-b405-4483-a3de-f9ed0ddff456",
   "metadata": {},
   "outputs": [],
   "source": [
    "closet_count = closet.groupby(by=\"Bought\").count()\n",
    "closet_count"
   ]
  },
  {
   "cell_type": "code",
   "execution_count": null,
   "id": "038976e7-40c6-42b1-9b19-abb257b5f412",
   "metadata": {},
   "outputs": [],
   "source": [
    "closet_n = closet.groupby([\"Bought\"])[[\"Bought\"]].agg('count').rename(columns={\"Bought\" : \"N\"}).reset_index()\n",
    "closet_n[\"Percent\"] = (closet_n['N'] / len(closet))\n",
    "closet_n"
   ]
  },
  {
   "cell_type": "markdown",
   "id": "5b0c5cb6-d60e-4dcd-b112-0c3ff5e2d7c6",
   "metadata": {},
   "source": [
    "Should I do just secondhand? then breakdown the secondhand"
   ]
  },
  {
   "cell_type": "code",
   "execution_count": null,
   "id": "e88c5ad9-24b1-442a-8c59-7f205ad280d3",
   "metadata": {},
   "outputs": [],
   "source": [
    "closet_n = closet.groupby([\"Bought\"])[[\"Bought\"]].agg('count').rename(columns={\"Bought\" : \"N\"}).reset_index()\n",
    "closet_n[\"Percent\"] = (closet_n['N'] / len(closet))\n",
    "\n",
    "closet_n[\"Status\"] = closet_n[\"Bought\"].str.split(\",\").str[1]\n",
    "closet_n = closet_n.replace(np.nan, \"New\")\n",
    "\n",
    "closet_comp = alt.Chart(closet_n, title=\"Closet Composition\"\n",
    "                       ).mark_bar(color=\"Maroon\"\n",
    "                         ).encode(alt.X(\"Bought\", axis=alt.Axis(labelAngle=-45), sort='-y'),\n",
    "                                  alt.Y(\"Percent\", axis=alt.Axis(format='%'),),\n",
    "                                  alt.Tooltip(\"Percent\", format=\",.2f\"),\n",
    "                                  color=alt.condition(\n",
    "                                    alt.datum.year == \"New\",\n",
    "                                    alt.value('orange'),\n",
    "                                    alt.value('maroon')   \n",
    "                                    )\n",
    "                                 )\n",
    "                \n",
    "closet_comp"
   ]
  },
  {
   "cell_type": "code",
   "execution_count": null,
   "id": "9d898dbe-20a1-433a-9fcc-583983ec29d1",
   "metadata": {},
   "outputs": [],
   "source": [
    "closet_n = closet.groupby([\"Bought\"])[[\"Bought\"]].agg('count').rename(columns={\"Bought\" : \"N\"}).reset_index()\n",
    "closet_n[\"Percent\"] = (closet_n['N'] / len(closet))\n",
    "\n",
    "closet_n[\"Purchased\"] = closet_n[\"Bought\"].str.split(\",\").str[0]\n",
    "closet_n[\"Status\"] = closet_n[\"Bought\"].str.split(\",\").str[1]\n",
    "closet_n = closet_n.replace(np.nan, \"New\")\n",
    "\n",
    "closet_n"
   ]
  },
  {
   "cell_type": "code",
   "execution_count": null,
   "id": "4a61765c-ae8b-486c-a272-f1406f70ac5b",
   "metadata": {},
   "outputs": [],
   "source": [
    "closet_n.groupby([\"Purchased\"]).count()"
   ]
  },
  {
   "cell_type": "code",
   "execution_count": null,
   "id": "52c0e199-cbb0-4afc-854e-83911fcd870b",
   "metadata": {},
   "outputs": [],
   "source": [
    "# new vs secondhand only plot\n",
    "closet_comp = alt.Chart(closet_n, title=\"Closet Composition\"\n",
    "                       ).mark_bar(color=\"Maroon\"\n",
    "                         ).encode(alt.X(\"Bought\", axis=alt.Axis(labelAngle=-45), sort='-y'),\n",
    "                                  alt.Y(\"Percent\", axis=alt.Axis(format='%'),),\n",
    "                                  alt.Tooltip(\"Percent\", format=\",.2f\"),\n",
    "                                  color=alt.condition(\n",
    "                                    alt.datum.year == \"New\",\n",
    "                                    alt.value('orange'),\n",
    "                                    alt.value('maroon')   \n",
    "                                    )\n",
    "                                 )\n",
    "                \n",
    "closet_comp"
   ]
  },
  {
   "cell_type": "markdown",
   "id": "0f632240-a085-4620-9314-558abf945795",
   "metadata": {
    "tags": []
   },
   "source": [
    "## clean and merge data\n",
    "- need function to clean, merge, do counts and stuff for collected data"
   ]
  },
  {
   "cell_type": "code",
   "execution_count": null,
   "id": "5941ce52-e54d-468b-b21b-a209387560b6",
   "metadata": {},
   "outputs": [],
   "source": [
    "path = \"../data/2023TestData.csv\"\n",
    "\n",
    "df = pd.read_csv(path)\n",
    "df"
   ]
  },
  {
   "cell_type": "markdown",
   "id": "1a7f0fcd-d701-4c08-b8b1-202987184dd1",
   "metadata": {},
   "source": [
    "We don't need the timestamp, its redundant and easier to just use date"
   ]
  },
  {
   "cell_type": "code",
   "execution_count": null,
   "id": "c24e8082-2365-4370-8a60-c1426723e972",
   "metadata": {},
   "outputs": [],
   "source": [
    "df.iloc[:, 1:]"
   ]
  },
  {
   "cell_type": "code",
   "execution_count": null,
   "id": "dc63cc85-35ce-485b-9620-4a2746458d32",
   "metadata": {},
   "outputs": [],
   "source": [
    "df.drop(\"Timestamp\", axis=1)"
   ]
  },
  {
   "cell_type": "markdown",
   "id": "8cf12373-188b-4681-bc83-44892badaee8",
   "metadata": {},
   "source": [
    "two things: would be useful to have counts and also the dates in a list per item"
   ]
  },
  {
   "cell_type": "markdown",
   "id": "107c959a-8091-4089-90d5-8752d3a56369",
   "metadata": {},
   "source": [
    "Need to be able to handle multiple items in a single category (layering, etc)\n",
    "- doesnt make sense to edit google sheet because layering can happen with all categories"
   ]
  },
  {
   "cell_type": "code",
   "execution_count": null,
   "id": "ed568cbc-3825-4e3d-b30d-7a9331473530",
   "metadata": {},
   "outputs": [],
   "source": [
    "path = \"../data/2023TestData.csv\"\n",
    "\n",
    "df = pd.read_csv(path).drop(\"Timestamp\", axis=1).melt(\"Date\").dropna()\n",
    "\n",
    "df"
   ]
  },
  {
   "cell_type": "code",
   "execution_count": null,
   "id": "e05011d4-9335-4580-bda4-15d47ca47887",
   "metadata": {},
   "outputs": [],
   "source": [
    "df.groupby(\"value\").count()"
   ]
  },
  {
   "cell_type": "code",
   "execution_count": null,
   "id": "fa4f24e9-5d85-49ab-9cbe-acd7cb63b203",
   "metadata": {},
   "outputs": [],
   "source": [
    "df[\"test0\"] = df[\"value\"].str.split(\",\").str[0]\n",
    "df[\"test1\"] = df[\"value\"].str.split(\",\").str[1]\n",
    "df.head(3)"
   ]
  },
  {
   "cell_type": "markdown",
   "id": "3e2f7640-4415-4f53-b41e-e97771980763",
   "metadata": {},
   "source": [
    "ugh maybe this can be reformatted somehow for easier parsing; also i dont love how the format is now\n",
    "\n",
    "OR \n",
    "maybe if column contains more than 1 number, split it i\n",
    "\n",
    "IDEA:\n",
    "- GOOGLE SHEET FORM: ID ITEM - COLOR\n",
    "- then multiple selections can be parse via \",\" in the sheet"
   ]
  },
  {
   "cell_type": "code",
   "execution_count": null,
   "id": "e4d72974-95e5-4387-b63a-f1fbf031d1a7",
   "metadata": {},
   "outputs": [],
   "source": [
    "# def closet\n",
    "path = \"../data/2023TestData.csv\"\n",
    "\n",
    "df = pd.read_csv(path).drop(\"Timestamp\", axis=1).melt(\"Date\").dropna()\n",
    "\n",
    "# extract ID number from value\n",
    "df[\"ID\"] = df.value.str.extract('(\\d+)').astype(int)\n",
    "\n",
    "closet_counts = df.groupby([\"value\", \"ID\"]).count().reset_index().rename(columns={\"Date\":\"count\"}).drop([\"variable\"],axis=1)\n",
    "\n",
    "closet_counts\n",
    "\n",
    "# left join closet + df\n",
    "x = pd.merge(closet, closet_counts, how=\"left\", on=\"ID\")\n",
    "x"
   ]
  },
  {
   "cell_type": "code",
   "execution_count": null,
   "id": "7ca03601-50d2-4d47-90c6-19026b03daca",
   "metadata": {},
   "outputs": [],
   "source": [
    "x = pd.merge(closet, df, on=\"ID\")\n"
   ]
  },
  {
   "cell_type": "code",
   "execution_count": null,
   "id": "c5b58a3b-7c16-4be7-b4f9-ddb66eca2711",
   "metadata": {},
   "outputs": [],
   "source": [
    "closet_counts = df.groupby([\"value\"]).count().reset_index().rename(columns={\"Date\":\"count\"}).drop([\"ID\", \"variable\"],axis=1)\n",
    "closet_counts"
   ]
  },
  {
   "cell_type": "code",
   "execution_count": null,
   "id": "479ed28a-9a61-420e-8ae5-6eae02398335",
   "metadata": {},
   "outputs": [],
   "source": [
    "closet_comp = alt.Chart(closet_counts, title=\"2023 Most Worn Pieces\"\n",
    "                       ).mark_bar(color=\"Maroon\"\n",
    "                         ).encode(alt.X(\"value\", axis=alt.Axis(labelAngle=-45), sort='-y'),\n",
    "                                  alt.Y(\"count\",),\n",
    "                                  alt.Tooltip(\"value\", format=\",.2f\"),\n",
    "                                  color=alt.condition(\n",
    "                                    alt.datum.year == \"New\",\n",
    "                                    alt.value('orange'),\n",
    "                                    alt.value('maroon')   \n",
    "                                    )\n",
    "                                 )\n",
    "                \n",
    "closet_comp"
   ]
  },
  {
   "cell_type": "markdown",
   "id": "38d09ada-0a3d-46c7-b4a2-608d38e62893",
   "metadata": {
    "tags": []
   },
   "source": [
    "## Basic Wrangling Function\n",
    "1. takes in google form data\n",
    "2. counts how many of each item logged\n",
    "3. left joins with closet data"
   ]
  },
  {
   "cell_type": "code",
   "execution_count": null,
   "id": "9f9b4fa2-9a13-4666-a9a1-cb82baaa741a",
   "metadata": {},
   "outputs": [],
   "source": [
    "def complete_df(closet, path=\"../data/2023TestData.csv\"):\n",
    "    \"\"\"\n",
    "    Function to merge raw closet data and collected 2023 data.\n",
    "    \n",
    "    Parameters\n",
    "    ----------\n",
    "        closet : pandas.DataFrame\n",
    "            Dataframe containing complete closet log.\n",
    "        path : string\n",
    "            String containing path of CSV of collected data.\n",
    "    \n",
    "    Returns\n",
    "    -------\n",
    "        complete_df : pandas.DataFrame\n",
    "            Dataframe containing \"ID\", \"Name\", \"count\", \"Item\", \n",
    "            \"Category\", \"Sub-Category\", \"Color\", \"Pattern\", \"Brand\", \"Cost\", \"2023\"\n",
    "    \"\"\"\n",
    "\n",
    "\n",
    "    form = pd.read_csv(path).drop(\"Timestamp\", axis=1).melt(\"Date\").dropna()\n",
    "\n",
    "    # extract ID number from value\n",
    "    form[\"ID\"] = form.value.str.extract('(\\d+)').astype(int)\n",
    "\n",
    "    form_counts = form.groupby([\"value\", \"ID\"]).count().reset_index().rename(columns={\"Date\":\"count\"}).drop([\"variable\"],axis=1)\n",
    "    \n",
    "    # left join closet + df\n",
    "    complete_df = pd.merge(closet, form_counts, how=\"left\", on=\"ID\")\n",
    "    complete_df[\"Name\"] = complete_df[\"Brand\"] + \" \" + complete_df[\"Item\"]\n",
    "    complete_df = complete_df[[\"ID\", \"Name\", \"count\", \"Item\", \"Category\", \"Sub-Category\", \"Color\", \"Pattern\", \"Brand\", \"Cost\", \"2023\"]]\n",
    "    complete_df = complete_df.fillna(0).rename(columns={\"count\" : \"Count\"})\n",
    "    complete_df[\"Count\"] = complete_df[\"Count\"].astype(int)\n",
    "    \n",
    "    return complete_df\n"
   ]
  },
  {
   "cell_type": "code",
   "execution_count": null,
   "id": "93e64cad-1882-464a-abda-28d8dd77754c",
   "metadata": {},
   "outputs": [],
   "source": [
    "closet = sww.closet_df()\n",
    "worn_df = complete_df(closet)\n",
    "worn_df"
   ]
  },
  {
   "cell_type": "code",
   "execution_count": null,
   "id": "68cf0fd1-ae13-416e-a6b4-57212b4d3f2b",
   "metadata": {},
   "outputs": [],
   "source": [
    "worn_df[\"Count\"].astype(int)"
   ]
  },
  {
   "cell_type": "markdown",
   "id": "ca77b90d-eb98-4c12-92a1-fccbdb63d8a5",
   "metadata": {},
   "source": [
    "## 2023 Most Worn Pieces"
   ]
  },
  {
   "cell_type": "code",
   "execution_count": null,
   "id": "2fc202eb-c3e8-4bb3-b4a9-0e41a9dc2e16",
   "metadata": {},
   "outputs": [],
   "source": [
    "most_worn = worn_df.nlargest(15, columns=\"Count\")\n",
    "closet_comp = alt.Chart(most_worn, title=\"2023 Most Worn Pieces\"\n",
    "                       ).mark_bar(color=\"Maroon\"\n",
    "                         ).encode(alt.X(\"Name\", axis=alt.Axis(labelAngle=-45), sort=\"-y\"),\n",
    "                                  alt.Y(\"Count\", \n",
    "                                        title=\"# of Times Worn\",\n",
    "                                        axis=alt.Axis(tickMinStep=1)),\n",
    "                                  alt.Tooltip(\"Count\")\n",
    "                                 )\n",
    "                \n",
    "closet_comp"
   ]
  },
  {
   "cell_type": "code",
   "execution_count": null,
   "id": "4cd9b564-cf4f-4d5b-be9b-9c3508281d61",
   "metadata": {},
   "outputs": [],
   "source": [
    "def plot_mostworn():\n",
    "    most_worn = worn_df.nlargest(15, columns=\"Count\")\n",
    "    closet_comp = alt.Chart(most_worn, title=\"2023 Most Worn Pieces\"\n",
    "                       ).mark_bar(color=\"Maroon\"\n",
    "                         ).encode(alt.X(\"Name\",\n",
    "                                        title=\"\",\n",
    "                                        axis=alt.Axis(labelAngle=-45), \n",
    "                                        sort=\"-y\"),\n",
    "                                  alt.Y(\"Count\", \n",
    "                                        title=\"Times Worn\",\n",
    "                                        axis=alt.Axis(tickMinStep=1)),\n",
    "                                  alt.Tooltip(\"Count\")\n",
    "                                 )\n",
    "                \n",
    "    return closet_comp"
   ]
  },
  {
   "cell_type": "code",
   "execution_count": null,
   "id": "2cf7e140-94b0-4e76-9ecc-ebefbe341488",
   "metadata": {},
   "outputs": [],
   "source": [
    "plot_mostworn()"
   ]
  },
  {
   "cell_type": "markdown",
   "id": "62efa4fd-e8a5-4b3e-82bc-91e06dc079e4",
   "metadata": {
    "jp-MarkdownHeadingCollapsed": true,
    "tags": []
   },
   "source": [
    "### Easier way to plot count \n",
    "- can use \"count()\" and make complete_df function less complex\n",
    "- this doesn't seem to work unless you limit the x-axis data first so move on"
   ]
  },
  {
   "cell_type": "code",
   "execution_count": null,
   "id": "00eec773-cfb2-4ccd-9b9e-587b2038dff7",
   "metadata": {},
   "outputs": [],
   "source": [
    "closet = sww.closet_df()"
   ]
  },
  {
   "cell_type": "code",
   "execution_count": null,
   "id": "26832e1e-fcc9-485e-969d-58a4f346d632",
   "metadata": {},
   "outputs": [],
   "source": [
    "form = pd.read_csv(\"../data/2023TestData.csv\").drop(\"Timestamp\", axis=1).melt(\"Date\").dropna()\n",
    "\n",
    "# extract ID number from value\n",
    "form[\"ID\"] = form.value.str.extract('(\\d+)').astype(int)\n",
    "\n",
    "# left join closet + df\n",
    "complete_df = pd.merge(closet, form, how=\"left\", on=\"ID\")\n",
    "complete_df[\"Name\"] = complete_df[\"Brand\"] + \" \" + complete_df[\"Item\"]\n",
    "complete_df = complete_df[[\"ID\", \"Name\", \"Item\", \"Category\", \"Sub-Category\", \"Color\", \"Pattern\", \"Brand\", \"Cost\", \"2023\"]]\n"
   ]
  },
  {
   "cell_type": "code",
   "execution_count": null,
   "id": "db88a63a-60f3-48b0-af06-c71903c37a8d",
   "metadata": {},
   "outputs": [],
   "source": [
    "closet_comp = alt.Chart(complete_df, title=\"2023 Most Worn Pieces\"\n",
    "                       ).mark_bar(color=\"Maroon\"\n",
    "                         ).encode(alt.X(\"Name\", axis=alt.Axis(labelAngle=-45), sort=\"-y\"),\n",
    "                                  alt.Y(\"count()\", \n",
    "                                        title=\"# of Times Worn\",\n",
    "                                        axis=alt.Axis(tickMinStep=1)),\n",
    "                                  alt.Tooltip(\"count()\")\n",
    "                                 )\n",
    "                \n",
    "closet_comp"
   ]
  },
  {
   "cell_type": "markdown",
   "id": "3c8f1f58-5aae-43c9-be24-052372835d69",
   "metadata": {},
   "source": [
    "## Make similar plots but facet per category!"
   ]
  },
  {
   "cell_type": "markdown",
   "id": "e30245c8-99e4-4d78-8de0-b133118e6b56",
   "metadata": {},
   "source": [
    "The problem with the below code is the x-axis is the same and we do not want that. We want the x axis to contain unique items for that category!\n",
    "- Solution: generate 6 separate plots and concat"
   ]
  },
  {
   "cell_type": "code",
   "execution_count": null,
   "id": "d0e1c59a-7b54-4eaa-b539-6319603c6916",
   "metadata": {},
   "outputs": [],
   "source": [
    "category_worn = worn_df.nlargest(15, columns=\"Count\")\n",
    "closet_comp = alt.Chart(category_worn, title=\"2023 Most Worn Pieces\"\n",
    "                       ).mark_bar(color=\"Maroon\"\n",
    "                       ).encode(alt.X(\"Name\", axis=alt.Axis(labelAngle=-45), sort=\"-y\"),\n",
    "                                alt.Y(\"Count\", \n",
    "                                title=\"# of Times Worn\",\n",
    "                                axis=alt.Axis(tickMinStep=1)),\n",
    "                                alt.Tooltip(\"Count\")\n",
    "                        ).facet(\"Category\", columns=3)\n",
    "                \n",
    "closet_comp"
   ]
  },
  {
   "cell_type": "code",
   "execution_count": null,
   "id": "49036d55-eb48-4f21-bbe5-c4f1d21a137d",
   "metadata": {},
   "outputs": [],
   "source": [
    "worn_df[\"Category\"]"
   ]
  },
  {
   "cell_type": "markdown",
   "id": "1f86d821-5943-4a46-8bbb-9fee85085424",
   "metadata": {},
   "source": [
    "**Solution**: Concat six graphs because the x and y axes will inherently very different\n",
    "\n",
    "*whyyyyy won't sort=\"y\" work pls*"
   ]
  },
  {
   "cell_type": "code",
   "execution_count": null,
   "id": "c714fd69-720b-478b-a1a2-3efaa206ce9c",
   "metadata": {},
   "outputs": [],
   "source": [
    "categories = [\"Top\", \"Bottom\", \"Full Body\", \"Outerwear\", \"Accessory\", \"Shoes\"]\n",
    "\n",
    "cat_plots = []\n",
    "\n",
    "for i in categories:\n",
    "    category_worn = worn_df.loc[worn_df[\"Category\"] == i].nlargest(15, columns=\"Count\")\n",
    "    \n",
    "    category_plot = alt.Chart(category_worn, title=f\"2023 Most Worn {i}\"\n",
    "                       ).mark_bar(color=\"#B79492\"\n",
    "                       ).encode(alt.X(\"Name\", title=\"\", axis=alt.Axis(labelAngle=-45), sort=\"-y\"),\n",
    "                                alt.Y(\"Count\", \n",
    "                                title=\"# of Times Worn\",\n",
    "                                axis=alt.Axis(tickMinStep=1)),\n",
    "                                alt.Tooltip([\"Name\", \"Count\"])\n",
    "                        ).resolve_scale(x='independent')\n",
    "    cat_plots.append(category_plot)\n",
    "\n",
    "# configure altair charts\n",
    "row1 = alt.hconcat(cat_plots[0], cat_plots[1], cat_plots[2])\n",
    "row2 = alt.hconcat(cat_plots[3], cat_plots[4], cat_plots[5])\n",
    "\n",
    "category_plot = alt.vconcat(row1, row2)\n",
    "category_plot"
   ]
  },
  {
   "cell_type": "markdown",
   "id": "69d38fb2-e63c-421b-98c1-c2f0f5978a1e",
   "metadata": {},
   "source": [
    "Troubleshooting this gd error"
   ]
  },
  {
   "cell_type": "code",
   "execution_count": null,
   "id": "c3c1a35b-147f-4529-b250-1268385de5a6",
   "metadata": {},
   "outputs": [],
   "source": [
    "category_worn = worn_df.loc[worn_df[\"Category\"] == \"Top\"].nlargest(10, columns=\"Count\")\n",
    "category_worn[\"Count\"]"
   ]
  },
  {
   "cell_type": "code",
   "execution_count": null,
   "id": "5391dd6e-728b-4a8b-8376-88412e642e15",
   "metadata": {},
   "outputs": [],
   "source": [
    "category_worn.head(5)"
   ]
  },
  {
   "cell_type": "markdown",
   "id": "75012aea-9b00-4e71-9ed0-6986ff5a470d",
   "metadata": {},
   "source": [
    "Weirdly the solution seems to be reduce the dataframe I'm pulling from?\n",
    "`.nlargest(15, columns=\"Count\")` to `nlargest.(5, columns=\"Count\")` fixed it in the concat'd plot"
   ]
  },
  {
   "cell_type": "code",
   "execution_count": null,
   "id": "64756ef0-dc9d-48c4-aa53-a0baf44888fb",
   "metadata": {},
   "outputs": [],
   "source": [
    "alt.Chart(category_worn, title=f\"2023 Most Worn Top\"\n",
    "                   ).mark_bar(color=\"Pink\"\n",
    "                   ).encode(alt.X(\"Name\", title=\"\", axis=alt.Axis(labelAngle=-45), sort=\"-y\"),\n",
    "                            alt.Y(\"Count\", \n",
    "                            title=\"# of Times Worn\",\n",
    "                            axis=alt.Axis(tickMinStep=1)),\n",
    "                            alt.Tooltip([\"Name\", \"Count\"])\n",
    "                    ).resolve_scale(x='independent')"
   ]
  },
  {
   "cell_type": "code",
   "execution_count": null,
   "id": "163affcd-f27d-40b1-bf6e-527ae0936e50",
   "metadata": {},
   "outputs": [],
   "source": [
    "categories = [\"Top\", \"Bottom\", \"Full Body\", \"Outerwear\", \"Accessory\", \"Shoes\"]\n",
    "\n",
    "cat_plots = []\n",
    "\n",
    "for i in categories:\n",
    "    category_worn = worn_df.loc[worn_df[\"Category\"] == i].nlargest(5, columns=\"Count\")\n",
    "    \n",
    "    category_plot = alt.Chart(category_worn, title=f\"2023 Most Worn {i}\"\n",
    "                       ).mark_bar(color=\"#B40490\"\n",
    "                       ).encode(alt.X(\"Name\", title=\"\", axis=alt.Axis(labelAngle=-45), sort=\"-y\"),\n",
    "                                alt.Y(\"Count\", \n",
    "                                title=\"# of Times Worn\",\n",
    "                                axis=alt.Axis(tickMinStep=1)),\n",
    "                                alt.Tooltip([\"Name\", \"Count\"])\n",
    "                        )\n",
    "    cat_plots.append(category_plot)\n",
    "\n",
    "# configure altair charts\n",
    "row1 = alt.hconcat(cat_plots[0], cat_plots[1], cat_plots[2])\n",
    "row2 = alt.hconcat(cat_plots[3], cat_plots[4], cat_plots[5])\n",
    "\n",
    "category_plot = alt.vconcat(row1, row2)\n",
    "category_plot"
   ]
  },
  {
   "cell_type": "markdown",
   "id": "d0081a93-f734-4e8a-a466-44c38b0e78e3",
   "metadata": {},
   "source": [
    "Make a plot function!"
   ]
  },
  {
   "cell_type": "code",
   "execution_count": null,
   "id": "06119cfc-f923-45eb-9000-c83b1b07f4fb",
   "metadata": {},
   "outputs": [],
   "source": [
    "def plot_facet():\n",
    "    \n",
    "    categories = [\"Top\", \"Bottom\", \"Full Body\", \"Outerwear\", \"Accessory\", \"Shoes\"]\n",
    "\n",
    "    cat_plots = []\n",
    "\n",
    "    for i in categories:\n",
    "        category_worn = worn_df.loc[worn_df[\"Category\"] == i].nlargest(5, columns=\"Count\")\n",
    "\n",
    "        category_plot = alt.Chart(category_worn, title=f\"2023 Most Worn {i}\"\n",
    "                           ).mark_bar(color=\"#B40490\"\n",
    "                           ).encode(alt.X(\"Name\", title=\"\", axis=alt.Axis(labelAngle=-45), sort=\"-y\"),\n",
    "                                    alt.Y(\"Count\", \n",
    "                                    title=\"# of Times Worn\",\n",
    "                                    axis=alt.Axis(tickMinStep=1)),\n",
    "                                    alt.Tooltip([\"Name\", \"Count\"])\n",
    "                            ).properties(\n",
    "                                height=200,\n",
    "                                width=150\n",
    "                                )\n",
    "        cat_plots.append(category_plot)\n",
    "\n",
    "    # configure altair charts\n",
    "    row1 = alt.hconcat(cat_plots[0], cat_plots[1], cat_plots[2])\n",
    "    row2 = alt.hconcat(cat_plots[3], cat_plots[4], cat_plots[5])\n",
    "\n",
    "    category_plot = alt.vconcat(row1, row2)\n",
    "    return category_plot"
   ]
  },
  {
   "cell_type": "code",
   "execution_count": null,
   "id": "4da11239-3a32-4665-91a6-f6daf61b7fd5",
   "metadata": {},
   "outputs": [],
   "source": [
    "plot_facet()"
   ]
  },
  {
   "cell_type": "markdown",
   "id": "4c10ce2a-0b86-4d4b-91da-58fe031e90e1",
   "metadata": {
    "jp-MarkdownHeadingCollapsed": true,
    "tags": []
   },
   "source": [
    "## Heatmap of plots"
   ]
  },
  {
   "cell_type": "code",
   "execution_count": null,
   "id": "f6b9e780-f632-44ad-933f-68bb71fe87a4",
   "metadata": {},
   "outputs": [],
   "source": [
    "path = \"../data/2023TestData.csv\"\n",
    "\n",
    "df = pd.read_csv(path).drop(\"Timestamp\", axis=1).melt(\"Date\").dropna()\n",
    "df[\"Date\"] = pd.to_datetime(df[\"Date\"])\n",
    "\n",
    "# extract ID number from value\n",
    "df[\"ID\"] = df.value.str.extract('(\\d+)').astype(int)\n",
    "df = pd.merge(closet, df, how=\"right\", on=\"ID\")\n",
    "df = df[[\"ID\", \"Item\", \"Color\", \"Pattern\", \"Category\", \"Date\"]]\n",
    "df.sample(4)"
   ]
  },
  {
   "cell_type": "markdown",
   "id": "25060eeb-03a0-4bc4-bb25-790cdf5e4e6f",
   "metadata": {},
   "source": [
    "Maybe once we have the top 10 items we can heatmap them?"
   ]
  },
  {
   "cell_type": "code",
   "execution_count": null,
   "id": "1369ac6c-c343-47ad-bba5-f1fed157b49c",
   "metadata": {},
   "outputs": [],
   "source": [
    "top_10 = [10, 85, 81]\n",
    "heatmap_data = df.loc[df[\"ID\"] == top_10[1]]\n",
    "heatmap_data"
   ]
  },
  {
   "cell_type": "markdown",
   "id": "b8c3af42-905d-4573-bfbf-1ebdc922fcdf",
   "metadata": {},
   "source": [
    "Ok idea is:\n",
    "- make a calender df\n",
    "- full merge the above df\n",
    "    - replace NA item with ..?\n",
    "    - or make a boolean column that will be colored if yes? (0 1) \n",
    "- plot month on x and day on y axis "
   ]
  },
  {
   "cell_type": "code",
   "execution_count": null,
   "id": "7b92e6a7-5890-4d65-adf2-199bc3541748",
   "metadata": {},
   "outputs": [],
   "source": [
    "time_df = pd.DataFrame()\n",
    "time_df[\"Date\"] = pd.date_range('2022-12-01', periods=365)\n",
    "time_df[\"Day\"] = time_df[\"Date\"].dt.day_name()\n"
   ]
  },
  {
   "cell_type": "code",
   "execution_count": null,
   "id": "119ac5eb-53cc-4d1e-a449-2608a83f1a03",
   "metadata": {},
   "outputs": [],
   "source": [
    "year = pd.merge(time_df, heatmap_data, how=\"outer\", on=\"Date\")\n",
    "year[\"Item\"] = year[\"Item\"].replace(np.nan, 0) \n",
    "year[\"Bool\"] = np.where(year[\"Item\"] == 0, 0, 1)"
   ]
  },
  {
   "cell_type": "code",
   "execution_count": null,
   "id": "38330553-ee60-44b1-86fa-9b68f4d9a592",
   "metadata": {},
   "outputs": [],
   "source": [
    "year[15:22]"
   ]
  },
  {
   "cell_type": "markdown",
   "id": "118f37c1-5d51-4578-9347-c7b9d90264a7",
   "metadata": {},
   "source": [
    "This is the ugliest plot I have seen in my life"
   ]
  },
  {
   "cell_type": "code",
   "execution_count": null,
   "id": "d345932b-697d-4a88-b15e-35c4725ff30d",
   "metadata": {},
   "outputs": [],
   "source": [
    "weekdays = [\"Sunday\", \"Monday\", \"Tuesday\", \"Wednesday\", \"Thursday\", \"Friday\", \"Sunday\"]\n",
    "alt.Chart(year).mark_rect().encode(\n",
    "    alt.X(\"Date:O\", axis = alt.Axis(labelAngle=-45)), \n",
    "    alt.Y(\"Day\", sort=weekdays), \n",
    "    color=\"Bool\"\n",
    ")"
   ]
  },
  {
   "cell_type": "markdown",
   "id": "1cb80151-e739-40cc-91b3-491e2cbe0b08",
   "metadata": {},
   "source": [
    "I wonder if it would be a better viz to see what months it was worn the most intead?\n",
    "- bc yeah otherwise big x axis \n",
    "\n",
    "package: calmap"
   ]
  },
  {
   "cell_type": "code",
   "execution_count": null,
   "id": "0ca8e827-17ac-415b-bebd-2ac60c90444f",
   "metadata": {},
   "outputs": [],
   "source": [
    "year = year.set_index(\"Date\")"
   ]
  },
  {
   "cell_type": "code",
   "execution_count": null,
   "id": "e8e30b73-966d-41e0-a5d5-8f520e3f2e29",
   "metadata": {},
   "outputs": [],
   "source": [
    "from matplotlib.pyplot import figure\n",
    "\n",
    "figure(figsize=(12, 12))\n",
    "cmap = calmap.yearplot(year[\"Bool\"], cmap='BuPu', fillcolor='lightgray')\n",
    "cmap"
   ]
  },
  {
   "cell_type": "code",
   "execution_count": null,
   "id": "1abfeb45-cea5-46eb-9ed2-a8ebba8aa579",
   "metadata": {},
   "outputs": [],
   "source": [
    "week = time_df[\"Date\"].dt.isocalendar()\n",
    "time_df[\"Week\"] = week[\"week\"]"
   ]
  },
  {
   "cell_type": "code",
   "execution_count": null,
   "id": "d7a788fa-507a-4647-a510-ac13164f9f9d",
   "metadata": {},
   "outputs": [],
   "source": [
    "weekdays = [\"Sunday\", \"Monday\", \"Tuesday\", \"Wednesday\", \"Thursday\", \"Friday\", \"Sunday\"]\n",
    "\n",
    "time_df = pd.DataFrame()\n",
    "time_df[\"Date\"] = pd.date_range('2022-12-01', periods=365)\n",
    "time_df[\"Day\"] = time_df[\"Date\"].dt.day_name()\n",
    "\n",
    "year = pd.merge(time_df, heatmap_data, how=\"outer\", on=\"Date\")\n",
    "year[\"Item\"] = year[\"Item\"].replace(np.nan, 0) \n",
    "year[\"Bool\"] = np.where(year[\"Item\"] == 0, 0, 1)\n",
    "\n",
    "week = time_df[\"Date\"].dt.isocalendar()\n",
    "year[\"Week\"] = week[\"week\"].fillna(52)\n",
    "year[\"Week\"] = year[\"Week\"].fillna(52)\n",
    "\n",
    "year.tail(5)"
   ]
  },
  {
   "cell_type": "code",
   "execution_count": null,
   "id": "7ebc0c34-baac-4e9f-9d79-e6cd0dccdc9c",
   "metadata": {},
   "outputs": [],
   "source": [
    "alt.Chart(year, title=\"Heatmap of Green Totebag Wears\").mark_rect(\n",
    "    stroke=\"white\",\n",
    "    strokeWidth=3,\n",
    "    opacity=0.9\n",
    "    ).encode(\n",
    "    alt.X(\"Week:O\", \n",
    "          axis = alt.Axis(labelAngle=-45)\n",
    "         ), \n",
    "    alt.Y(\"Day\", \n",
    "          sort=weekdays),\n",
    "    alt.Color(\"Bool\", \n",
    "              scale=alt.Scale(scheme='greenblue'),\n",
    "              legend=None\n",
    "             ),\n",
    "    alt.Tooltip([\"Date\", \"Day\"])\n",
    "    ).properties(\n",
    "    height=200,\n",
    "    width=700\n",
    "    )"
   ]
  },
  {
   "cell_type": "code",
   "execution_count": null,
   "id": "00562f72-6ec1-4f94-a009-081c07e5fb37",
   "metadata": {},
   "outputs": [],
   "source": [
    "# scale=alt.Scale(\n",
    "#             domain=[-10,-5,0,5,9], \n",
    "#             range=['red','orange','white','lightblue','darkblue'], \n",
    "#             interpolate=method\n",
    "#             )"
   ]
  },
  {
   "cell_type": "code",
   "execution_count": null,
   "id": "69b70635-4b8e-4b94-b953-b0f2e8a5429d",
   "metadata": {},
   "outputs": [],
   "source": [
    "alt.Chart(year, title=\"Heatmap of Green Totebag Wears\").mark_rect(\n",
    "    stroke=\"white\",\n",
    "    strokeWidth=3,\n",
    "    opacity=0.9,\n",
    "    ).encode(\n",
    "    alt.X(\"Week:O\", \n",
    "          axis = alt.Axis(labelAngle=-45)\n",
    "         ), \n",
    "    alt.Y(\"Day\", \n",
    "          sort=weekdays),\n",
    "    alt.Color(\"Bool\", \n",
    "            scale=alt.Scale(\n",
    "                domain=[0,1], \n",
    "                range=[\"#e0ddd5\", \"#7c9e7b\"]),\n",
    "                legend=None\n",
    "             ),\n",
    "    alt.Tooltip([\"Date\", \"Day\"])\n",
    "    ).properties(\n",
    "    height=200,\n",
    "    width=600\n",
    "    )"
   ]
  },
  {
   "cell_type": "code",
   "execution_count": null,
   "id": "7a37b8db-4db3-4d03-a38d-305424231fa3",
   "metadata": {},
   "outputs": [],
   "source": [
    "year.iloc[16:18]"
   ]
  },
  {
   "cell_type": "markdown",
   "id": "605a4dc1-bf30-4159-8517-0e73807be48b",
   "metadata": {},
   "source": [
    "idea: fix week x axis to dates\n",
    "- also what happened dec 18th lol"
   ]
  },
  {
   "cell_type": "markdown",
   "id": "64e6b0b9-199d-4087-8179-6fab905f89a9",
   "metadata": {},
   "source": [
    "oh I think if the x axis is by week then everything will look better"
   ]
  },
  {
   "cell_type": "code",
   "execution_count": null,
   "id": "7f0860d2-be86-4aff-ac08-ec8b2a478572",
   "metadata": {},
   "outputs": [],
   "source": [
    "year['First_day'] = year['Date'] - year['Date'].dt.weekday * np.timedelta64(1, 'D')\n",
    "\n",
    "# year[\"Week2\"] = year[\"Week\"].fillna(52)\n",
    "\n",
    "year"
   ]
  },
  {
   "cell_type": "code",
   "execution_count": null,
   "id": "20b7de30-d77a-4100-befb-de8df63744a9",
   "metadata": {},
   "outputs": [],
   "source": [
    "alt.Chart(year, title=\"Heatmap of Green Totebag Wears\").mark_rect(\n",
    "    stroke=\"white\",\n",
    "    strokeWidth=3,\n",
    "    opacity=0.9,\n",
    "    ).encode(\n",
    "    alt.X(\"First_day:O\", \n",
    "          axis = alt.Axis(labelAngle=-45,                         )\n",
    "         ), \n",
    "    alt.Y(\"Day\", \n",
    "          sort=weekdays),\n",
    "    alt.Color(\"Bool\", \n",
    "            scale=alt.Scale(\n",
    "                domain=[0,1], \n",
    "                range=[\"#e0ddd5\", \"#7c9e7b\"]),\n",
    "                legend=None\n",
    "             ),\n",
    "    alt.Tooltip([\"Date\", \"Day\"])\n",
    "    ).properties(\n",
    "    height=200,\n",
    "    width=600\n",
    "    )"
   ]
  },
  {
   "cell_type": "code",
   "execution_count": null,
   "id": "88f12fe9-5190-4940-95d5-90cf84b5d371",
   "metadata": {},
   "outputs": [],
   "source": [
    "week = time_df[\"Date\"].dt.strftime('%m-%d-%y')"
   ]
  },
  {
   "cell_type": "code",
   "execution_count": null,
   "id": "08475359-fea2-499b-b579-68543fcc1125",
   "metadata": {},
   "outputs": [],
   "source": [
    "week = time_df[\"Date\"].dt.strftime('%m-%d-%y')\n",
    "year['D'] = time_df[\"Date\"].dt.strftime('%m-%d-%y')\n"
   ]
  },
  {
   "cell_type": "code",
   "execution_count": null,
   "id": "fdd9c1d4-6b68-42ff-99bc-91d4344ecb95",
   "metadata": {},
   "outputs": [],
   "source": [
    "year[\"Week\"] = year[\"First_day\"].dt.strftime('%m-%d-%y')\n",
    "year"
   ]
  },
  {
   "cell_type": "code",
   "execution_count": null,
   "id": "19acc22f-5d7f-4a9e-aa8a-aa0fe9236bdc",
   "metadata": {},
   "outputs": [],
   "source": [
    "weekdays = [\"Sunday\", \"Monday\", \"Tuesday\", \"Wednesday\", \"Thursday\", \"Friday\", \"Sunday\"]\n",
    "\n",
    "alt.Chart(year, title=\"Heatmap of Green Totebag Wears\").mark_rect(\n",
    "    stroke=\"white\",\n",
    "    strokeWidth=3,\n",
    "    opacity=0.9,\n",
    "    ).encode(\n",
    "    alt.X(\"Week:O\", \n",
    "          axis = alt.Axis(labelAngle=-45,                         )\n",
    "         ), \n",
    "    alt.Y(\"Day\", \n",
    "          sort=weekdays),\n",
    "    alt.Color(\"Bool\", \n",
    "            scale=alt.Scale(\n",
    "                domain=[0,1], \n",
    "                range=[\"#e0ddd5\", \"#7c9e7b\"]),\n",
    "                legend=None\n",
    "             ),\n",
    "    alt.Tooltip([\"Date\", \"Day\"])\n",
    "    ).properties(\n",
    "    height=200,\n",
    "    width=600\n",
    "    )"
   ]
  },
  {
   "cell_type": "markdown",
   "id": "ce7cf2d8-2660-4c71-8fa9-973022e68519",
   "metadata": {
    "tags": []
   },
   "source": [
    "## Testing out and fixing for function"
   ]
  },
  {
   "cell_type": "code",
   "execution_count": null,
   "id": "0e6a7126-cd5a-4e09-99a1-114a1a562acf",
   "metadata": {},
   "outputs": [],
   "source": [
    "# read in Google Form data\n",
    "path = \"../data/2023TestData.csv\"\n",
    "df = pd.read_csv(path).drop(\"Timestamp\", axis=1).melt(\"Date\").dropna()\n",
    "df[\"Date\"] = pd.to_datetime(df[\"Date\"])\n",
    "df[\"ID\"] = df.value.str.extract('(\\d+)').astype(int)\n",
    "\n",
    "# column of day of week for one calender year \n",
    "time_df = pd.DataFrame()\n",
    "time_df[\"Date\"] = pd.date_range(df[\"Date\"].min(), periods=365) \n",
    "time_df[\"Day\"] = time_df[\"Date\"].dt.day_name()\n",
    "\n",
    "# merge dataframes\n",
    "df = pd.merge(closet, df, how=\"right\", on=\"ID\")\n",
    "df = df[[\"ID\", \"Item\", \"Color\", \"Pattern\", \"Category\", \"Date\"]]\n",
    "\n",
    "# select item \n",
    "top_10 = [10, 85, 81] # need to make this dynamic!! \n",
    "heatmap_data = df.loc[df[\"ID\"] == top_10[1]]\n",
    "\n",
    "year = pd.merge(time_df, heatmap_data, how=\"outer\", on=\"Date\")\n",
    "year[\"Item\"] = year[\"Item\"].replace(np.nan, 0) \n",
    "year[\"Bool\"] = np.where(year[\"Item\"] == 0, 0, 1)\n",
    "\n",
    "weekdays = [\"Sunday\", \"Monday\", \"Tuesday\", \"Wednesday\", \"Thursday\", \"Friday\", \"Sunday\"]\n",
    "\n",
    "week = time_df[\"Date\"].dt.isocalendar()\n",
    "year[\"Week\"] = week[\"week\"].fillna(52)\n",
    "year[\"Week\"] = year[\"Week\"].fillna(52)\n",
    "year['First_day'] = year['Date'] - year['Date'].dt.weekday * np.timedelta64(1, 'D')\n",
    "\n",
    "week = time_df[\"Date\"].dt.strftime('%m-%d-%y')\n",
    "year[\"Week\"] = year[\"First_day\"].dt.strftime('%m-%d-%y')\n",
    "\n",
    "\n",
    "year.tail(5)"
   ]
  },
  {
   "cell_type": "markdown",
   "id": "028dea94-5aae-4222-89d9-b14fb0f00e57",
   "metadata": {},
   "source": [
    "Ok not totally dynamic but the actual selection will change in plot"
   ]
  },
  {
   "cell_type": "code",
   "execution_count": null,
   "id": "4e5c18d2-c34a-4b9c-842f-a70c5e4c0a9f",
   "metadata": {},
   "outputs": [],
   "source": [
    "closet = sww.closet_df()\n",
    "worn_df = sww.complete_df(closet)\n",
    "most_worn = worn_df.nlargest(10, columns=\"Count\")\n",
    "\n",
    "top_10 = most_worn[\"Count\"].to_list() \n",
    "heatmap_data = df.loc[df[\"ID\"] == top_10[1]] # need to make this dynamic in plot"
   ]
  },
  {
   "cell_type": "code",
   "execution_count": null,
   "id": "d613ac71-18b8-430c-b263-296b049315e7",
   "metadata": {},
   "outputs": [],
   "source": [
    "# read in Google Form data\n",
    "def top_10_df(path = \"../data/2023TestData.csv\"):\n",
    "    \"\"\"\n",
    "    Function to return IDs and counts of top 10 most worn items.\n",
    "    \n",
    "    Parameters:\n",
    "    -----------\n",
    "         path : str\n",
    "            Path to CSV file containing closet information.\n",
    "    \n",
    "    Returns:\n",
    "    --------\n",
    "        top_10 : list\n",
    "            List containing the IDs of the top 10 most worn items.\n",
    "        \n",
    "        df : pandas.DataFrame\n",
    "            Dataframe containing data only for top 10 most worn items.\n",
    "    \"\"\"\n",
    "    df = pd.read_csv(path).drop(\"Timestamp\", axis=1).melt(\"Date\").dropna()\n",
    "    df[\"Date\"] = pd.to_datetime(df[\"Date\"])\n",
    "    df[\"ID\"] = df.value.str.extract('(\\d+)').astype(int)\n",
    "\n",
    "    # data wrangling to select top 10 most worn items\n",
    "    closet = sww.closet_df()\n",
    "    worn_df = sww.complete_df(closet)\n",
    "    most_worn = worn_df.nlargest(10, columns=\"Count\")\n",
    "    \n",
    "    # merge dataframes\n",
    "    df = pd.merge(closet, df, how=\"right\", on=\"ID\")\n",
    "    df = df[[\"ID\", \"Item\", \"Color\", \"Pattern\", \"Category\", \"Date\", \"Brand\"]]\n",
    "\n",
    "    top_10 = most_worn[\"ID\"].to_list() \n",
    " \n",
    "    return top_10, df\n"
   ]
  },
  {
   "cell_type": "code",
   "execution_count": null,
   "id": "332bc642-2eaf-4225-8211-d85e113d214f",
   "metadata": {},
   "outputs": [],
   "source": [
    "def plot_heatmap(df, top_10, i=0):\n",
    "    \"\"\"\n",
    "    Function for heatmap plot.\n",
    "    \n",
    "    Parameters:\n",
    "    -----------\n",
    "         df : pandas.DataFrame   \n",
    "         \n",
    "         top_10 : list\n",
    "            List containing the IDs of the top 10 most worn items.\n",
    "         \n",
    "    Returns:\n",
    "    --------\n",
    "        heatplot : altair.Chart\n",
    "            Heatmap plot for a single item over a single calender year. \n",
    "             \n",
    "    \"\"\"\n",
    "    \n",
    "    # column of day of week for one calender year \n",
    "    time_df = pd.DataFrame()\n",
    "    time_df[\"Date\"] = pd.date_range(df[\"Date\"].min(), periods=365) \n",
    "    time_df[\"Day\"] = time_df[\"Date\"].dt.day_name()\n",
    "    \n",
    "    \n",
    "    heatmap_data = df.loc[df[\"ID\"] == top_10[i]] # need to make this dynamic in plot\n",
    "    item_name = heatmap_data[\"Brand\"].iloc[0] + \" \" + heatmap_data[\"Item\"].iloc[0]\n",
    "    \n",
    "    # isolate item data\n",
    "    year = pd.merge(time_df, heatmap_data, how=\"outer\", on=\"Date\")\n",
    "    year[\"Item\"] = year[\"Item\"].replace(np.nan, 0) \n",
    "    year[\"Bool\"] = np.where(year[\"Item\"] == 0, 0, 1)\n",
    "\n",
    "    # this is horrible to read lol\n",
    "    # wrangling for prettier plotting \n",
    "    week = time_df[\"Date\"].dt.isocalendar()\n",
    "    year[\"Week\"] = week[\"week\"].fillna(52)\n",
    "    year[\"Week\"] = year[\"Week\"].fillna(52)\n",
    "    year['First_day'] = year['Date'] - year['Date'].dt.weekday * np.timedelta64(1, 'D')\n",
    "    week = time_df[\"Date\"].dt.strftime('%m-%d-%y')\n",
    "    year[\"Week\"] = year[\"First_day\"].dt.strftime('%m-%d')\n",
    "    year = year[[\"Date\", \"Day\", \"Item\", \"ID\", \"Bool\", \"Week\"]]\n",
    "\n",
    "    weekdays = [\"Sunday\", \"Monday\", \"Tuesday\", \"Wednesday\", \"Thursday\", \"Friday\", \"Sunday\"]\n",
    "\n",
    "    heat_plot = alt.Chart(year, title=f\"{item_name} in 2023\").mark_rect(\n",
    "    stroke=\"white\",\n",
    "    strokeWidth=3,\n",
    "    opacity=0.9,\n",
    "    ).encode(\n",
    "    alt.X(\"Week:O\", \n",
    "          axis = alt.Axis(labelAngle=-60,                         )\n",
    "         ), \n",
    "    alt.Y(\"Day\", \n",
    "          sort=weekdays),\n",
    "    alt.Color(\"Bool\", \n",
    "            scale=alt.Scale(\n",
    "                domain=[0,1], \n",
    "                range=[\"#e0ddd5\", \"#7c9e7b\"]),\n",
    "                legend=None\n",
    "             ),\n",
    "    alt.Tooltip([\"Date\", \"Day\"])\n",
    "    ).properties(\n",
    "    height=200,\n",
    "    width=600\n",
    "    )\n",
    "    return heat_plot\n"
   ]
  },
  {
   "cell_type": "code",
   "execution_count": null,
   "id": "33e7e5a5-9796-4bf2-bd22-19bfa7313182",
   "metadata": {},
   "outputs": [],
   "source": [
    "top_10, df = top_10_df()\n",
    "plot = plot_heatmap(df, top_10,i=5)\n",
    "plot"
   ]
  },
  {
   "cell_type": "markdown",
   "id": "a03b653e-c5fa-4df5-9fac-abaf5ee62a79",
   "metadata": {},
   "source": [
    "## Finalized plots"
   ]
  },
  {
   "cell_type": "code",
   "execution_count": null,
   "id": "9e471648-84b9-4286-9b2f-aa1fe376ae51",
   "metadata": {},
   "outputs": [],
   "source": [
    "# read in Google Form data\n",
    "def plot_mostworn():\n",
    "    most_worn = worn_df.nlargest(15, columns=\"Count\")\n",
    "    closet_comp = alt.Chart(most_worn, title=\"2023 Most Worn Pieces\"\n",
    "                       ).mark_bar(color=\"#6ce4d8\"\n",
    "                         ).encode(alt.X(\"Name\",\n",
    "                                        title=\"\",\n",
    "                                        axis=alt.Axis(labelAngle=-45), \n",
    "                                        sort=\"-y\"),\n",
    "                                  alt.Y(\"Count\", \n",
    "                                        title=\"Times Worn\",\n",
    "                                        axis=alt.Axis(tickMinStep=1)),\n",
    "                                  alt.Tooltip(\"Count\")\n",
    "                                 ).configure_axis(grid=False, domain=False)\n",
    "                \n",
    "    return closet_comp\n",
    "\n",
    "def plot_facet():\n",
    "    \n",
    "    categories = [\"Top\", \"Bottom\", \"Full Body\", \"Outerwear\", \"Accessory\", \"Shoes\"]\n",
    "\n",
    "    cat_plots = []\n",
    "\n",
    "    for i in categories:\n",
    "        category_worn = worn_df.loc[worn_df[\"Category\"] == i].nlargest(5, columns=\"Count\")\n",
    "\n",
    "        category_plot = alt.Chart(category_worn, title=f\"2023 Most Worn {i}\"\n",
    "                           ).mark_bar(color=\"#827191\",\n",
    "                           ).encode(alt.X(\"Name\", title=\"\", axis=alt.Axis(labelAngle=-45), sort=\"-y\"),\n",
    "                                    alt.Y(\"Count\", \n",
    "                                    title=\"# of Times Worn\",\n",
    "                                    axis=alt.Axis(tickMinStep=1)),\n",
    "                                    alt.Tooltip([\"Name\", \"Count\"])\n",
    "                            ).properties(\n",
    "                                height=200,\n",
    "                                width=150\n",
    "                                )\n",
    "        cat_plots.append(category_plot)\n",
    "\n",
    "    # configure altair charts\n",
    "    row1 = alt.hconcat(cat_plots[0], cat_plots[1], cat_plots[2])\n",
    "    row2 = alt.hconcat(cat_plots[3], cat_plots[4], cat_plots[5])\n",
    "\n",
    "    category_plot = alt.vconcat(row1, row2).configure_axis(grid=False, domain=False)\n",
    "    return category_plot\n",
    "\n",
    "def top_10_df(path = \"../data/2023TestData.csv\"):\n",
    "    \"\"\"\n",
    "    Function to return IDs and counts of top 10 most worn items.\n",
    "    \n",
    "    Parameters:\n",
    "    -----------\n",
    "         path : str\n",
    "            Path to CSV file containing closet information.\n",
    "    \n",
    "    Returns:\n",
    "    --------\n",
    "        top_10 : list\n",
    "            List containing the IDs of the top 10 most worn items.\n",
    "        \n",
    "        df : pandas.DataFrame\n",
    "            Dataframe containing data only for top 10 most worn items.\n",
    "    \"\"\"\n",
    "    df = pd.read_csv(path).drop(\"Timestamp\", axis=1).melt(\"Date\").dropna()\n",
    "    df[\"Date\"] = pd.to_datetime(df[\"Date\"])\n",
    "    df[\"ID\"] = df.value.str.extract('(\\d+)').astype(int)\n",
    "\n",
    "    # data wrangling to select top 10 most worn items\n",
    "    closet = sww.closet_df()\n",
    "    worn_df = sww.complete_df(closet)\n",
    "    most_worn = worn_df.nlargest(10, columns=\"Count\")\n",
    "    \n",
    "    # merge dataframes\n",
    "    df = pd.merge(closet, df, how=\"right\", on=\"ID\")\n",
    "    df = df[[\"ID\", \"Item\", \"Color\", \"Pattern\", \"Category\", \"Date\", \"Brand\"]]\n",
    "\n",
    "    top_10 = most_worn[\"ID\"].to_list() \n",
    " \n",
    "    return top_10, df\n",
    "\n",
    "\n",
    "def plot_heatmap(df, top_10, i=0):\n",
    "    \"\"\"\n",
    "    Function for heatmap plot.\n",
    "    \n",
    "    Parameters:\n",
    "    -----------\n",
    "         df : pandas.DataFrame   \n",
    "         \n",
    "         top_10 : list\n",
    "            List containing the IDs of the top 10 most worn items.\n",
    "         \n",
    "    Returns:\n",
    "    --------\n",
    "        heatplot : altair.Chart\n",
    "            Heatmap plot for a single item over a single calender year. \n",
    "             \n",
    "    \"\"\"\n",
    "    \n",
    "    # column of day of week for one calender year \n",
    "    time_df = pd.DataFrame()\n",
    "    time_df[\"Date\"] = pd.date_range(df[\"Date\"].min(), periods=365) \n",
    "    time_df[\"Day\"] = time_df[\"Date\"].dt.day_name()\n",
    "    \n",
    "    \n",
    "    heatmap_data = df.loc[df[\"ID\"] == top_10[i]] # need to make this dynamic in plot\n",
    "    item_name = heatmap_data[\"Brand\"].iloc[0] + \" \" + heatmap_data[\"Item\"].iloc[0]\n",
    "    \n",
    "    # isolate item data\n",
    "    year = pd.merge(time_df, heatmap_data, how=\"outer\", on=\"Date\")\n",
    "    year[\"Item\"] = year[\"Item\"].replace(np.nan, 0) \n",
    "    year[\"Bool\"] = np.where(year[\"Item\"] == 0, 0, 1)\n",
    "\n",
    "    # this is horrible to read lol\n",
    "    # wrangling for prettier plotting \n",
    "    week = time_df[\"Date\"].dt.isocalendar()\n",
    "    year[\"Week\"] = week[\"week\"].fillna(52)\n",
    "    year[\"Week\"] = year[\"Week\"].fillna(52)\n",
    "    year['First_day'] = year['Date'] - year['Date'].dt.weekday * np.timedelta64(1, 'D')\n",
    "    week = time_df[\"Date\"].dt.strftime('%m-%d-%y')\n",
    "    year[\"Week\"] = year[\"First_day\"].dt.strftime('%m-%d')\n",
    "    year = year[[\"Date\", \"Day\", \"Item\", \"ID\", \"Bool\", \"Week\"]]\n",
    "\n",
    "    weekdays = [\"Sunday\", \"Monday\", \"Tuesday\", \"Wednesday\", \"Thursday\", \"Friday\", \"Sunday\"]\n",
    "\n",
    "    heat_plot = alt.Chart(year, title=f\"{item_name} in 2023\").mark_rect(\n",
    "    stroke=\"white\",\n",
    "    strokeWidth=3,\n",
    "    opacity=0.9,\n",
    "    ).encode(\n",
    "    alt.X(\"Week:O\", \n",
    "          axis = alt.Axis(labelAngle=-60,                         )\n",
    "         ), \n",
    "    alt.Y(\"Day\", \n",
    "          sort=weekdays,\n",
    "         title=\"\"),\n",
    "    alt.Color(\"Bool\", \n",
    "            scale=alt.Scale(\n",
    "                domain=[0,1], \n",
    "                range=[\"#e0ddd5\", \"#74a675\"]),\n",
    "                legend=None\n",
    "             ),\n",
    "    alt.Tooltip([\"Date\", \"Day\"])\n",
    "    ).properties(\n",
    "    height=200,\n",
    "    width=600\n",
    "    ).configure_axis(grid=False, domain=False)\n",
    "    return heat_plot\n"
   ]
  },
  {
   "cell_type": "code",
   "execution_count": null,
   "id": "447d180a-6560-418f-b4f4-97bf47676bc3",
   "metadata": {},
   "outputs": [],
   "source": [
    "plot_mostworn()"
   ]
  },
  {
   "cell_type": "code",
   "execution_count": null,
   "id": "0583c644-c3e6-4bbc-a16c-a33f0a4eb725",
   "metadata": {},
   "outputs": [],
   "source": [
    "plot_facet()"
   ]
  },
  {
   "cell_type": "code",
   "execution_count": null,
   "id": "ea2b26ea-a78f-4cd8-8e8b-63ebbab145c2",
   "metadata": {},
   "outputs": [],
   "source": [
    "plot_heatmap(df, top_10)"
   ]
  },
  {
   "cell_type": "markdown",
   "id": "9a4a3e10-f969-4a65-ab2d-9f529b88e180",
   "metadata": {},
   "source": [
    "TO DO NEXT:\n",
    "- fix the concat'd function to plot y =\"count\"\n",
    "- color scheme of plots \n",
    "    - `range=[\"#e0ddd5\", \"#7c9e7b\"]` green/warm gray heatmap\n",
    "- [\"#bb8c9d\",\"#9a8ca6\",\"#8ba88a\",\"#5bccc1\",\"#e0ddd5\"]\n"
   ]
  },
  {
   "cell_type": "markdown",
   "id": "cd4817be-c696-4271-a728-dcc3c9994753",
   "metadata": {},
   "source": [
    "# Note to self \n",
    "- maybe add ID into google sheet for easier merging later?\n",
    "\n",
    "IDEA: \n",
    "- is there anyway to read google sheet data in automatically? its a pain to download everytime for testing"
   ]
  },
  {
   "cell_type": "code",
   "execution_count": null,
   "id": "9494e306-1362-4bea-a0d7-d404b17e1f66",
   "metadata": {},
   "outputs": [],
   "source": []
  }
 ],
 "metadata": {
  "kernelspec": {
   "display_name": "Python 3 (ipykernel)",
   "language": "python",
   "name": "python3"
  },
  "language_info": {
   "codemirror_mode": {
    "name": "ipython",
    "version": 3
   },
   "file_extension": ".py",
   "mimetype": "text/x-python",
   "name": "python",
   "nbconvert_exporter": "python",
   "pygments_lexer": "ipython3",
   "version": "3.9.7"
  }
 },
 "nbformat": 4,
 "nbformat_minor": 5
}
