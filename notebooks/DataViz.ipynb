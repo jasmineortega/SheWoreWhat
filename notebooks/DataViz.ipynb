{
 "cells": [
  {
   "cell_type": "markdown",
   "id": "4362ad17-ddf1-4410-80e0-1638d501006e",
   "metadata": {},
   "source": [
    "# Data viz ideas"
   ]
  },
  {
   "cell_type": "markdown",
   "id": "b59f125d-f380-42ea-8190-a43b4cb8d941",
   "metadata": {
    "tags": []
   },
   "source": [
    "## There's two main parts to this:\n",
    "1) Dashboard building\n",
    "2) Actual plots and such \n",
    "    - Most worn items per category \n",
    "    - Top colors worn\n",
    "    - Parse data by season (winter/spring/summer/fall)"
   ]
  },
  {
   "cell_type": "code",
   "execution_count": 3,
   "id": "63ed3817-71ad-4764-b2e7-954cef835989",
   "metadata": {},
   "outputs": [
    {
     "data": {
      "text/plain": [
       "DataTransformerRegistry.enable('default')"
      ]
     },
     "execution_count": 3,
     "metadata": {},
     "output_type": "execute_result"
    }
   ],
   "source": [
    "from dash import Dash, html, dcc, Input, Output\n",
    "import altair as alt\n",
    "import dash_bootstrap_components as dbc\n",
    "import pandas as pd\n",
    "import numpy as np\n",
    "import matplotlib as plt\n",
    "from matplotlib.pyplot import figure\n",
    "\n",
    "import datetime\n",
    "import calmap\n",
    "import sheworewhat as sww\n",
    "\n",
    "alt.data_transformers.disable_max_rows()\n",
    "# alt.renderers.enable('notebook')"
   ]
  },
  {
   "cell_type": "code",
   "execution_count": null,
   "id": "db2a3a5f-6b90-4d69-bce7-0c54d68e83c4",
   "metadata": {},
   "outputs": [],
   "source": [
    "closet = sww.closet_df()\n",
    "\n",
    "closet"
   ]
  },
  {
   "cell_type": "code",
   "execution_count": null,
   "id": "6d9de3e5-4288-46b0-bdfc-febc1dab85ab",
   "metadata": {},
   "outputs": [],
   "source": [
    "acc_df, bottom_df, fb_df, out_df, shoes_df, top_df = sww.closet_cat(closet)\n",
    "\n",
    "acc_df.tail(5)"
   ]
  },
  {
   "cell_type": "markdown",
   "id": "0ec518b5-810f-4425-98af-346cd43addf1",
   "metadata": {
    "jp-MarkdownHeadingCollapsed": true,
    "tags": []
   },
   "source": [
    "## Closet EDA\n",
    "- What percentage of my closet is new vs. secondhand?"
   ]
  },
  {
   "cell_type": "code",
   "execution_count": null,
   "id": "b5d1ed4a-b405-4483-a3de-f9ed0ddff456",
   "metadata": {},
   "outputs": [],
   "source": [
    "closet_count = closet.groupby(by=\"Bought\").count()\n",
    "closet_count"
   ]
  },
  {
   "cell_type": "code",
   "execution_count": null,
   "id": "038976e7-40c6-42b1-9b19-abb257b5f412",
   "metadata": {},
   "outputs": [],
   "source": [
    "closet_n = closet.groupby([\"Bought\"])[[\"Bought\"]].agg('count').rename(columns={\"Bought\" : \"N\"}).reset_index()\n",
    "closet_n[\"Percent\"] = (closet_n['N'] / len(closet))\n",
    "closet_n"
   ]
  },
  {
   "cell_type": "markdown",
   "id": "5b0c5cb6-d60e-4dcd-b112-0c3ff5e2d7c6",
   "metadata": {},
   "source": [
    "Should I do just secondhand? then breakdown the secondhand"
   ]
  },
  {
   "cell_type": "code",
   "execution_count": null,
   "id": "e88c5ad9-24b1-442a-8c59-7f205ad280d3",
   "metadata": {},
   "outputs": [],
   "source": [
    "closet_n = closet.groupby([\"Bought\"])[[\"Bought\"]].agg('count').rename(columns={\"Bought\" : \"N\"}).reset_index()\n",
    "closet_n[\"Percent\"] = (closet_n['N'] / len(closet))\n",
    "\n",
    "closet_n[\"Status\"] = closet_n[\"Bought\"].str.split(\",\").str[1]\n",
    "closet_n = closet_n.replace(np.nan, \"New\")\n",
    "\n",
    "closet_comp = alt.Chart(closet_n, title=\"Closet Composition\"\n",
    "                       ).mark_bar(color=\"Maroon\"\n",
    "                         ).encode(alt.X(\"Bought\", axis=alt.Axis(labelAngle=-45), sort='-y'),\n",
    "                                  alt.Y(\"Percent\", axis=alt.Axis(format='%'),),\n",
    "                                  alt.Tooltip(\"Percent\", format=\",.2f\"),\n",
    "                                  color=alt.condition(\n",
    "                                    alt.datum.year == \"New\",\n",
    "                                    alt.value('orange'),\n",
    "                                    alt.value('maroon')   \n",
    "                                    )\n",
    "                                 )\n",
    "                \n",
    "closet_comp"
   ]
  },
  {
   "cell_type": "code",
   "execution_count": null,
   "id": "9d898dbe-20a1-433a-9fcc-583983ec29d1",
   "metadata": {},
   "outputs": [],
   "source": [
    "closet_n = closet.groupby([\"Bought\"])[[\"Bought\"]].agg('count').rename(columns={\"Bought\" : \"N\"}).reset_index()\n",
    "closet_n[\"Percent\"] = (closet_n['N'] / len(closet))\n",
    "\n",
    "closet_n[\"Purchased\"] = closet_n[\"Bought\"].str.split(\",\").str[0]\n",
    "closet_n[\"Status\"] = closet_n[\"Bought\"].str.split(\",\").str[1]\n",
    "closet_n = closet_n.replace(np.nan, \"New\")\n",
    "\n",
    "closet_n"
   ]
  },
  {
   "cell_type": "code",
   "execution_count": null,
   "id": "4a61765c-ae8b-486c-a272-f1406f70ac5b",
   "metadata": {},
   "outputs": [],
   "source": [
    "closet_n.groupby([\"Purchased\"]).count()"
   ]
  },
  {
   "cell_type": "code",
   "execution_count": null,
   "id": "52c0e199-cbb0-4afc-854e-83911fcd870b",
   "metadata": {},
   "outputs": [],
   "source": [
    "# new vs secondhand only plot\n",
    "closet_comp = alt.Chart(closet_n, title=\"Closet Composition\"\n",
    "                       ).mark_bar(color=\"Maroon\"\n",
    "                         ).encode(alt.X(\"Bought\", axis=alt.Axis(labelAngle=-45), sort='-y'),\n",
    "                                  alt.Y(\"Percent\", axis=alt.Axis(format='%'),),\n",
    "                                  alt.Tooltip(\"Percent\", format=\",.2f\"),\n",
    "                                  color=alt.condition(\n",
    "                                    alt.datum.year == \"New\",\n",
    "                                    alt.value('orange'),\n",
    "                                    alt.value('maroon')   \n",
    "                                    )\n",
    "                                 )\n",
    "                \n",
    "closet_comp"
   ]
  },
  {
   "cell_type": "markdown",
   "id": "0f632240-a085-4620-9314-558abf945795",
   "metadata": {
    "tags": []
   },
   "source": [
    "## clean and merge data\n",
    "- need function to clean, merge, do counts and stuff for collected data"
   ]
  },
  {
   "cell_type": "code",
   "execution_count": null,
   "id": "5941ce52-e54d-468b-b21b-a209387560b6",
   "metadata": {},
   "outputs": [],
   "source": [
    "path = \"../data/2023TestData.csv\"\n",
    "\n",
    "df = pd.read_csv(path)\n",
    "df"
   ]
  },
  {
   "cell_type": "markdown",
   "id": "1a7f0fcd-d701-4c08-b8b1-202987184dd1",
   "metadata": {},
   "source": [
    "We don't need the timestamp, its redundant and easier to just use date"
   ]
  },
  {
   "cell_type": "code",
   "execution_count": null,
   "id": "c24e8082-2365-4370-8a60-c1426723e972",
   "metadata": {},
   "outputs": [],
   "source": [
    "df.iloc[:, 1:]"
   ]
  },
  {
   "cell_type": "code",
   "execution_count": null,
   "id": "dc63cc85-35ce-485b-9620-4a2746458d32",
   "metadata": {},
   "outputs": [],
   "source": [
    "df.drop(\"Timestamp\", axis=1)"
   ]
  },
  {
   "cell_type": "markdown",
   "id": "8cf12373-188b-4681-bc83-44892badaee8",
   "metadata": {},
   "source": [
    "two things: would be useful to have counts and also the dates in a list per item"
   ]
  },
  {
   "cell_type": "markdown",
   "id": "107c959a-8091-4089-90d5-8752d3a56369",
   "metadata": {},
   "source": [
    "Need to be able to handle multiple items in a single category (layering, etc)\n",
    "- doesnt make sense to edit google sheet because layering can happen with all categories"
   ]
  },
  {
   "cell_type": "code",
   "execution_count": null,
   "id": "ed568cbc-3825-4e3d-b30d-7a9331473530",
   "metadata": {},
   "outputs": [],
   "source": [
    "path = \"../data/2023TestData.csv\"\n",
    "\n",
    "df = pd.read_csv(path).drop(\"Timestamp\", axis=1).melt(\"Date\").dropna()\n",
    "\n",
    "df"
   ]
  },
  {
   "cell_type": "code",
   "execution_count": null,
   "id": "e05011d4-9335-4580-bda4-15d47ca47887",
   "metadata": {},
   "outputs": [],
   "source": [
    "df.groupby(\"value\").count()"
   ]
  },
  {
   "cell_type": "code",
   "execution_count": null,
   "id": "fa4f24e9-5d85-49ab-9cbe-acd7cb63b203",
   "metadata": {},
   "outputs": [],
   "source": [
    "df[\"test0\"] = df[\"value\"].str.split(\",\").str[0]\n",
    "df[\"test1\"] = df[\"value\"].str.split(\",\").str[1]\n",
    "df.head(3)"
   ]
  },
  {
   "cell_type": "markdown",
   "id": "3e2f7640-4415-4f53-b41e-e97771980763",
   "metadata": {},
   "source": [
    "ugh maybe this can be reformatted somehow for easier parsing; also i dont love how the format is now\n",
    "\n",
    "OR \n",
    "maybe if column contains more than 1 number, split it i\n",
    "\n",
    "IDEA:\n",
    "- GOOGLE SHEET FORM: ID ITEM - COLOR\n",
    "- then multiple selections can be parse via \",\" in the sheet"
   ]
  },
  {
   "cell_type": "code",
   "execution_count": null,
   "id": "e4d72974-95e5-4387-b63a-f1fbf031d1a7",
   "metadata": {},
   "outputs": [],
   "source": [
    "# def closet\n",
    "path = \"../data/2023TestData.csv\"\n",
    "\n",
    "df = pd.read_csv(path).drop(\"Timestamp\", axis=1).melt(\"Date\").dropna()\n",
    "\n",
    "# extract ID number from value\n",
    "df[\"ID\"] = df.value.str.extract('(\\d+)').astype(int)\n",
    "\n",
    "closet_counts = df.groupby([\"value\", \"ID\"]).count().reset_index().rename(columns={\"Date\":\"count\"}).drop([\"variable\"],axis=1)\n",
    "\n",
    "closet_counts\n",
    "\n",
    "# left join closet + df\n",
    "x = pd.merge(closet, closet_counts, how=\"left\", on=\"ID\")\n",
    "x"
   ]
  },
  {
   "cell_type": "code",
   "execution_count": null,
   "id": "7ca03601-50d2-4d47-90c6-19026b03daca",
   "metadata": {},
   "outputs": [],
   "source": [
    "x = pd.merge(closet, df, on=\"ID\")\n"
   ]
  },
  {
   "cell_type": "code",
   "execution_count": null,
   "id": "c5b58a3b-7c16-4be7-b4f9-ddb66eca2711",
   "metadata": {},
   "outputs": [],
   "source": [
    "closet_counts = df.groupby([\"value\"]).count().reset_index().rename(columns={\"Date\":\"count\"}).drop([\"ID\", \"variable\"],axis=1)\n",
    "closet_counts"
   ]
  },
  {
   "cell_type": "code",
   "execution_count": null,
   "id": "479ed28a-9a61-420e-8ae5-6eae02398335",
   "metadata": {},
   "outputs": [],
   "source": [
    "closet_comp = alt.Chart(closet_counts, title=\"2023 Most Worn Pieces\"\n",
    "                       ).mark_bar(color=\"Maroon\"\n",
    "                         ).encode(alt.X(\"value\", axis=alt.Axis(labelAngle=-45), sort='-y'),\n",
    "                                  alt.Y(\"count\",),\n",
    "                                  alt.Tooltip(\"value\", format=\",.2f\"),\n",
    "                                  color=alt.condition(\n",
    "                                    alt.datum.year == \"New\",\n",
    "                                    alt.value('orange'),\n",
    "                                    alt.value('maroon')   \n",
    "                                    )\n",
    "                                 )\n",
    "                \n",
    "closet_comp"
   ]
  },
  {
   "cell_type": "markdown",
   "id": "38d09ada-0a3d-46c7-b4a2-608d38e62893",
   "metadata": {
    "tags": []
   },
   "source": [
    "## Basic Wrangling Function\n",
    "1. takes in google form data\n",
    "2. counts how many of each item logged\n",
    "3. left joins with closet data"
   ]
  },
  {
   "cell_type": "code",
   "execution_count": null,
   "id": "9f9b4fa2-9a13-4666-a9a1-cb82baaa741a",
   "metadata": {},
   "outputs": [],
   "source": [
    "def complete_df(closet, path=\"../data/2023TestData.csv\"):\n",
    "    \"\"\"\n",
    "    Function to merge raw closet data and collected 2023 data.\n",
    "    \n",
    "    Parameters\n",
    "    ----------\n",
    "        closet : pandas.DataFrame\n",
    "            Dataframe containing complete closet log.\n",
    "        path : string\n",
    "            String containing path of CSV of collected data.\n",
    "    \n",
    "    Returns\n",
    "    -------\n",
    "        complete_df : pandas.DataFrame\n",
    "            Dataframe containing \"ID\", \"Name\", \"count\", \"Item\", \n",
    "            \"Category\", \"Sub-Category\", \"Color\", \"Pattern\", \"Brand\", \"Cost\", \"2023\"\n",
    "    \"\"\"\n",
    "\n",
    "\n",
    "    form = pd.read_csv(path).drop(\"Timestamp\", axis=1).melt(\"Date\").dropna()\n",
    "\n",
    "    # extract ID number from value\n",
    "    form[\"ID\"] = form.value.str.extract('(\\d+)').astype(int)\n",
    "\n",
    "    form_counts = form.groupby([\"value\", \"ID\"]).count().reset_index().rename(columns={\"Date\":\"count\"}).drop([\"variable\"],axis=1)\n",
    "    \n",
    "    # left join closet + df\n",
    "    complete_df = pd.merge(closet, form_counts, how=\"left\", on=\"ID\")\n",
    "    complete_df[\"Name\"] = complete_df[\"Brand\"] + \" \" + complete_df[\"Item\"]\n",
    "    complete_df = complete_df[[\"ID\", \"Name\", \"count\", \"Item\", \"Category\", \"Sub-Category\", \"Color\", \"Pattern\", \"Brand\", \"Cost\", \"2023\"]]\n",
    "    complete_df = complete_df.fillna(0).rename(columns={\"count\" : \"Count\"})\n",
    "    complete_df[\"Count\"] = complete_df[\"Count\"].astype(int)\n",
    "    \n",
    "    return complete_df\n"
   ]
  },
  {
   "cell_type": "code",
   "execution_count": null,
   "id": "93e64cad-1882-464a-abda-28d8dd77754c",
   "metadata": {},
   "outputs": [],
   "source": [
    "closet = sww.closet_df()\n",
    "worn_df = complete_df(closet)\n",
    "worn_df"
   ]
  },
  {
   "cell_type": "code",
   "execution_count": null,
   "id": "68cf0fd1-ae13-416e-a6b4-57212b4d3f2b",
   "metadata": {},
   "outputs": [],
   "source": [
    "worn_df[\"Count\"].astype(int)"
   ]
  },
  {
   "cell_type": "markdown",
   "id": "ca77b90d-eb98-4c12-92a1-fccbdb63d8a5",
   "metadata": {},
   "source": [
    "## 2023 Most Worn Pieces"
   ]
  },
  {
   "cell_type": "code",
   "execution_count": null,
   "id": "2fc202eb-c3e8-4bb3-b4a9-0e41a9dc2e16",
   "metadata": {},
   "outputs": [],
   "source": [
    "most_worn = worn_df.nlargest(15, columns=\"Count\")\n",
    "closet_comp = alt.Chart(most_worn, title=\"2023 Most Worn Pieces\"\n",
    "                       ).mark_bar(color=\"Maroon\"\n",
    "                         ).encode(alt.X(\"Name\", axis=alt.Axis(labelAngle=-45), sort=\"-y\"),\n",
    "                                  alt.Y(\"Count\", \n",
    "                                        title=\"# of Times Worn\",\n",
    "                                        axis=alt.Axis(tickMinStep=1)),\n",
    "                                  alt.Tooltip(\"Count\")\n",
    "                                 )\n",
    "                \n",
    "closet_comp"
   ]
  },
  {
   "cell_type": "code",
   "execution_count": null,
   "id": "4cd9b564-cf4f-4d5b-be9b-9c3508281d61",
   "metadata": {},
   "outputs": [],
   "source": [
    "def plot_mostworn():\n",
    "    most_worn = worn_df.nlargest(15, columns=\"Count\")\n",
    "    closet_comp = alt.Chart(most_worn, title=\"2023 Most Worn Pieces\"\n",
    "                       ).mark_bar(color=\"Maroon\"\n",
    "                         ).encode(alt.X(\"Name\",\n",
    "                                        title=\"\",\n",
    "                                        axis=alt.Axis(labelAngle=-45), \n",
    "                                        sort=\"-y\"),\n",
    "                                  alt.Y(\"Count\", \n",
    "                                        title=\"Times Worn\",\n",
    "                                        axis=alt.Axis(tickMinStep=1)),\n",
    "                                  alt.Tooltip(\"Count\")\n",
    "                                 )\n",
    "                \n",
    "    return closet_comp"
   ]
  },
  {
   "cell_type": "code",
   "execution_count": null,
   "id": "2cf7e140-94b0-4e76-9ecc-ebefbe341488",
   "metadata": {},
   "outputs": [],
   "source": [
    "plot_mostworn()"
   ]
  },
  {
   "cell_type": "markdown",
   "id": "62efa4fd-e8a5-4b3e-82bc-91e06dc079e4",
   "metadata": {
    "jp-MarkdownHeadingCollapsed": true,
    "tags": []
   },
   "source": [
    "### Easier way to plot count \n",
    "- can use \"count()\" and make complete_df function less complex\n",
    "- this doesn't seem to work unless you limit the x-axis data first so move on"
   ]
  },
  {
   "cell_type": "code",
   "execution_count": null,
   "id": "00eec773-cfb2-4ccd-9b9e-587b2038dff7",
   "metadata": {},
   "outputs": [],
   "source": [
    "closet = sww.closet_df()"
   ]
  },
  {
   "cell_type": "code",
   "execution_count": null,
   "id": "26832e1e-fcc9-485e-969d-58a4f346d632",
   "metadata": {},
   "outputs": [],
   "source": [
    "form = pd.read_csv(\"../data/2023TestData.csv\").drop(\"Timestamp\", axis=1).melt(\"Date\").dropna()\n",
    "\n",
    "# extract ID number from value\n",
    "form[\"ID\"] = form.value.str.extract('(\\d+)').astype(int)\n",
    "\n",
    "# left join closet + df\n",
    "complete_df = pd.merge(closet, form, how=\"left\", on=\"ID\")\n",
    "complete_df[\"Name\"] = complete_df[\"Brand\"] + \" \" + complete_df[\"Item\"]\n",
    "complete_df = complete_df[[\"ID\", \"Name\", \"Item\", \"Category\", \"Sub-Category\", \"Color\", \"Pattern\", \"Brand\", \"Cost\", \"2023\"]]\n"
   ]
  },
  {
   "cell_type": "code",
   "execution_count": null,
   "id": "db88a63a-60f3-48b0-af06-c71903c37a8d",
   "metadata": {},
   "outputs": [],
   "source": [
    "closet_comp = alt.Chart(complete_df, title=\"2023 Most Worn Pieces\"\n",
    "                       ).mark_bar(color=\"Maroon\"\n",
    "                         ).encode(alt.X(\"Name\", axis=alt.Axis(labelAngle=-45), sort=\"-y\"),\n",
    "                                  alt.Y(\"count()\", \n",
    "                                        title=\"# of Times Worn\",\n",
    "                                        axis=alt.Axis(tickMinStep=1)),\n",
    "                                  alt.Tooltip(\"count()\")\n",
    "                                 )\n",
    "                \n",
    "closet_comp"
   ]
  },
  {
   "cell_type": "markdown",
   "id": "3c8f1f58-5aae-43c9-be24-052372835d69",
   "metadata": {},
   "source": [
    "## Make similar plots but facet per category!"
   ]
  },
  {
   "cell_type": "markdown",
   "id": "e30245c8-99e4-4d78-8de0-b133118e6b56",
   "metadata": {},
   "source": [
    "The problem with the below code is the x-axis is the same and we do not want that. We want the x axis to contain unique items for that category!\n",
    "- Solution: generate 6 separate plots and concat"
   ]
  },
  {
   "cell_type": "code",
   "execution_count": null,
   "id": "d0e1c59a-7b54-4eaa-b539-6319603c6916",
   "metadata": {},
   "outputs": [],
   "source": [
    "category_worn = worn_df.nlargest(15, columns=\"Count\")\n",
    "closet_comp = alt.Chart(category_worn, title=\"2023 Most Worn Pieces\"\n",
    "                       ).mark_bar(color=\"Maroon\"\n",
    "                       ).encode(alt.X(\"Name\", axis=alt.Axis(labelAngle=-45), sort=\"-y\"),\n",
    "                                alt.Y(\"Count\", \n",
    "                                title=\"# of Times Worn\",\n",
    "                                axis=alt.Axis(tickMinStep=1)),\n",
    "                                alt.Tooltip(\"Count\")\n",
    "                        ).facet(\"Category\", columns=3)\n",
    "                \n",
    "closet_comp"
   ]
  },
  {
   "cell_type": "code",
   "execution_count": null,
   "id": "49036d55-eb48-4f21-bbe5-c4f1d21a137d",
   "metadata": {},
   "outputs": [],
   "source": [
    "worn_df[\"Category\"]"
   ]
  },
  {
   "cell_type": "markdown",
   "id": "1f86d821-5943-4a46-8bbb-9fee85085424",
   "metadata": {},
   "source": [
    "**Solution**: Concat six graphs because the x and y axes will inherently very different\n",
    "\n",
    "*whyyyyy won't sort=\"y\" work pls*"
   ]
  },
  {
   "cell_type": "code",
   "execution_count": null,
   "id": "c714fd69-720b-478b-a1a2-3efaa206ce9c",
   "metadata": {},
   "outputs": [],
   "source": [
    "categories = [\"Top\", \"Bottom\", \"Full Body\", \"Outerwear\", \"Accessory\", \"Shoes\"]\n",
    "\n",
    "cat_plots = []\n",
    "\n",
    "for i in categories:\n",
    "    category_worn = worn_df.loc[worn_df[\"Category\"] == i].nlargest(15, columns=\"Count\")\n",
    "    \n",
    "    category_plot = alt.Chart(category_worn, title=f\"2023 Most Worn {i}\"\n",
    "                       ).mark_bar(color=\"#B79492\"\n",
    "                       ).encode(alt.X(\"Name\", title=\"\", axis=alt.Axis(labelAngle=-45), sort=\"-y\"),\n",
    "                                alt.Y(\"Count\", \n",
    "                                title=\"# of Times Worn\",\n",
    "                                axis=alt.Axis(tickMinStep=1)),\n",
    "                                alt.Tooltip([\"Name\", \"Count\"])\n",
    "                        ).resolve_scale(x='independent')\n",
    "    cat_plots.append(category_plot)\n",
    "\n",
    "# configure altair charts\n",
    "row1 = alt.hconcat(cat_plots[0], cat_plots[1], cat_plots[2])\n",
    "row2 = alt.hconcat(cat_plots[3], cat_plots[4], cat_plots[5])\n",
    "\n",
    "category_plot = alt.vconcat(row1, row2)\n",
    "category_plot"
   ]
  },
  {
   "cell_type": "markdown",
   "id": "69d38fb2-e63c-421b-98c1-c2f0f5978a1e",
   "metadata": {},
   "source": [
    "Troubleshooting this gd error"
   ]
  },
  {
   "cell_type": "code",
   "execution_count": null,
   "id": "c3c1a35b-147f-4529-b250-1268385de5a6",
   "metadata": {},
   "outputs": [],
   "source": [
    "category_worn = worn_df.loc[worn_df[\"Category\"] == \"Top\"].nlargest(10, columns=\"Count\")\n",
    "category_worn[\"Count\"]"
   ]
  },
  {
   "cell_type": "code",
   "execution_count": null,
   "id": "5391dd6e-728b-4a8b-8376-88412e642e15",
   "metadata": {},
   "outputs": [],
   "source": [
    "category_worn.head(5)"
   ]
  },
  {
   "cell_type": "markdown",
   "id": "75012aea-9b00-4e71-9ed0-6986ff5a470d",
   "metadata": {},
   "source": [
    "Weirdly the solution seems to be reduce the dataframe I'm pulling from?\n",
    "`.nlargest(15, columns=\"Count\")` to `nlargest.(5, columns=\"Count\")` fixed it in the concat'd plot"
   ]
  },
  {
   "cell_type": "code",
   "execution_count": null,
   "id": "64756ef0-dc9d-48c4-aa53-a0baf44888fb",
   "metadata": {},
   "outputs": [],
   "source": [
    "alt.Chart(category_worn, title=f\"2023 Most Worn Top\"\n",
    "                   ).mark_bar(color=\"Pink\"\n",
    "                   ).encode(alt.X(\"Name\", title=\"\", axis=alt.Axis(labelAngle=-45), sort=\"-y\"),\n",
    "                            alt.Y(\"Count\", \n",
    "                            title=\"# of Times Worn\",\n",
    "                            axis=alt.Axis(tickMinStep=1)),\n",
    "                            alt.Tooltip([\"Name\", \"Count\"])\n",
    "                    ).resolve_scale(x='independent')"
   ]
  },
  {
   "cell_type": "code",
   "execution_count": null,
   "id": "163affcd-f27d-40b1-bf6e-527ae0936e50",
   "metadata": {},
   "outputs": [],
   "source": [
    "categories = [\"Top\", \"Bottom\", \"Full Body\", \"Outerwear\", \"Accessory\", \"Shoes\"]\n",
    "\n",
    "cat_plots = []\n",
    "\n",
    "for i in categories:\n",
    "    category_worn = worn_df.loc[worn_df[\"Category\"] == i].nlargest(5, columns=\"Count\")\n",
    "    \n",
    "    category_plot = alt.Chart(category_worn, title=f\"2023 Most Worn {i}\"\n",
    "                       ).mark_bar(color=\"#B40490\"\n",
    "                       ).encode(alt.X(\"Name\", title=\"\", axis=alt.Axis(labelAngle=-45), sort=\"-y\"),\n",
    "                                alt.Y(\"Count\", \n",
    "                                title=\"# of Times Worn\",\n",
    "                                axis=alt.Axis(tickMinStep=1)),\n",
    "                                alt.Tooltip([\"Name\", \"Count\"])\n",
    "                        )\n",
    "    cat_plots.append(category_plot)\n",
    "\n",
    "# configure altair charts\n",
    "row1 = alt.hconcat(cat_plots[0], cat_plots[1], cat_plots[2])\n",
    "row2 = alt.hconcat(cat_plots[3], cat_plots[4], cat_plots[5])\n",
    "\n",
    "category_plot = alt.vconcat(row1, row2)\n",
    "category_plot"
   ]
  },
  {
   "cell_type": "markdown",
   "id": "d0081a93-f734-4e8a-a466-44c38b0e78e3",
   "metadata": {},
   "source": [
    "Make a plot function!"
   ]
  },
  {
   "cell_type": "code",
   "execution_count": null,
   "id": "06119cfc-f923-45eb-9000-c83b1b07f4fb",
   "metadata": {},
   "outputs": [],
   "source": [
    "def plot_facet():\n",
    "    \n",
    "    categories = [\"Top\", \"Bottom\", \"Full Body\", \"Outerwear\", \"Accessory\", \"Shoes\"]\n",
    "\n",
    "    cat_plots = []\n",
    "\n",
    "    for i in categories:\n",
    "        category_worn = worn_df.loc[worn_df[\"Category\"] == i].nlargest(5, columns=\"Count\")\n",
    "\n",
    "        category_plot = alt.Chart(category_worn, title=f\"2023 Most Worn {i}\"\n",
    "                           ).mark_bar(color=\"#B40490\"\n",
    "                           ).encode(alt.X(\"Name\", title=\"\", axis=alt.Axis(labelAngle=-45), sort=\"-y\"),\n",
    "                                    alt.Y(\"Count\", \n",
    "                                    title=\"# of Times Worn\",\n",
    "                                    axis=alt.Axis(tickMinStep=1)),\n",
    "                                    alt.Tooltip([\"Name\", \"Count\"])\n",
    "                            ).properties(\n",
    "                                height=200,\n",
    "                                width=150\n",
    "                                )\n",
    "        cat_plots.append(category_plot)\n",
    "\n",
    "    # configure altair charts\n",
    "    row1 = alt.hconcat(cat_plots[0], cat_plots[1], cat_plots[2])\n",
    "    row2 = alt.hconcat(cat_plots[3], cat_plots[4], cat_plots[5])\n",
    "\n",
    "    category_plot = alt.vconcat(row1, row2)\n",
    "    return category_plot"
   ]
  },
  {
   "cell_type": "code",
   "execution_count": null,
   "id": "4da11239-3a32-4665-91a6-f6daf61b7fd5",
   "metadata": {},
   "outputs": [],
   "source": [
    "plot_facet()"
   ]
  },
  {
   "cell_type": "markdown",
   "id": "4c10ce2a-0b86-4d4b-91da-58fe031e90e1",
   "metadata": {
    "jp-MarkdownHeadingCollapsed": true,
    "tags": []
   },
   "source": [
    "## Heatmap of plots"
   ]
  },
  {
   "cell_type": "code",
   "execution_count": null,
   "id": "f6b9e780-f632-44ad-933f-68bb71fe87a4",
   "metadata": {},
   "outputs": [],
   "source": [
    "path = \"../data/2023TestData.csv\"\n",
    "\n",
    "df = pd.read_csv(path).drop(\"Timestamp\", axis=1).melt(\"Date\").dropna()\n",
    "df[\"Date\"] = pd.to_datetime(df[\"Date\"])\n",
    "\n",
    "# extract ID number from value\n",
    "df[\"ID\"] = df.value.str.extract('(\\d+)').astype(int)\n",
    "df = pd.merge(closet, df, how=\"right\", on=\"ID\")\n",
    "df = df[[\"ID\", \"Item\", \"Color\", \"Pattern\", \"Category\", \"Date\"]]\n",
    "df.sample(4)"
   ]
  },
  {
   "cell_type": "markdown",
   "id": "25060eeb-03a0-4bc4-bb25-790cdf5e4e6f",
   "metadata": {},
   "source": [
    "Maybe once we have the top 10 items we can heatmap them?"
   ]
  },
  {
   "cell_type": "code",
   "execution_count": null,
   "id": "1369ac6c-c343-47ad-bba5-f1fed157b49c",
   "metadata": {},
   "outputs": [],
   "source": [
    "top_10 = [10, 85, 81]\n",
    "heatmap_data = df.loc[df[\"ID\"] == top_10[1]]\n",
    "heatmap_data"
   ]
  },
  {
   "cell_type": "markdown",
   "id": "b8c3af42-905d-4573-bfbf-1ebdc922fcdf",
   "metadata": {},
   "source": [
    "Ok idea is:\n",
    "- make a calender df\n",
    "- full merge the above df\n",
    "    - replace NA item with ..?\n",
    "    - or make a boolean column that will be colored if yes? (0 1) \n",
    "- plot month on x and day on y axis "
   ]
  },
  {
   "cell_type": "code",
   "execution_count": null,
   "id": "7b92e6a7-5890-4d65-adf2-199bc3541748",
   "metadata": {},
   "outputs": [],
   "source": [
    "time_df = pd.DataFrame()\n",
    "time_df[\"Date\"] = pd.date_range('2022-12-01', periods=365)\n",
    "time_df[\"Day\"] = time_df[\"Date\"].dt.day_name()\n"
   ]
  },
  {
   "cell_type": "code",
   "execution_count": null,
   "id": "119ac5eb-53cc-4d1e-a449-2608a83f1a03",
   "metadata": {},
   "outputs": [],
   "source": [
    "year = pd.merge(time_df, heatmap_data, how=\"outer\", on=\"Date\")\n",
    "year[\"Item\"] = year[\"Item\"].replace(np.nan, 0) \n",
    "year[\"Bool\"] = np.where(year[\"Item\"] == 0, 0, 1)"
   ]
  },
  {
   "cell_type": "code",
   "execution_count": null,
   "id": "38330553-ee60-44b1-86fa-9b68f4d9a592",
   "metadata": {},
   "outputs": [],
   "source": [
    "year[15:22]"
   ]
  },
  {
   "cell_type": "markdown",
   "id": "118f37c1-5d51-4578-9347-c7b9d90264a7",
   "metadata": {},
   "source": [
    "This is the ugliest plot I have seen in my life"
   ]
  },
  {
   "cell_type": "code",
   "execution_count": null,
   "id": "d345932b-697d-4a88-b15e-35c4725ff30d",
   "metadata": {},
   "outputs": [],
   "source": [
    "weekdays = [\"Sunday\", \"Monday\", \"Tuesday\", \"Wednesday\", \"Thursday\", \"Friday\", \"Sunday\"]\n",
    "alt.Chart(year).mark_rect().encode(\n",
    "    alt.X(\"Date:O\", axis = alt.Axis(labelAngle=-45)), \n",
    "    alt.Y(\"Day\", sort=weekdays), \n",
    "    color=\"Bool\"\n",
    ")"
   ]
  },
  {
   "cell_type": "markdown",
   "id": "1cb80151-e739-40cc-91b3-491e2cbe0b08",
   "metadata": {},
   "source": [
    "I wonder if it would be a better viz to see what months it was worn the most intead?\n",
    "- bc yeah otherwise big x axis \n",
    "\n",
    "package: calmap"
   ]
  },
  {
   "cell_type": "code",
   "execution_count": null,
   "id": "0ca8e827-17ac-415b-bebd-2ac60c90444f",
   "metadata": {},
   "outputs": [],
   "source": [
    "year = year.set_index(\"Date\")"
   ]
  },
  {
   "cell_type": "code",
   "execution_count": null,
   "id": "e8e30b73-966d-41e0-a5d5-8f520e3f2e29",
   "metadata": {},
   "outputs": [],
   "source": [
    "from matplotlib.pyplot import figure\n",
    "\n",
    "figure(figsize=(12, 12))\n",
    "cmap = calmap.yearplot(year[\"Bool\"], cmap='BuPu', fillcolor='lightgray')\n",
    "cmap"
   ]
  },
  {
   "cell_type": "code",
   "execution_count": null,
   "id": "1abfeb45-cea5-46eb-9ed2-a8ebba8aa579",
   "metadata": {},
   "outputs": [],
   "source": [
    "week = time_df[\"Date\"].dt.isocalendar()\n",
    "time_df[\"Week\"] = week[\"week\"]"
   ]
  },
  {
   "cell_type": "code",
   "execution_count": null,
   "id": "d7a788fa-507a-4647-a510-ac13164f9f9d",
   "metadata": {},
   "outputs": [],
   "source": [
    "weekdays = [\"Sunday\", \"Monday\", \"Tuesday\", \"Wednesday\", \"Thursday\", \"Friday\", \"Sunday\"]\n",
    "\n",
    "time_df = pd.DataFrame()\n",
    "time_df[\"Date\"] = pd.date_range('2022-12-01', periods=365)\n",
    "time_df[\"Day\"] = time_df[\"Date\"].dt.day_name()\n",
    "\n",
    "year = pd.merge(time_df, heatmap_data, how=\"outer\", on=\"Date\")\n",
    "year[\"Item\"] = year[\"Item\"].replace(np.nan, 0) \n",
    "year[\"Bool\"] = np.where(year[\"Item\"] == 0, 0, 1)\n",
    "\n",
    "week = time_df[\"Date\"].dt.isocalendar()\n",
    "year[\"Week\"] = week[\"week\"].fillna(52)\n",
    "year[\"Week\"] = year[\"Week\"].fillna(52)\n",
    "\n",
    "year.tail(5)"
   ]
  },
  {
   "cell_type": "code",
   "execution_count": null,
   "id": "7ebc0c34-baac-4e9f-9d79-e6cd0dccdc9c",
   "metadata": {},
   "outputs": [],
   "source": [
    "alt.Chart(year, title=\"Heatmap of Green Totebag Wears\").mark_rect(\n",
    "    stroke=\"white\",\n",
    "    strokeWidth=3,\n",
    "    opacity=0.9\n",
    "    ).encode(\n",
    "    alt.X(\"Week:O\", \n",
    "          axis = alt.Axis(labelAngle=-45)\n",
    "         ), \n",
    "    alt.Y(\"Day\", \n",
    "          sort=weekdays),\n",
    "    alt.Color(\"Bool\", \n",
    "              scale=alt.Scale(scheme='greenblue'),\n",
    "              legend=None\n",
    "             ),\n",
    "    alt.Tooltip([\"Date\", \"Day\"])\n",
    "    ).properties(\n",
    "    height=200,\n",
    "    width=700\n",
    "    )"
   ]
  },
  {
   "cell_type": "code",
   "execution_count": null,
   "id": "00562f72-6ec1-4f94-a009-081c07e5fb37",
   "metadata": {},
   "outputs": [],
   "source": [
    "# scale=alt.Scale(\n",
    "#             domain=[-10,-5,0,5,9], \n",
    "#             range=['red','orange','white','lightblue','darkblue'], \n",
    "#             interpolate=method\n",
    "#             )"
   ]
  },
  {
   "cell_type": "code",
   "execution_count": null,
   "id": "69b70635-4b8e-4b94-b953-b0f2e8a5429d",
   "metadata": {},
   "outputs": [],
   "source": [
    "alt.Chart(year, title=\"Heatmap of Green Totebag Wears\").mark_rect(\n",
    "    stroke=\"white\",\n",
    "    strokeWidth=3,\n",
    "    opacity=0.9,\n",
    "    ).encode(\n",
    "    alt.X(\"Week:O\", \n",
    "          axis = alt.Axis(labelAngle=-45)\n",
    "         ), \n",
    "    alt.Y(\"Day\", \n",
    "          sort=weekdays),\n",
    "    alt.Color(\"Bool\", \n",
    "            scale=alt.Scale(\n",
    "                domain=[0,1], \n",
    "                range=[\"#e0ddd5\", \"#7c9e7b\"]),\n",
    "                legend=None\n",
    "             ),\n",
    "    alt.Tooltip([\"Date\", \"Day\"])\n",
    "    ).properties(\n",
    "    height=200,\n",
    "    width=600\n",
    "    )"
   ]
  },
  {
   "cell_type": "code",
   "execution_count": null,
   "id": "7a37b8db-4db3-4d03-a38d-305424231fa3",
   "metadata": {},
   "outputs": [],
   "source": [
    "year.iloc[16:18]"
   ]
  },
  {
   "cell_type": "markdown",
   "id": "605a4dc1-bf30-4159-8517-0e73807be48b",
   "metadata": {},
   "source": [
    "idea: fix week x axis to dates\n",
    "- also what happened dec 18th lol"
   ]
  },
  {
   "cell_type": "markdown",
   "id": "64e6b0b9-199d-4087-8179-6fab905f89a9",
   "metadata": {},
   "source": [
    "oh I think if the x axis is by week then everything will look better"
   ]
  },
  {
   "cell_type": "code",
   "execution_count": null,
   "id": "7f0860d2-be86-4aff-ac08-ec8b2a478572",
   "metadata": {},
   "outputs": [],
   "source": [
    "year['First_day'] = year['Date'] - year['Date'].dt.weekday * np.timedelta64(1, 'D')\n",
    "\n",
    "# year[\"Week2\"] = year[\"Week\"].fillna(52)\n",
    "\n",
    "year"
   ]
  },
  {
   "cell_type": "code",
   "execution_count": null,
   "id": "20b7de30-d77a-4100-befb-de8df63744a9",
   "metadata": {},
   "outputs": [],
   "source": [
    "alt.Chart(year, title=\"Heatmap of Green Totebag Wears\").mark_rect(\n",
    "    stroke=\"white\",\n",
    "    strokeWidth=3,\n",
    "    opacity=0.9,\n",
    "    ).encode(\n",
    "    alt.X(\"First_day:O\", \n",
    "          axis = alt.Axis(labelAngle=-45,                         )\n",
    "         ), \n",
    "    alt.Y(\"Day\", \n",
    "          sort=weekdays),\n",
    "    alt.Color(\"Bool\", \n",
    "            scale=alt.Scale(\n",
    "                domain=[0,1], \n",
    "                range=[\"#e0ddd5\", \"#7c9e7b\"]),\n",
    "                legend=None\n",
    "             ),\n",
    "    alt.Tooltip([\"Date\", \"Day\"])\n",
    "    ).properties(\n",
    "    height=200,\n",
    "    width=600\n",
    "    )"
   ]
  },
  {
   "cell_type": "code",
   "execution_count": null,
   "id": "88f12fe9-5190-4940-95d5-90cf84b5d371",
   "metadata": {},
   "outputs": [],
   "source": [
    "week = time_df[\"Date\"].dt.strftime('%m-%d-%y')"
   ]
  },
  {
   "cell_type": "code",
   "execution_count": null,
   "id": "08475359-fea2-499b-b579-68543fcc1125",
   "metadata": {},
   "outputs": [],
   "source": [
    "week = time_df[\"Date\"].dt.strftime('%m-%d-%y')\n",
    "year['D'] = time_df[\"Date\"].dt.strftime('%m-%d-%y')\n"
   ]
  },
  {
   "cell_type": "code",
   "execution_count": null,
   "id": "fdd9c1d4-6b68-42ff-99bc-91d4344ecb95",
   "metadata": {},
   "outputs": [],
   "source": [
    "year[\"Week\"] = year[\"First_day\"].dt.strftime('%m-%d-%y')\n",
    "year"
   ]
  },
  {
   "cell_type": "code",
   "execution_count": null,
   "id": "19acc22f-5d7f-4a9e-aa8a-aa0fe9236bdc",
   "metadata": {},
   "outputs": [],
   "source": [
    "weekdays = [\"Sunday\", \"Monday\", \"Tuesday\", \"Wednesday\", \"Thursday\", \"Friday\", \"Sunday\"]\n",
    "\n",
    "alt.Chart(year, title=\"Heatmap of Green Totebag Wears\").mark_rect(\n",
    "    stroke=\"white\",\n",
    "    strokeWidth=3,\n",
    "    opacity=0.9,\n",
    "    ).encode(\n",
    "    alt.X(\"Week:O\", \n",
    "          axis = alt.Axis(labelAngle=-45,                         )\n",
    "         ), \n",
    "    alt.Y(\"Day\", \n",
    "          sort=weekdays),\n",
    "    alt.Color(\"Bool\", \n",
    "            scale=alt.Scale(\n",
    "                domain=[0,1], \n",
    "                range=[\"#e0ddd5\", \"#7c9e7b\"]),\n",
    "                legend=None\n",
    "             ),\n",
    "    alt.Tooltip([\"Date\", \"Day\"])\n",
    "    ).properties(\n",
    "    height=200,\n",
    "    width=600\n",
    "    )"
   ]
  },
  {
   "cell_type": "markdown",
   "id": "ce7cf2d8-2660-4c71-8fa9-973022e68519",
   "metadata": {
    "tags": []
   },
   "source": [
    "## Heatmap testing out and fixing for function"
   ]
  },
  {
   "cell_type": "code",
   "execution_count": null,
   "id": "0e6a7126-cd5a-4e09-99a1-114a1a562acf",
   "metadata": {},
   "outputs": [],
   "source": [
    "# read in Google Form data\n",
    "path = \"../data/2023TestData.csv\"\n",
    "df = pd.read_csv(path).drop(\"Timestamp\", axis=1).melt(\"Date\").dropna()\n",
    "df[\"Date\"] = pd.to_datetime(df[\"Date\"])\n",
    "df[\"ID\"] = df.value.str.extract('(\\d+)').astype(int)\n",
    "\n",
    "# column of day of week for one calender year \n",
    "time_df = pd.DataFrame()\n",
    "time_df[\"Date\"] = pd.date_range(df[\"Date\"].min(), periods=365) \n",
    "time_df[\"Day\"] = time_df[\"Date\"].dt.day_name()\n",
    "\n",
    "# merge dataframes\n",
    "df = pd.merge(closet, df, how=\"right\", on=\"ID\")\n",
    "df = df[[\"ID\", \"Item\", \"Color\", \"Pattern\", \"Category\", \"Date\"]]\n",
    "\n",
    "# select item \n",
    "top_10 = [10, 85, 81] # need to make this dynamic!! \n",
    "heatmap_data = df.loc[df[\"ID\"] == top_10[1]]\n",
    "\n",
    "year = pd.merge(time_df, heatmap_data, how=\"outer\", on=\"Date\")\n",
    "year[\"Item\"] = year[\"Item\"].replace(np.nan, 0) \n",
    "year[\"Bool\"] = np.where(year[\"Item\"] == 0, 0, 1)\n",
    "\n",
    "weekdays = [\"Sunday\", \"Monday\", \"Tuesday\", \"Wednesday\", \"Thursday\", \"Friday\", \"Sunday\"]\n",
    "\n",
    "week = time_df[\"Date\"].dt.isocalendar()\n",
    "year[\"Week\"] = week[\"week\"].fillna(52)\n",
    "year[\"Week\"] = year[\"Week\"].fillna(52)\n",
    "year['First_day'] = year['Date'] - year['Date'].dt.weekday * np.timedelta64(1, 'D')\n",
    "\n",
    "week = time_df[\"Date\"].dt.strftime('%m-%d-%y')\n",
    "year[\"Week\"] = year[\"First_day\"].dt.strftime('%m-%d-%y')\n",
    "\n",
    "\n",
    "year.tail(5)"
   ]
  },
  {
   "cell_type": "markdown",
   "id": "028dea94-5aae-4222-89d9-b14fb0f00e57",
   "metadata": {},
   "source": [
    "Ok not totally dynamic but the actual selection will change in plot"
   ]
  },
  {
   "cell_type": "code",
   "execution_count": null,
   "id": "4e5c18d2-c34a-4b9c-842f-a70c5e4c0a9f",
   "metadata": {},
   "outputs": [],
   "source": [
    "closet = sww.closet_df()\n",
    "worn_df = sww.complete_df(closet)\n",
    "most_worn = worn_df.nlargest(10, columns=\"Count\")\n",
    "\n",
    "top_10 = most_worn[\"Count\"].to_list() \n",
    "heatmap_data = df.loc[df[\"ID\"] == top_10[1]] # need to make this dynamic in plot"
   ]
  },
  {
   "cell_type": "code",
   "execution_count": null,
   "id": "d613ac71-18b8-430c-b263-296b049315e7",
   "metadata": {},
   "outputs": [],
   "source": [
    "# read in Google Form data\n",
    "def top_10_df(path = \"../data/2023TestData.csv\"):\n",
    "    \"\"\"\n",
    "    Function to return IDs and counts of top 10 most worn items.\n",
    "    \n",
    "    Parameters:\n",
    "    -----------\n",
    "         path : str\n",
    "            Path to CSV file containing closet information.\n",
    "    \n",
    "    Returns:\n",
    "    --------\n",
    "        top_10 : list\n",
    "            List containing the IDs of the top 10 most worn items.\n",
    "        \n",
    "        df : pandas.DataFrame\n",
    "            Dataframe containing data only for top 10 most worn items.\n",
    "    \"\"\"\n",
    "    df = pd.read_csv(path).drop(\"Timestamp\", axis=1).melt(\"Date\").dropna()\n",
    "    df[\"Date\"] = pd.to_datetime(df[\"Date\"])\n",
    "    df[\"ID\"] = df.value.str.extract('(\\d+)').astype(int)\n",
    "\n",
    "    # data wrangling to select top 10 most worn items\n",
    "    closet = sww.closet_df()\n",
    "    worn_df = sww.complete_df(closet)\n",
    "    most_worn = worn_df.nlargest(10, columns=\"Count\")\n",
    "    \n",
    "    # merge dataframes\n",
    "    df = pd.merge(closet, df, how=\"right\", on=\"ID\")\n",
    "    df = df[[\"ID\", \"Item\", \"Color\", \"Pattern\", \"Category\", \"Date\", \"Brand\"]]\n",
    "\n",
    "    top_10 = most_worn[\"ID\"].to_list() \n",
    " \n",
    "    return top_10, df\n"
   ]
  },
  {
   "cell_type": "code",
   "execution_count": null,
   "id": "332bc642-2eaf-4225-8211-d85e113d214f",
   "metadata": {},
   "outputs": [],
   "source": [
    "def plot_heatmap(df, top_10, i=0):\n",
    "    \"\"\"\n",
    "    Function for heatmap plot.\n",
    "    \n",
    "    Parameters:\n",
    "    -----------\n",
    "         df : pandas.DataFrame   \n",
    "         \n",
    "         top_10 : list\n",
    "            List containing the IDs of the top 10 most worn items.\n",
    "         \n",
    "    Returns:\n",
    "    --------\n",
    "        heatplot : altair.Chart\n",
    "            Heatmap plot for a single item over a single calender year. \n",
    "             \n",
    "    \"\"\"\n",
    "    \n",
    "    # column of day of week for one calender year \n",
    "    time_df = pd.DataFrame()\n",
    "    time_df[\"Date\"] = pd.date_range(df[\"Date\"].min(), periods=365) \n",
    "    time_df[\"Day\"] = time_df[\"Date\"].dt.day_name()\n",
    "    \n",
    "    \n",
    "    heatmap_data = df.loc[df[\"ID\"] == top_10[i]] # need to make this dynamic in plot\n",
    "    item_name = heatmap_data[\"Brand\"].iloc[0] + \" \" + heatmap_data[\"Item\"].iloc[0]\n",
    "    \n",
    "    # isolate item data\n",
    "    year = pd.merge(time_df, heatmap_data, how=\"outer\", on=\"Date\")\n",
    "    year[\"Item\"] = year[\"Item\"].replace(np.nan, 0) \n",
    "    year[\"Bool\"] = np.where(year[\"Item\"] == 0, 0, 1)\n",
    "\n",
    "    # this is horrible to read lol\n",
    "    # wrangling for prettier plotting \n",
    "    week = time_df[\"Date\"].dt.isocalendar()\n",
    "    year[\"Week\"] = week[\"week\"].fillna(52)\n",
    "    year[\"Week\"] = year[\"Week\"].fillna(52)\n",
    "    year['First_day'] = year['Date'] - year['Date'].dt.weekday * np.timedelta64(1, 'D')\n",
    "    week = time_df[\"Date\"].dt.strftime('%m-%d-%y')\n",
    "    year[\"Week\"] = year[\"First_day\"].dt.strftime('%m-%d')\n",
    "    year = year[[\"Date\", \"Day\", \"Item\", \"ID\", \"Bool\", \"Week\"]]\n",
    "\n",
    "    weekdays = [\"Sunday\", \"Monday\", \"Tuesday\", \"Wednesday\", \"Thursday\", \"Friday\", \"Sunday\"]\n",
    "\n",
    "    heat_plot = alt.Chart(year, title=f\"{item_name} in 2023\").mark_rect(\n",
    "    stroke=\"white\",\n",
    "    strokeWidth=3,\n",
    "    opacity=0.9,\n",
    "    ).encode(\n",
    "    alt.X(\"Week:O\", \n",
    "          axis = alt.Axis(labelAngle=-60,                         )\n",
    "         ), \n",
    "    alt.Y(\"Day\", \n",
    "          sort=weekdays),\n",
    "    alt.Color(\"Bool\", \n",
    "            scale=alt.Scale(\n",
    "                domain=[0,1], \n",
    "                range=[\"#e0ddd5\", \"#7c9e7b\"]),\n",
    "                legend=None\n",
    "             ),\n",
    "    alt.Tooltip([\"Date\", \"Day\"])\n",
    "    ).properties(\n",
    "    height=200,\n",
    "    width=600\n",
    "    )\n",
    "    return heat_plot\n"
   ]
  },
  {
   "cell_type": "code",
   "execution_count": null,
   "id": "33e7e5a5-9796-4bf2-bd22-19bfa7313182",
   "metadata": {},
   "outputs": [],
   "source": [
    "top_10, df = top_10_df()\n",
    "plot = plot_heatmap(df, top_10,i=5)\n",
    "plot"
   ]
  },
  {
   "cell_type": "markdown",
   "id": "0ffb2b40-425c-4c72-9f89-8ab50c99a2e8",
   "metadata": {},
   "source": [
    "## Scatter"
   ]
  },
  {
   "cell_type": "code",
   "execution_count": 5,
   "id": "98af1cdb-99bb-4b69-9786-7fd288a266d1",
   "metadata": {},
   "outputs": [
    {
     "data": {
      "text/html": [
       "<div>\n",
       "<style scoped>\n",
       "    .dataframe tbody tr th:only-of-type {\n",
       "        vertical-align: middle;\n",
       "    }\n",
       "\n",
       "    .dataframe tbody tr th {\n",
       "        vertical-align: top;\n",
       "    }\n",
       "\n",
       "    .dataframe thead th {\n",
       "        text-align: right;\n",
       "    }\n",
       "</style>\n",
       "<table border=\"1\" class=\"dataframe\">\n",
       "  <thead>\n",
       "    <tr style=\"text-align: right;\">\n",
       "      <th></th>\n",
       "      <th>ID</th>\n",
       "      <th>Name</th>\n",
       "      <th>Count</th>\n",
       "      <th>Item</th>\n",
       "      <th>Category</th>\n",
       "      <th>Sub-Category</th>\n",
       "      <th>Color</th>\n",
       "      <th>Pattern</th>\n",
       "      <th>Brand</th>\n",
       "      <th>Cost</th>\n",
       "      <th>2023</th>\n",
       "    </tr>\n",
       "  </thead>\n",
       "  <tbody>\n",
       "    <tr>\n",
       "      <th>0</th>\n",
       "      <td>0</td>\n",
       "      <td>Zara Turtleneck</td>\n",
       "      <td>2</td>\n",
       "      <td>Turtleneck</td>\n",
       "      <td>Top</td>\n",
       "      <td>Sweater</td>\n",
       "      <td>Black</td>\n",
       "      <td>Plain</td>\n",
       "      <td>Zara</td>\n",
       "      <td>cheap</td>\n",
       "      <td>No</td>\n",
       "    </tr>\n",
       "    <tr>\n",
       "      <th>1</th>\n",
       "      <td>1</td>\n",
       "      <td>Plisse  Tropical Tank</td>\n",
       "      <td>0</td>\n",
       "      <td>Tropical Tank</td>\n",
       "      <td>Top</td>\n",
       "      <td>Tanktop</td>\n",
       "      <td>Black, Red, Gold</td>\n",
       "      <td>Feather</td>\n",
       "      <td>Plisse</td>\n",
       "      <td>cheap</td>\n",
       "      <td>No</td>\n",
       "    </tr>\n",
       "    <tr>\n",
       "      <th>2</th>\n",
       "      <td>2</td>\n",
       "      <td>Plisse  Leopard Tank</td>\n",
       "      <td>2</td>\n",
       "      <td>Leopard Tank</td>\n",
       "      <td>Top</td>\n",
       "      <td>Tanktop</td>\n",
       "      <td>Black, Tan</td>\n",
       "      <td>Leopard</td>\n",
       "      <td>Plisse</td>\n",
       "      <td>cheap</td>\n",
       "      <td>No</td>\n",
       "    </tr>\n",
       "    <tr>\n",
       "      <th>3</th>\n",
       "      <td>3</td>\n",
       "      <td>Aerie Jeans</td>\n",
       "      <td>7</td>\n",
       "      <td>Jeans</td>\n",
       "      <td>Bottom</td>\n",
       "      <td>Pants</td>\n",
       "      <td>Blue</td>\n",
       "      <td>Plain</td>\n",
       "      <td>Aerie</td>\n",
       "      <td>cheap</td>\n",
       "      <td>No</td>\n",
       "    </tr>\n",
       "    <tr>\n",
       "      <th>4</th>\n",
       "      <td>4</td>\n",
       "      <td>Free People Shirt</td>\n",
       "      <td>1</td>\n",
       "      <td>Shirt</td>\n",
       "      <td>Top</td>\n",
       "      <td>Shirt</td>\n",
       "      <td>Black, White</td>\n",
       "      <td>Cheetah</td>\n",
       "      <td>Free People</td>\n",
       "      <td>cheap</td>\n",
       "      <td>No</td>\n",
       "    </tr>\n",
       "    <tr>\n",
       "      <th>...</th>\n",
       "      <td>...</td>\n",
       "      <td>...</td>\n",
       "      <td>...</td>\n",
       "      <td>...</td>\n",
       "      <td>...</td>\n",
       "      <td>...</td>\n",
       "      <td>...</td>\n",
       "      <td>...</td>\n",
       "      <td>...</td>\n",
       "      <td>...</td>\n",
       "      <td>...</td>\n",
       "    </tr>\n",
       "    <tr>\n",
       "      <th>86</th>\n",
       "      <td>86</td>\n",
       "      <td>No Brand Purse</td>\n",
       "      <td>0</td>\n",
       "      <td>Purse</td>\n",
       "      <td>Accessory</td>\n",
       "      <td>Bag</td>\n",
       "      <td>White</td>\n",
       "      <td>Vintage</td>\n",
       "      <td>No Brand</td>\n",
       "      <td>cheap</td>\n",
       "      <td>No</td>\n",
       "    </tr>\n",
       "    <tr>\n",
       "      <th>87</th>\n",
       "      <td>87</td>\n",
       "      <td>Target Bow</td>\n",
       "      <td>4</td>\n",
       "      <td>Bow</td>\n",
       "      <td>Accessory</td>\n",
       "      <td>Hat</td>\n",
       "      <td>Black</td>\n",
       "      <td>Plain</td>\n",
       "      <td>Target</td>\n",
       "      <td>cheap</td>\n",
       "      <td>No</td>\n",
       "    </tr>\n",
       "    <tr>\n",
       "      <th>88</th>\n",
       "      <td>88</td>\n",
       "      <td>Amazon Snake Tights</td>\n",
       "      <td>0</td>\n",
       "      <td>Snake Tights</td>\n",
       "      <td>Accessory</td>\n",
       "      <td>Tight</td>\n",
       "      <td>Black</td>\n",
       "      <td>Snake</td>\n",
       "      <td>Amazon</td>\n",
       "      <td>cheap</td>\n",
       "      <td>No</td>\n",
       "    </tr>\n",
       "    <tr>\n",
       "      <th>89</th>\n",
       "      <td>89</td>\n",
       "      <td>Francesca'S Purse</td>\n",
       "      <td>0</td>\n",
       "      <td>Purse</td>\n",
       "      <td>Accessory</td>\n",
       "      <td>Bag</td>\n",
       "      <td>Silver</td>\n",
       "      <td>Rhinestone</td>\n",
       "      <td>Francesca'S</td>\n",
       "      <td>pricy</td>\n",
       "      <td>No</td>\n",
       "    </tr>\n",
       "    <tr>\n",
       "      <th>90</th>\n",
       "      <td>90</td>\n",
       "      <td>Levi'S Jean Jacket</td>\n",
       "      <td>0</td>\n",
       "      <td>Jean Jacket</td>\n",
       "      <td>Outerwear</td>\n",
       "      <td>Coat</td>\n",
       "      <td>Black</td>\n",
       "      <td>Plain</td>\n",
       "      <td>Levi'S</td>\n",
       "      <td>pricy</td>\n",
       "      <td>No</td>\n",
       "    </tr>\n",
       "  </tbody>\n",
       "</table>\n",
       "<p>91 rows × 11 columns</p>\n",
       "</div>"
      ],
      "text/plain": [
       "    ID                   Name  Count           Item   Category Sub-Category  \\\n",
       "0    0        Zara Turtleneck      2     Turtleneck        Top      Sweater   \n",
       "1    1  Plisse  Tropical Tank      0  Tropical Tank        Top      Tanktop   \n",
       "2    2   Plisse  Leopard Tank      2   Leopard Tank        Top      Tanktop   \n",
       "3    3            Aerie Jeans      7          Jeans     Bottom        Pants   \n",
       "4    4      Free People Shirt      1          Shirt        Top        Shirt   \n",
       "..  ..                    ...    ...            ...        ...          ...   \n",
       "86  86         No Brand Purse      0          Purse  Accessory          Bag   \n",
       "87  87             Target Bow      4            Bow  Accessory          Hat   \n",
       "88  88    Amazon Snake Tights      0   Snake Tights  Accessory        Tight   \n",
       "89  89      Francesca'S Purse      0          Purse  Accessory          Bag   \n",
       "90  90     Levi'S Jean Jacket      0    Jean Jacket  Outerwear         Coat   \n",
       "\n",
       "               Color     Pattern        Brand   Cost 2023  \n",
       "0              Black       Plain         Zara  cheap   No  \n",
       "1   Black, Red, Gold     Feather      Plisse   cheap   No  \n",
       "2         Black, Tan     Leopard      Plisse   cheap   No  \n",
       "3               Blue       Plain        Aerie  cheap   No  \n",
       "4       Black, White     Cheetah  Free People  cheap   No  \n",
       "..               ...         ...          ...    ...  ...  \n",
       "86             White     Vintage     No Brand  cheap   No  \n",
       "87             Black       Plain       Target  cheap   No  \n",
       "88             Black       Snake       Amazon  cheap   No  \n",
       "89            Silver  Rhinestone  Francesca'S  pricy   No  \n",
       "90             Black       Plain       Levi'S  pricy   No  \n",
       "\n",
       "[91 rows x 11 columns]"
      ]
     },
     "execution_count": 5,
     "metadata": {},
     "output_type": "execute_result"
    }
   ],
   "source": [
    "closet = sww.closet_df()\n",
    "worn_df = sww.complete_df(closet)\n",
    "worn_df"
   ]
  },
  {
   "cell_type": "code",
   "execution_count": 20,
   "id": "2781559c-d665-4288-a112-fe108068a55a",
   "metadata": {},
   "outputs": [
    {
     "data": {
      "text/html": [
       "<div>\n",
       "<style scoped>\n",
       "    .dataframe tbody tr th:only-of-type {\n",
       "        vertical-align: middle;\n",
       "    }\n",
       "\n",
       "    .dataframe tbody tr th {\n",
       "        vertical-align: top;\n",
       "    }\n",
       "\n",
       "    .dataframe thead th {\n",
       "        text-align: right;\n",
       "    }\n",
       "</style>\n",
       "<table border=\"1\" class=\"dataframe\">\n",
       "  <thead>\n",
       "    <tr style=\"text-align: right;\">\n",
       "      <th></th>\n",
       "      <th>ID</th>\n",
       "      <th>Name</th>\n",
       "      <th>Count</th>\n",
       "      <th>Category</th>\n",
       "      <th>Sub-Category</th>\n",
       "      <th>Pattern</th>\n",
       "      <th>Cost</th>\n",
       "      <th>2023</th>\n",
       "      <th>Date</th>\n",
       "    </tr>\n",
       "  </thead>\n",
       "  <tbody>\n",
       "    <tr>\n",
       "      <th>0</th>\n",
       "      <td>10</td>\n",
       "      <td>Athleta Beanie</td>\n",
       "      <td>4</td>\n",
       "      <td>Accessory</td>\n",
       "      <td>Hat</td>\n",
       "      <td>Stripe</td>\n",
       "      <td>cheap</td>\n",
       "      <td>No</td>\n",
       "      <td>2022-12-19</td>\n",
       "    </tr>\n",
       "    <tr>\n",
       "      <th>1</th>\n",
       "      <td>10</td>\n",
       "      <td>Athleta Beanie</td>\n",
       "      <td>4</td>\n",
       "      <td>Accessory</td>\n",
       "      <td>Hat</td>\n",
       "      <td>Stripe</td>\n",
       "      <td>cheap</td>\n",
       "      <td>No</td>\n",
       "      <td>2022-12-20</td>\n",
       "    </tr>\n",
       "    <tr>\n",
       "      <th>2</th>\n",
       "      <td>10</td>\n",
       "      <td>Athleta Beanie</td>\n",
       "      <td>4</td>\n",
       "      <td>Accessory</td>\n",
       "      <td>Hat</td>\n",
       "      <td>Stripe</td>\n",
       "      <td>cheap</td>\n",
       "      <td>No</td>\n",
       "      <td>2022-12-21</td>\n",
       "    </tr>\n",
       "    <tr>\n",
       "      <th>3</th>\n",
       "      <td>85</td>\n",
       "      <td>Ubc Tote Bag</td>\n",
       "      <td>8</td>\n",
       "      <td>Accessory</td>\n",
       "      <td>Bag</td>\n",
       "      <td>Logo</td>\n",
       "      <td>cheap</td>\n",
       "      <td>No</td>\n",
       "      <td>2022-12-22</td>\n",
       "    </tr>\n",
       "    <tr>\n",
       "      <th>4</th>\n",
       "      <td>82</td>\n",
       "      <td>No Brand Christmas Tree Hoops</td>\n",
       "      <td>3</td>\n",
       "      <td>Accessory</td>\n",
       "      <td>Jewelry</td>\n",
       "      <td>Plain</td>\n",
       "      <td>cheap</td>\n",
       "      <td>No</td>\n",
       "      <td>2022-12-23</td>\n",
       "    </tr>\n",
       "    <tr>\n",
       "      <th>...</th>\n",
       "      <td>...</td>\n",
       "      <td>...</td>\n",
       "      <td>...</td>\n",
       "      <td>...</td>\n",
       "      <td>...</td>\n",
       "      <td>...</td>\n",
       "      <td>...</td>\n",
       "      <td>...</td>\n",
       "      <td>...</td>\n",
       "    </tr>\n",
       "    <tr>\n",
       "      <th>88</th>\n",
       "      <td>87</td>\n",
       "      <td>Target Bow</td>\n",
       "      <td>4</td>\n",
       "      <td>Accessory</td>\n",
       "      <td>Hat</td>\n",
       "      <td>Plain</td>\n",
       "      <td>cheap</td>\n",
       "      <td>No</td>\n",
       "      <td>2022-12-27</td>\n",
       "    </tr>\n",
       "    <tr>\n",
       "      <th>89</th>\n",
       "      <td>87</td>\n",
       "      <td>Target Bow</td>\n",
       "      <td>4</td>\n",
       "      <td>Accessory</td>\n",
       "      <td>Hat</td>\n",
       "      <td>Plain</td>\n",
       "      <td>cheap</td>\n",
       "      <td>No</td>\n",
       "      <td>2022-12-22</td>\n",
       "    </tr>\n",
       "    <tr>\n",
       "      <th>90</th>\n",
       "      <td>83</td>\n",
       "      <td>Tj Maxx Square Hoops</td>\n",
       "      <td>1</td>\n",
       "      <td>Accessory</td>\n",
       "      <td>Jewelry</td>\n",
       "      <td>Plain</td>\n",
       "      <td>cheap</td>\n",
       "      <td>No</td>\n",
       "      <td>2022-12-23</td>\n",
       "    </tr>\n",
       "    <tr>\n",
       "      <th>91</th>\n",
       "      <td>87</td>\n",
       "      <td>Target Bow</td>\n",
       "      <td>4</td>\n",
       "      <td>Accessory</td>\n",
       "      <td>Hat</td>\n",
       "      <td>Plain</td>\n",
       "      <td>cheap</td>\n",
       "      <td>No</td>\n",
       "      <td>2022-12-25</td>\n",
       "    </tr>\n",
       "    <tr>\n",
       "      <th>92</th>\n",
       "      <td>81</td>\n",
       "      <td>No Brand Gold Hoops</td>\n",
       "      <td>6</td>\n",
       "      <td>Accessory</td>\n",
       "      <td>Jewelry</td>\n",
       "      <td>Plain</td>\n",
       "      <td>pricy</td>\n",
       "      <td>No</td>\n",
       "      <td>2022-12-27</td>\n",
       "    </tr>\n",
       "  </tbody>\n",
       "</table>\n",
       "<p>93 rows × 9 columns</p>\n",
       "</div>"
      ],
      "text/plain": [
       "    ID                           Name  Count   Category Sub-Category Pattern  \\\n",
       "0   10                 Athleta Beanie      4  Accessory          Hat  Stripe   \n",
       "1   10                 Athleta Beanie      4  Accessory          Hat  Stripe   \n",
       "2   10                 Athleta Beanie      4  Accessory          Hat  Stripe   \n",
       "3   85                   Ubc Tote Bag      8  Accessory          Bag    Logo   \n",
       "4   82  No Brand Christmas Tree Hoops      3  Accessory      Jewelry   Plain   \n",
       "..  ..                            ...    ...        ...          ...     ...   \n",
       "88  87                     Target Bow      4  Accessory          Hat   Plain   \n",
       "89  87                     Target Bow      4  Accessory          Hat   Plain   \n",
       "90  83           Tj Maxx Square Hoops      1  Accessory      Jewelry   Plain   \n",
       "91  87                     Target Bow      4  Accessory          Hat   Plain   \n",
       "92  81            No Brand Gold Hoops      6  Accessory      Jewelry   Plain   \n",
       "\n",
       "     Cost 2023       Date  \n",
       "0   cheap   No 2022-12-19  \n",
       "1   cheap   No 2022-12-20  \n",
       "2   cheap   No 2022-12-21  \n",
       "3   cheap   No 2022-12-22  \n",
       "4   cheap   No 2022-12-23  \n",
       "..    ...  ...        ...  \n",
       "88  cheap   No 2022-12-27  \n",
       "89  cheap   No 2022-12-22  \n",
       "90  cheap   No 2022-12-23  \n",
       "91  cheap   No 2022-12-25  \n",
       "92  pricy   No 2022-12-27  \n",
       "\n",
       "[93 rows x 9 columns]"
      ]
     },
     "execution_count": 20,
     "metadata": {},
     "output_type": "execute_result"
    }
   ],
   "source": [
    "df = pd.read_csv(\"../data/2023TestData.csv\").drop(\"Timestamp\", axis=1).melt(\"Date\").dropna()\n",
    "df[\"Date\"] = pd.to_datetime(df[\"Date\"])\n",
    "df[\"ID\"] = df.value.str.extract('(\\d+)').astype(int)\n",
    "\n",
    "year = pd.merge(worn_df, df, how=\"right\", on=\"ID\")\n",
    "year[[\"ID\", \"Name\", \"Count\", \"Category\", \"Sub-Category\", \"Pattern\", \"Cost\", \"2023\", \"Date\"]]"
   ]
  },
  {
   "cell_type": "code",
   "execution_count": 12,
   "id": "dcdf8bb8-d8c7-4f68-8bc9-8ee246068f05",
   "metadata": {},
   "outputs": [
    {
     "data": {
      "text/html": [
       "\n",
       "<div id=\"altair-viz-7b2ec010657c4177ba86aeaab150e5bc\"></div>\n",
       "<script type=\"text/javascript\">\n",
       "  var VEGA_DEBUG = (typeof VEGA_DEBUG == \"undefined\") ? {} : VEGA_DEBUG;\n",
       "  (function(spec, embedOpt){\n",
       "    let outputDiv = document.currentScript.previousElementSibling;\n",
       "    if (outputDiv.id !== \"altair-viz-7b2ec010657c4177ba86aeaab150e5bc\") {\n",
       "      outputDiv = document.getElementById(\"altair-viz-7b2ec010657c4177ba86aeaab150e5bc\");\n",
       "    }\n",
       "    const paths = {\n",
       "      \"vega\": \"https://cdn.jsdelivr.net/npm//vega@5?noext\",\n",
       "      \"vega-lib\": \"https://cdn.jsdelivr.net/npm//vega-lib?noext\",\n",
       "      \"vega-lite\": \"https://cdn.jsdelivr.net/npm//vega-lite@4.17.0?noext\",\n",
       "      \"vega-embed\": \"https://cdn.jsdelivr.net/npm//vega-embed@6?noext\",\n",
       "    };\n",
       "\n",
       "    function maybeLoadScript(lib, version) {\n",
       "      var key = `${lib.replace(\"-\", \"\")}_version`;\n",
       "      return (VEGA_DEBUG[key] == version) ?\n",
       "        Promise.resolve(paths[lib]) :\n",
       "        new Promise(function(resolve, reject) {\n",
       "          var s = document.createElement('script');\n",
       "          document.getElementsByTagName(\"head\")[0].appendChild(s);\n",
       "          s.async = true;\n",
       "          s.onload = () => {\n",
       "            VEGA_DEBUG[key] = version;\n",
       "            return resolve(paths[lib]);\n",
       "          };\n",
       "          s.onerror = () => reject(`Error loading script: ${paths[lib]}`);\n",
       "          s.src = paths[lib];\n",
       "        });\n",
       "    }\n",
       "\n",
       "    function showError(err) {\n",
       "      outputDiv.innerHTML = `<div class=\"error\" style=\"color:red;\">${err}</div>`;\n",
       "      throw err;\n",
       "    }\n",
       "\n",
       "    function displayChart(vegaEmbed) {\n",
       "      vegaEmbed(outputDiv, spec, embedOpt)\n",
       "        .catch(err => showError(`Javascript Error: ${err.message}<br>This usually means there's a typo in your chart specification. See the javascript console for the full traceback.`));\n",
       "    }\n",
       "\n",
       "    if(typeof define === \"function\" && define.amd) {\n",
       "      requirejs.config({paths});\n",
       "      require([\"vega-embed\"], displayChart, err => showError(`Error loading script: ${err.message}`));\n",
       "    } else {\n",
       "      maybeLoadScript(\"vega\", \"5\")\n",
       "        .then(() => maybeLoadScript(\"vega-lite\", \"4.17.0\"))\n",
       "        .then(() => maybeLoadScript(\"vega-embed\", \"6\"))\n",
       "        .catch(showError)\n",
       "        .then(() => displayChart(vegaEmbed));\n",
       "    }\n",
       "  })({\"config\": {\"view\": {\"continuousWidth\": 400, \"continuousHeight\": 300}}, \"data\": {\"name\": \"data-834e579de3c3232c7754241d9e1ee143\"}, \"mark\": {\"type\": \"point\", \"opacity\": 0.5}, \"encoding\": {\"color\": {\"field\": \"Category\", \"type\": \"nominal\"}, \"size\": {\"field\": \"Count\", \"type\": \"quantitative\"}, \"tooltip\": {\"field\": \"Name\", \"type\": \"nominal\"}, \"x\": {\"field\": \"Count\", \"type\": \"quantitative\"}, \"y\": {\"field\": \"Count\", \"type\": \"quantitative\"}}, \"$schema\": \"https://vega.github.io/schema/vega-lite/v4.17.0.json\", \"datasets\": {\"data-834e579de3c3232c7754241d9e1ee143\": [{\"ID\": 0, \"Name\": \"Zara Turtleneck\", \"Count\": 2, \"Item\": \"Turtleneck\", \"Category\": \"Top\", \"Sub-Category\": \"Sweater\", \"Color\": \"Black\", \"Pattern\": \"Plain\", \"Brand\": \"Zara\", \"Cost\": \"cheap\", \"2023\": \"No\"}, {\"ID\": 1, \"Name\": \"Plisse  Tropical Tank\", \"Count\": 0, \"Item\": \"Tropical Tank\", \"Category\": \"Top\", \"Sub-Category\": \"Tanktop\", \"Color\": \"Black, Red, Gold\", \"Pattern\": \"Feather\", \"Brand\": \"Plisse \", \"Cost\": \"cheap\", \"2023\": \"No\"}, {\"ID\": 2, \"Name\": \"Plisse  Leopard Tank\", \"Count\": 2, \"Item\": \"Leopard Tank\", \"Category\": \"Top\", \"Sub-Category\": \"Tanktop\", \"Color\": \"Black, Tan\", \"Pattern\": \"Leopard\", \"Brand\": \"Plisse \", \"Cost\": \"cheap\", \"2023\": \"No\"}, {\"ID\": 3, \"Name\": \"Aerie Jeans\", \"Count\": 7, \"Item\": \"Jeans\", \"Category\": \"Bottom\", \"Sub-Category\": \"Pants\", \"Color\": \"Blue\", \"Pattern\": \"Plain\", \"Brand\": \"Aerie\", \"Cost\": \"cheap\", \"2023\": \"No\"}, {\"ID\": 4, \"Name\": \"Free People Shirt\", \"Count\": 1, \"Item\": \"Shirt\", \"Category\": \"Top\", \"Sub-Category\": \"Shirt\", \"Color\": \"Black, White\", \"Pattern\": \"Cheetah\", \"Brand\": \"Free People\", \"Cost\": \"cheap\", \"2023\": \"No\"}, {\"ID\": 5, \"Name\": \"Express Body Suit\", \"Count\": 2, \"Item\": \"Body Suit\", \"Category\": \"Top\", \"Sub-Category\": \"Shirt\", \"Color\": \"Black\", \"Pattern\": \"Plain\", \"Brand\": \"Express\", \"Cost\": \"cheap\", \"2023\": \"No\"}, {\"ID\": 6, \"Name\": \"Express Body Suit\", \"Count\": 1, \"Item\": \"Body Suit\", \"Category\": \"Top\", \"Sub-Category\": \"Shirt\", \"Color\": \"White\", \"Pattern\": \"Plain\", \"Brand\": \"Express\", \"Cost\": \"cheap\", \"2023\": \"No\"}, {\"ID\": 7, \"Name\": \"Girlfriend Collective Skort\", \"Count\": 1, \"Item\": \"Skort\", \"Category\": \"Bottom\", \"Sub-Category\": \"Skirt\", \"Color\": \"Black\", \"Pattern\": \"Plain\", \"Brand\": \"Girlfriend Collective\", \"Cost\": \"pricy\", \"2023\": \"No\"}, {\"ID\": 8, \"Name\": \"Paloma Wool Sandals\", \"Count\": 1, \"Item\": \"Sandals\", \"Category\": \"Shoes\", \"Sub-Category\": \"Sandal\", \"Color\": \"Black, White\", \"Pattern\": \"Yin-Yang\", \"Brand\": \"Paloma Wool\", \"Cost\": \"expensive\", \"2023\": \"No\"}, {\"ID\": 9, \"Name\": \"Blondo Boots\", \"Count\": 7, \"Item\": \"Boots\", \"Category\": \"Shoes\", \"Sub-Category\": \"Boots\", \"Color\": \"Black\", \"Pattern\": \"Plain\", \"Brand\": \"Blondo\", \"Cost\": \"expensive\", \"2023\": \"No\"}, {\"ID\": 10, \"Name\": \"Athleta Beanie\", \"Count\": 4, \"Item\": \"Beanie\", \"Category\": \"Accessory\", \"Sub-Category\": \"Hat\", \"Color\": \"Tan, White\", \"Pattern\": \"Stripe\", \"Brand\": \"Athleta\", \"Cost\": \"cheap\", \"2023\": \"No\"}, {\"ID\": 11, \"Name\": \"Zara Coat\", \"Count\": 3, \"Item\": \"Coat\", \"Category\": \"Outerwear\", \"Sub-Category\": \"Coat\", \"Color\": \"Black, White\", \"Pattern\": \"Fur, Houndstooth\", \"Brand\": \"Zara\", \"Cost\": \"Cheap\", \"2023\": \"No\"}, {\"ID\": 12, \"Name\": \"Aerie Crossback Sports Bra\", \"Count\": 0, \"Item\": \"Crossback Sports Bra\", \"Category\": \"Top\", \"Sub-Category\": \"Workout \", \"Color\": \"Black\", \"Pattern\": \"Plain\", \"Brand\": \"Aerie\", \"Cost\": \"Cheap\", \"2023\": \"No\"}, {\"ID\": 13, \"Name\": \"Aerie Sports Bra\", \"Count\": 0, \"Item\": \"Sports Bra\", \"Category\": \"Top\", \"Sub-Category\": \"Workout \", \"Color\": \"White\", \"Pattern\": \"Plain\", \"Brand\": \"Aerie\", \"Cost\": \"Cheap\", \"2023\": \"No\"}, {\"ID\": 14, \"Name\": \"Aerie Sports Bra\", \"Count\": 1, \"Item\": \"Sports Bra\", \"Category\": \"Top\", \"Sub-Category\": \"Workout \", \"Color\": \"Clay\", \"Pattern\": \"Plain\", \"Brand\": \"Aerie\", \"Cost\": \"Cheap\", \"2023\": \"No\"}, {\"ID\": 15, \"Name\": \"Aerie Sports Bra\", \"Count\": 0, \"Item\": \"Sports Bra\", \"Category\": \"Top\", \"Sub-Category\": \"Workout \", \"Color\": \"Navy\", \"Pattern\": \"Plain\", \"Brand\": \"Aerie\", \"Cost\": \"Cheap\", \"2023\": \"No\"}, {\"ID\": 16, \"Name\": \"Aerie Sports Bra\", \"Count\": 2, \"Item\": \"Sports Bra\", \"Category\": \"Top\", \"Sub-Category\": \"Workout \", \"Color\": \"Green\", \"Pattern\": \"Plain\", \"Brand\": \"Aerie\", \"Cost\": \"Cheap\", \"2023\": \"No\"}, {\"ID\": 17, \"Name\": \"Aerie Sports Bra\", \"Count\": 1, \"Item\": \"Sports Bra\", \"Category\": \"Top\", \"Sub-Category\": \"Workout \", \"Color\": \"Black\", \"Pattern\": \"Plain\", \"Brand\": \"Aerie\", \"Cost\": \"Cheap\", \"2023\": \"No\"}, {\"ID\": 18, \"Name\": \"Brandy Melville V-Neck\", \"Count\": 1, \"Item\": \"V-Neck\", \"Category\": \"Top\", \"Sub-Category\": \"Sweater\", \"Color\": \"Navy\", \"Pattern\": \"Plain\", \"Brand\": \"Brandy Melville\", \"Cost\": \"Cheap\", \"2023\": \"No\"}, {\"ID\": 19, \"Name\": \"Express Sweater\", \"Count\": 0, \"Item\": \"Sweater\", \"Category\": \"Top\", \"Sub-Category\": \"Sweater\", \"Color\": \"Green\", \"Pattern\": \"Plain\", \"Brand\": \"Express\", \"Cost\": \"Cheap\", \"2023\": \"No\"}, {\"ID\": 20, \"Name\": \"Ubc Pullover\", \"Count\": 0, \"Item\": \"Pullover\", \"Category\": \"Top\", \"Sub-Category\": \"Sweater\", \"Color\": \"Gray\", \"Pattern\": \"Logo\", \"Brand\": \"Ubc\", \"Cost\": \"Cheap\", \"2023\": \"No\"}, {\"ID\": 21, \"Name\": \"Forever 21 Miniskirt\", \"Count\": 0, \"Item\": \"Miniskirt\", \"Category\": \"Bottom\", \"Sub-Category\": \"Skirt\", \"Color\": \"Black, White\", \"Pattern\": \"Houndstooth\", \"Brand\": \"Forever 21\", \"Cost\": \"Cheap\", \"2023\": \"No\"}, {\"ID\": 22, \"Name\": \"Aerie Leggings\", \"Count\": 0, \"Item\": \"Leggings\", \"Category\": \"Bottom\", \"Sub-Category\": \"Workout \", \"Color\": \"Brown\", \"Pattern\": \"Plain\", \"Brand\": \"Aerie\", \"Cost\": \"cheap\", \"2023\": \"No\"}, {\"ID\": 23, \"Name\": \"Aerie Leggings\", \"Count\": 0, \"Item\": \"Leggings\", \"Category\": \"Bottom\", \"Sub-Category\": \"Workout \", \"Color\": \"Navy\", \"Pattern\": \"Plain\", \"Brand\": \"Aerie\", \"Cost\": \"cheap\", \"2023\": \"No\"}, {\"ID\": 24, \"Name\": \"Aerie Leggings\", \"Count\": 2, \"Item\": \"Leggings\", \"Category\": \"Bottom\", \"Sub-Category\": \"Workout \", \"Color\": \"Green\", \"Pattern\": \"Plain\", \"Brand\": \"Aerie\", \"Cost\": \"cheap\", \"2023\": \"No\"}, {\"ID\": 25, \"Name\": \"Aerie Leggings\", \"Count\": 1, \"Item\": \"Leggings\", \"Category\": \"Bottom\", \"Sub-Category\": \"Workout \", \"Color\": \"Red\", \"Pattern\": \"Plain\", \"Brand\": \"Aerie\", \"Cost\": \"cheap\", \"2023\": \"No\"}, {\"ID\": 26, \"Name\": \"Aerie Leggings\", \"Count\": 1, \"Item\": \"Leggings\", \"Category\": \"Bottom\", \"Sub-Category\": \"Workout \", \"Color\": \"Black\", \"Pattern\": \"Plain\", \"Brand\": \"Aerie\", \"Cost\": \"cheap\", \"2023\": \"No\"}, {\"ID\": 27, \"Name\": \"Aerie Yoga Pant\", \"Count\": 0, \"Item\": \"Yoga Pant\", \"Category\": \"Bottom\", \"Sub-Category\": \"Workout \", \"Color\": \"Black\", \"Pattern\": \"Plain\", \"Brand\": \"Aerie\", \"Cost\": \"cheap\", \"2023\": \"No\"}, {\"ID\": 28, \"Name\": \"American Apparel Tank\", \"Count\": 0, \"Item\": \"Tank\", \"Category\": \"Top\", \"Sub-Category\": \"Workout \", \"Color\": \"Black\", \"Pattern\": \"Logo\", \"Brand\": \"American Apparel\", \"Cost\": \"cheap\", \"2023\": \"No\"}, {\"ID\": 29, \"Name\": \"Clueless Shirt\", \"Count\": 0, \"Item\": \"Shirt\", \"Category\": \"Top\", \"Sub-Category\": \"Shirt\", \"Color\": \"White\", \"Pattern\": \"Logo\", \"Brand\": \"Clueless\", \"Cost\": \"cheap\", \"2023\": \"No\"}, {\"ID\": 30, \"Name\": \"Uniqlo Soft Pant\", \"Count\": 0, \"Item\": \"Soft Pant\", \"Category\": \"Bottom\", \"Sub-Category\": \"Pants\", \"Color\": \"Black, White\", \"Pattern\": \"Stripe\", \"Brand\": \"Uniqlo\", \"Cost\": \"cheap\", \"2023\": \"No\"}, {\"ID\": 31, \"Name\": \"Marisa Christina Christmas Sweater\", \"Count\": 1, \"Item\": \"Christmas Sweater\", \"Category\": \"Top\", \"Sub-Category\": \"Sweater\", \"Color\": \"Navy\", \"Pattern\": \"Christmas\", \"Brand\": \"Marisa Christina\", \"Cost\": \"cheap\", \"2023\": \"No\"}, {\"ID\": 32, \"Name\": \"Rei Flannel\", \"Count\": 1, \"Item\": \"Flannel\", \"Category\": \"Top\", \"Sub-Category\": \"Shirt\", \"Color\": \"Orange, Black\", \"Pattern\": \"Plaid\", \"Brand\": \"Rei\", \"Cost\": \"cheap\", \"2023\": \"No\"}, {\"ID\": 33, \"Name\": \"No Brand Christmas Sweater\", \"Count\": 1, \"Item\": \"Christmas Sweater\", \"Category\": \"Top\", \"Sub-Category\": \"Sweater\", \"Color\": \"Black\", \"Pattern\": \"Christmas\", \"Brand\": \"No Brand\", \"Cost\": \"cheap\", \"2023\": \"No\"}, {\"ID\": 34, \"Name\": \"Hollister Asymmterical Skirt\", \"Count\": 0, \"Item\": \"Asymmterical Skirt\", \"Category\": \"Bottom\", \"Sub-Category\": \"Skirt\", \"Color\": \"Black\", \"Pattern\": \"Plaid\", \"Brand\": \"Hollister\", \"Cost\": \"pricy\", \"2023\": \"No\"}, {\"ID\": 35, \"Name\": \"Msk Maxi Skirt\", \"Count\": 0, \"Item\": \"Maxi Skirt\", \"Category\": \"Bottom\", \"Sub-Category\": \"Skirt\", \"Color\": \"Black\", \"Pattern\": \"Plain\", \"Brand\": \"Msk\", \"Cost\": \"cheap\", \"2023\": \"No\"}, {\"ID\": 36, \"Name\": \"Sf415 Jacket\", \"Count\": 0, \"Item\": \"Jacket\", \"Category\": \"Outerwear\", \"Sub-Category\": \"Coat\", \"Color\": \"Beige\", \"Pattern\": \"Corduroy\", \"Brand\": \"Sf415\", \"Cost\": \"cheap\", \"2023\": \"No\"}, {\"ID\": 37, \"Name\": \"Sml Christmas Vest\", \"Count\": 1, \"Item\": \"Christmas Vest\", \"Category\": \"Top\", \"Sub-Category\": \"Vest\", \"Color\": \"Black\", \"Pattern\": \"Bejeweled\", \"Brand\": \"Sml\", \"Cost\": \"cheap\", \"2023\": \"No\"}, {\"ID\": 38, \"Name\": \"Hollister Cardigan\", \"Count\": 2, \"Item\": \"Cardigan\", \"Category\": \"Top\", \"Sub-Category\": \"Sweater\", \"Color\": \"Black\", \"Pattern\": \"Plain\", \"Brand\": \"Hollister\", \"Cost\": \"cheap\", \"2023\": \"No\"}, {\"ID\": 39, \"Name\": \"Ultra Flirt Cardigan\", \"Count\": 0, \"Item\": \"Cardigan\", \"Category\": \"Top\", \"Sub-Category\": \"Sweater\", \"Color\": \"Black\", \"Pattern\": \"Plain\", \"Brand\": \"Ultra Flirt\", \"Cost\": \"cheap\", \"2023\": \"No\"}, {\"ID\": 40, \"Name\": \"Jeongyee Park Peanuts Shirt\", \"Count\": 0, \"Item\": \"Peanuts Shirt\", \"Category\": \"Top\", \"Sub-Category\": \"Shirt\", \"Color\": \"White\", \"Pattern\": \"Logo\", \"Brand\": \"Jeongyee Park\", \"Cost\": \"cheap\", \"2023\": \"No\"}, {\"ID\": 41, \"Name\": \"Uc Davis Grandma Shirt\", \"Count\": 0, \"Item\": \"Grandma Shirt\", \"Category\": \"Top\", \"Sub-Category\": \"Shirt\", \"Color\": \"White\", \"Pattern\": \"Logo\", \"Brand\": \"Uc Davis\", \"Cost\": \"cheap\", \"2023\": \"No\"}, {\"ID\": 42, \"Name\": \"She + Sky V-Neck\", \"Count\": 0, \"Item\": \"V-Neck\", \"Category\": \"Top\", \"Sub-Category\": \"Shirt\", \"Color\": \"Cream, Gold\", \"Pattern\": \"Plain\", \"Brand\": \"She + Sky\", \"Cost\": \"cheap\", \"2023\": \"No\"}, {\"ID\": 43, \"Name\": \"Oaklandia Cropped Shirt\", \"Count\": 0, \"Item\": \"Cropped Shirt\", \"Category\": \"Top\", \"Sub-Category\": \"Shirt\", \"Color\": \"White\", \"Pattern\": \"Plain\", \"Brand\": \"Oaklandia\", \"Cost\": \"cheap\", \"2023\": \"No\"}, {\"ID\": 44, \"Name\": \"Valerie Stevens Sleeveless Turtleneck\", \"Count\": 0, \"Item\": \"Sleeveless Turtleneck\", \"Category\": \"Top\", \"Sub-Category\": \"Tanktop\", \"Color\": \"Navy\", \"Pattern\": \"Plain\", \"Brand\": \"Valerie Stevens\", \"Cost\": \"cheap\", \"2023\": \"No\"}, {\"ID\": 45, \"Name\": \"By Design Sleeveless Mockneck\", \"Count\": 0, \"Item\": \"Sleeveless Mockneck\", \"Category\": \"Top\", \"Sub-Category\": \"Tanktop\", \"Color\": \"Pink, Silver\", \"Pattern\": \"Plain\", \"Brand\": \"By Design\", \"Cost\": \"cheap\", \"2023\": \"No\"}, {\"ID\": 46, \"Name\": \"No Brand Vest\", \"Count\": 1, \"Item\": \"Vest\", \"Category\": \"Top\", \"Sub-Category\": \"Vest\", \"Color\": \"White\", \"Pattern\": \"Plain\", \"Brand\": \"No Brand\", \"Cost\": \"cheap\", \"2023\": \"No\"}, {\"ID\": 47, \"Name\": \"Weavers Girl Tank\", \"Count\": 0, \"Item\": \"Tank\", \"Category\": \"Top\", \"Sub-Category\": \"Tanktop\", \"Color\": \"Yellow\", \"Pattern\": \"Plain\", \"Brand\": \"Weavers Girl\", \"Cost\": \"cheap\", \"2023\": \"No\"}, {\"ID\": 48, \"Name\": \"American Eagle Square-Neck Tank\", \"Count\": 0, \"Item\": \"Square-Neck Tank\", \"Category\": \"Top\", \"Sub-Category\": \"Tanktop\", \"Color\": \"Black\", \"Pattern\": \"Plain\", \"Brand\": \"American Eagle\", \"Cost\": \"cheap\", \"2023\": \"No\"}, {\"ID\": 49, \"Name\": \"Vero Moda Cutout Tank\", \"Count\": 0, \"Item\": \"Cutout Tank\", \"Category\": \"Top\", \"Sub-Category\": \"Tanktop\", \"Color\": \"Black\", \"Pattern\": \"Plain\", \"Brand\": \"Vero Moda\", \"Cost\": \"cheap\", \"2023\": \"No\"}, {\"ID\": 50, \"Name\": \"Glossier Crewneck Sweater\", \"Count\": 3, \"Item\": \"Crewneck Sweater\", \"Category\": \"Top\", \"Sub-Category\": \"Sweater\", \"Color\": \"Gray\", \"Pattern\": \"Logo\", \"Brand\": \"Glossier\", \"Cost\": \"cheap\", \"2023\": \"No\"}, {\"ID\": 51, \"Name\": \"Pull + Bear Maxi Dress\", \"Count\": 0, \"Item\": \"Maxi Dress\", \"Category\": \"Full Body\", \"Sub-Category\": \"Dress\", \"Color\": \"Burgundy\", \"Pattern\": \"Plain\", \"Brand\": \"Pull + Bear\", \"Cost\": \"pricy\", \"2023\": \"No\"}, {\"ID\": 52, \"Name\": \"579 Square-Neck Dress\", \"Count\": 0, \"Item\": \"Square-Neck Dress\", \"Category\": \"Full Body\", \"Sub-Category\": \"Dress\", \"Color\": \"Black\", \"Pattern\": \"Velvet\", \"Brand\": \"579\", \"Cost\": \"cheap\", \"2023\": \"No\"}, {\"ID\": 53, \"Name\": \"Lulu'S Floral Dress\", \"Count\": 0, \"Item\": \"Floral Dress\", \"Category\": \"Full Body\", \"Sub-Category\": \"Dress\", \"Color\": \"Black, Pink\", \"Pattern\": \"Floral\", \"Brand\": \"Lulu'S\", \"Cost\": \"pricy\", \"2023\": \"No\"}, {\"ID\": 54, \"Name\": \"Xhiliration Jumpsuit\", \"Count\": 1, \"Item\": \"Jumpsuit\", \"Category\": \"Full Body\", \"Sub-Category\": \"Jumpsuit\", \"Color\": \"Black\", \"Pattern\": \"Plain\", \"Brand\": \"Xhiliration\", \"Cost\": \"cheap\", \"2023\": \"No\"}, {\"ID\": 55, \"Name\": \"Zara Maxi Dress\", \"Count\": 0, \"Item\": \"Maxi Dress\", \"Category\": \"Full Body\", \"Sub-Category\": \"Dress\", \"Color\": \"Black, White\", \"Pattern\": \"Polka Dot\", \"Brand\": \"Zara\", \"Cost\": \"pricy\", \"2023\": \"No\"}, {\"ID\": 56, \"Name\": \"Wilfred Midi Dress\", \"Count\": 0, \"Item\": \"Midi Dress\", \"Category\": \"Full Body\", \"Sub-Category\": \"Dress\", \"Color\": \"Black\", \"Pattern\": \"Plain\", \"Brand\": \"Wilfred\", \"Cost\": \"cheap\", \"2023\": \"No\"}, {\"ID\": 57, \"Name\": \"American Eagle Maxi Dress\", \"Count\": 1, \"Item\": \"Maxi Dress\", \"Category\": \"Full Body\", \"Sub-Category\": \"Dress\", \"Color\": \"Green\", \"Pattern\": \"Floral\", \"Brand\": \"American Eagle\", \"Cost\": \"cheap\", \"2023\": \"No\"}, {\"ID\": 58, \"Name\": \"American Eagle Jumpsuit\", \"Count\": 0, \"Item\": \"Jumpsuit\", \"Category\": \"Full Body\", \"Sub-Category\": \"Jumpsuit\", \"Color\": \"White, Green\", \"Pattern\": \"Floral\", \"Brand\": \"American Eagle\", \"Cost\": \"cheap\", \"2023\": \"No\"}, {\"ID\": 59, \"Name\": \"Free People Jumpsuit\", \"Count\": 0, \"Item\": \"Jumpsuit\", \"Category\": \"Full Body\", \"Sub-Category\": \"Jumpsuit\", \"Color\": \"Navy\", \"Pattern\": \"Plain\", \"Brand\": \"Free People\", \"Cost\": \"cheap\", \"2023\": \"No\"}, {\"ID\": 60, \"Name\": \"Merona Trenchcoat\", \"Count\": 0, \"Item\": \"Trenchcoat\", \"Category\": \"Outerwear\", \"Sub-Category\": \"Coat\", \"Color\": \"Beige\", \"Pattern\": \"Plain\", \"Brand\": \"Merona\", \"Cost\": \"cheap\", \"2023\": \"No\"}, {\"ID\": 61, \"Name\": \"Rachel Zoe Wool Coat\", \"Count\": 0, \"Item\": \"Wool Coat\", \"Category\": \"Outerwear\", \"Sub-Category\": \"Coat\", \"Color\": \"Tan\", \"Pattern\": \"Plain\", \"Brand\": \"Rachel Zoe\", \"Cost\": \"cheap\", \"2023\": \"No\"}, {\"ID\": 62, \"Name\": \"Cdc Dress\", \"Count\": 0, \"Item\": \"Dress\", \"Category\": \"Full Body\", \"Sub-Category\": \"Dress\", \"Color\": \"Black\", \"Pattern\": \"Glitter\", \"Brand\": \"Cdc\", \"Cost\": \"cheap\", \"2023\": \"No\"}, {\"ID\": 63, \"Name\": \"Le Suit Blazer\", \"Count\": 0, \"Item\": \"Blazer\", \"Category\": \"Top\", \"Sub-Category\": \"Blazer\", \"Color\": \"Tan\", \"Pattern\": \"Plain\", \"Brand\": \"Le Suit\", \"Cost\": \"cheap\", \"2023\": \"No\"}, {\"ID\": 64, \"Name\": \"Le Suit Trouser\", \"Count\": 0, \"Item\": \"Trouser\", \"Category\": \"Bottom\", \"Sub-Category\": \"Pants\", \"Color\": \"Tan\", \"Pattern\": \"Plain\", \"Brand\": \"Le Suit\", \"Cost\": \"cheap\", \"2023\": \"No\"}, {\"ID\": 65, \"Name\": \"Salt Tree Cutout Dress\", \"Count\": 0, \"Item\": \"Cutout Dress\", \"Category\": \"Full Body\", \"Sub-Category\": \"Dress\", \"Color\": \"Lavender\", \"Pattern\": \"Glitter\", \"Brand\": \"Salt Tree\", \"Cost\": \"cheap\", \"2023\": \"No\"}, {\"ID\": 66, \"Name\": \"Salt Tree Feather Dress\", \"Count\": 0, \"Item\": \"Feather Dress\", \"Category\": \"Full Body\", \"Sub-Category\": \"Dress\", \"Color\": \"Green\", \"Pattern\": \"Plain\", \"Brand\": \"Salt Tree\", \"Cost\": \"cheap\", \"2023\": \"No\"}, {\"ID\": 67, \"Name\": \"Innovations By Izzy Sport Coat\", \"Count\": 0, \"Item\": \"Sport Coat\", \"Category\": \"Outerwear\", \"Sub-Category\": \"Coat\", \"Color\": \"White\", \"Pattern\": \"Plaid\", \"Brand\": \"Innovations By Izzy\", \"Cost\": \"cheap\", \"2023\": \"No\"}, {\"ID\": 68, \"Name\": \"A New Day Duster\", \"Count\": 1, \"Item\": \"Duster\", \"Category\": \"Top\", \"Sub-Category\": \"Sweater\", \"Color\": \"Gray\", \"Pattern\": \"Plain\", \"Brand\": \"A New Day\", \"Cost\": \"cheap\", \"2023\": \"No\"}, {\"ID\": 69, \"Name\": \"No Brand Scarf\", \"Count\": 0, \"Item\": \"Scarf\", \"Category\": \"Accessory\", \"Sub-Category\": \"Scarf\", \"Color\": \"Black, Brown\", \"Pattern\": \"Plaid\", \"Brand\": \"No Brand\", \"Cost\": \"cheap\", \"2023\": \"No\"}, {\"ID\": 70, \"Name\": \"Ubc Tote Bag\", \"Count\": 0, \"Item\": \"Tote Bag\", \"Category\": \"Accessory\", \"Sub-Category\": \"Bag\", \"Color\": \"Cream, Navy\", \"Pattern\": \"Logo\", \"Brand\": \"Ubc\", \"Cost\": \"cheap\", \"2023\": \"No\"}, {\"ID\": 71, \"Name\": \"No Brand Tiny Purse\", \"Count\": 0, \"Item\": \"Tiny Purse\", \"Category\": \"Accessory\", \"Sub-Category\": \"Bag\", \"Color\": \"Gold\", \"Pattern\": \"Plain\", \"Brand\": \"No Brand\", \"Cost\": \"cheap\", \"2023\": \"No\"}, {\"ID\": 72, \"Name\": \"Karl Lagerfield Crossbody\", \"Count\": 1, \"Item\": \"Crossbody\", \"Category\": \"Accessory\", \"Sub-Category\": \"Bag\", \"Color\": \"Black\", \"Pattern\": \"Bow\", \"Brand\": \"Karl Lagerfield\", \"Cost\": \"cheap\", \"2023\": \"No\"}, {\"ID\": 73, \"Name\": \"Lovcat Paris Shoulder Bag\", \"Count\": 2, \"Item\": \"Shoulder Bag\", \"Category\": \"Accessory\", \"Sub-Category\": \"Bag\", \"Color\": \"Black\", \"Pattern\": \"Heart\", \"Brand\": \"Lovcat Paris\", \"Cost\": \"cheap\", \"2023\": \"No\"}, {\"ID\": 74, \"Name\": \"No Brand Strappy Sandals\", \"Count\": 0, \"Item\": \"Strappy Sandals\", \"Category\": \"Shoes\", \"Sub-Category\": \"Sandal\", \"Color\": \"Black\", \"Pattern\": \"Plain\", \"Brand\": \"No Brand\", \"Cost\": \"cheap\", \"2023\": \"No\"}, {\"ID\": 75, \"Name\": \"Adidas Tennis Shoe\", \"Count\": 5, \"Item\": \"Tennis Shoe\", \"Category\": \"Shoes\", \"Sub-Category\": \"Workout \", \"Color\": \"Black, White\", \"Pattern\": \"Plain\", \"Brand\": \"Adidas\", \"Cost\": \"pricy\", \"2023\": \"No\"}, {\"ID\": 76, \"Name\": \"Tevas Sandal\", \"Count\": 0, \"Item\": \"Sandal\", \"Category\": \"Shoes\", \"Sub-Category\": \"Sandal\", \"Color\": \"Navy\", \"Pattern\": \"Celestial\", \"Brand\": \"Tevas\", \"Cost\": \"pricy\", \"2023\": \"No\"}, {\"ID\": 77, \"Name\": \"Marshall'S Knee-High Boots\", \"Count\": 1, \"Item\": \"Knee-High Boots\", \"Category\": \"Shoes\", \"Sub-Category\": \"Boots\", \"Color\": \"Black\", \"Pattern\": \"Plain\", \"Brand\": \"Marshall'S\", \"Cost\": \"cheap\", \"2023\": \"No\"}, {\"ID\": 78, \"Name\": \"Steve Madden Chunky Heel\", \"Count\": 0, \"Item\": \"Chunky Heel\", \"Category\": \"Shoes\", \"Sub-Category\": \"Heel\", \"Color\": \"Black\", \"Pattern\": \"Plain\", \"Brand\": \"Steve Madden\", \"Cost\": \"pricy\", \"2023\": \"No\"}, {\"ID\": 79, \"Name\": \"Steve Madden Satin Sandal\", \"Count\": 0, \"Item\": \"Satin Sandal\", \"Category\": \"Shoes\", \"Sub-Category\": \"Heel\", \"Color\": \"Pink\", \"Pattern\": \"Satin\", \"Brand\": \"Steve Madden\", \"Cost\": \"pricy\", \"2023\": \"No\"}, {\"ID\": 80, \"Name\": \"Karl Lagerfield Sandal\", \"Count\": 0, \"Item\": \"Sandal\", \"Category\": \"Shoes\", \"Sub-Category\": \"Heel\", \"Color\": \"White, Gold\", \"Pattern\": \"Plain\", \"Brand\": \"Karl Lagerfield\", \"Cost\": \"pricy\", \"2023\": \"No\"}, {\"ID\": 81, \"Name\": \"No Brand Gold Hoops\", \"Count\": 6, \"Item\": \"Gold Hoops\", \"Category\": \"Accessory\", \"Sub-Category\": \"Jewelry\", \"Color\": \"Gold\", \"Pattern\": \"Plain\", \"Brand\": \"No Brand\", \"Cost\": \"pricy\", \"2023\": \"No\"}, {\"ID\": 82, \"Name\": \"No Brand Christmas Tree Hoops\", \"Count\": 3, \"Item\": \"Christmas Tree Hoops\", \"Category\": \"Accessory\", \"Sub-Category\": \"Jewelry\", \"Color\": \"Gold\", \"Pattern\": \"Plain\", \"Brand\": \"No Brand\", \"Cost\": \"cheap\", \"2023\": \"No\"}, {\"ID\": 83, \"Name\": \"Tj Maxx Square Hoops\", \"Count\": 1, \"Item\": \"Square Hoops\", \"Category\": \"Accessory\", \"Sub-Category\": \"Jewelry\", \"Color\": \"Gold\", \"Pattern\": \"Plain\", \"Brand\": \"Tj Maxx\", \"Cost\": \"cheap\", \"2023\": \"No\"}, {\"ID\": 84, \"Name\": \"Hollister Puffer\", \"Count\": 9, \"Item\": \"Puffer\", \"Category\": \"Outerwear\", \"Sub-Category\": \"Coat\", \"Color\": \"Green\", \"Pattern\": \"Plain\", \"Brand\": \"Hollister\", \"Cost\": \"pricy\", \"2023\": \"No\"}, {\"ID\": 85, \"Name\": \"Ubc Tote Bag\", \"Count\": 8, \"Item\": \"Tote Bag\", \"Category\": \"Accessory\", \"Sub-Category\": \"Bag\", \"Color\": \"Green\", \"Pattern\": \"Logo\", \"Brand\": \"Ubc\", \"Cost\": \"cheap\", \"2023\": \"No\"}, {\"ID\": 86, \"Name\": \"No Brand Purse\", \"Count\": 0, \"Item\": \"Purse\", \"Category\": \"Accessory\", \"Sub-Category\": \"Bag\", \"Color\": \"White\", \"Pattern\": \"Vintage\", \"Brand\": \"No Brand\", \"Cost\": \"cheap\", \"2023\": \"No\"}, {\"ID\": 87, \"Name\": \"Target Bow\", \"Count\": 4, \"Item\": \"Bow\", \"Category\": \"Accessory\", \"Sub-Category\": \"Hat\", \"Color\": \"Black\", \"Pattern\": \"Plain\", \"Brand\": \"Target\", \"Cost\": \"cheap\", \"2023\": \"No\"}, {\"ID\": 88, \"Name\": \"Amazon Snake Tights\", \"Count\": 0, \"Item\": \"Snake Tights\", \"Category\": \"Accessory\", \"Sub-Category\": \"Tight\", \"Color\": \"Black\", \"Pattern\": \"Snake\", \"Brand\": \"Amazon\", \"Cost\": \"cheap\", \"2023\": \"No\"}, {\"ID\": 89, \"Name\": \"Francesca'S Purse\", \"Count\": 0, \"Item\": \"Purse\", \"Category\": \"Accessory\", \"Sub-Category\": \"Bag\", \"Color\": \"Silver\", \"Pattern\": \"Rhinestone\", \"Brand\": \"Francesca'S\", \"Cost\": \"pricy\", \"2023\": \"No\"}, {\"ID\": 90, \"Name\": \"Levi'S Jean Jacket\", \"Count\": 0, \"Item\": \"Jean Jacket\", \"Category\": \"Outerwear\", \"Sub-Category\": \"Coat\", \"Color\": \"Black\", \"Pattern\": \"Plain\", \"Brand\": \"Levi'S\", \"Cost\": \"pricy\", \"2023\": \"No\"}]}}, {\"mode\": \"vega-lite\"});\n",
       "</script>"
      ],
      "text/plain": [
       "alt.Chart(...)"
      ]
     },
     "execution_count": 12,
     "metadata": {},
     "output_type": "execute_result"
    }
   ],
   "source": [
    "alt.Chart(worn_df).mark_point(opacity=0.5).encode(\n",
    "    x=\"Count\",\n",
    "    y=\"Count\",\n",
    "    size=\"Count\",\n",
    "    color=\"Category\",\n",
    "    tooltip=\"Name\"\n",
    ")"
   ]
  },
  {
   "cell_type": "markdown",
   "id": "a03b653e-c5fa-4df5-9fac-abaf5ee62a79",
   "metadata": {
    "tags": []
   },
   "source": [
    "## Finalized plots"
   ]
  },
  {
   "cell_type": "code",
   "execution_count": null,
   "id": "9e471648-84b9-4286-9b2f-aa1fe376ae51",
   "metadata": {},
   "outputs": [],
   "source": [
    "# read in Google Form data\n",
    "def plot_mostworn():\n",
    "    most_worn = worn_df.nlargest(15, columns=\"Count\")\n",
    "    closet_comp = alt.Chart(most_worn, title=\"2023 Most Worn Pieces\"\n",
    "                       ).mark_bar(color=\"#6ce4d8\"\n",
    "                         ).encode(alt.X(\"Name\",\n",
    "                                        title=\"\",\n",
    "                                        axis=alt.Axis(labelAngle=-45), \n",
    "                                        sort=\"-y\"),\n",
    "                                  alt.Y(\"Count\", \n",
    "                                        title=\"Times Worn\",\n",
    "                                        axis=alt.Axis(tickMinStep=1)),\n",
    "                                  alt.Tooltip(\"Count\")\n",
    "                                 ).configure_axis(grid=False, domain=False)\n",
    "                \n",
    "    return closet_comp\n",
    "\n",
    "def plot_facet():\n",
    "    \n",
    "    categories = [\"Top\", \"Bottom\", \"Full Body\", \"Outerwear\", \"Accessory\", \"Shoes\"]\n",
    "\n",
    "    cat_plots = []\n",
    "\n",
    "    for i in categories:\n",
    "        category_worn = worn_df.loc[worn_df[\"Category\"] == i].nlargest(5, columns=\"Count\")\n",
    "\n",
    "        category_plot = alt.Chart(category_worn, title=f\"2023 Most Worn {i}\"\n",
    "                           ).mark_bar(color=\"#827191\",\n",
    "                           ).encode(alt.X(\"Name\", title=\"\", axis=alt.Axis(labelAngle=-45), sort=\"-y\"),\n",
    "                                    alt.Y(\"Count\", \n",
    "                                    title=\"# of Times Worn\",\n",
    "                                    axis=alt.Axis(tickMinStep=1)),\n",
    "                                    alt.Tooltip([\"Name\", \"Count\"])\n",
    "                            ).properties(\n",
    "                                height=200,\n",
    "                                width=150\n",
    "                                )\n",
    "        cat_plots.append(category_plot)\n",
    "\n",
    "    # configure altair charts\n",
    "    row1 = alt.hconcat(cat_plots[0], cat_plots[1], cat_plots[2])\n",
    "    row2 = alt.hconcat(cat_plots[3], cat_plots[4], cat_plots[5])\n",
    "\n",
    "    category_plot = alt.vconcat(row1, row2).configure_axis(grid=False, domain=False)\n",
    "    return category_plot\n",
    "\n",
    "def top_10_df(path = \"../data/2023TestData.csv\"):\n",
    "    \"\"\"\n",
    "    Function to return IDs and counts of top 10 most worn items.\n",
    "    \n",
    "    Parameters:\n",
    "    -----------\n",
    "         path : str\n",
    "            Path to CSV file containing closet information.\n",
    "    \n",
    "    Returns:\n",
    "    --------\n",
    "        top_10 : list\n",
    "            List containing the IDs of the top 10 most worn items.\n",
    "        \n",
    "        df : pandas.DataFrame\n",
    "            Dataframe containing data only for top 10 most worn items.\n",
    "    \"\"\"\n",
    "    df = pd.read_csv(path).drop(\"Timestamp\", axis=1).melt(\"Date\").dropna()\n",
    "    df[\"Date\"] = pd.to_datetime(df[\"Date\"])\n",
    "    df[\"ID\"] = df.value.str.extract('(\\d+)').astype(int)\n",
    "\n",
    "    # data wrangling to select top 10 most worn items\n",
    "    closet = sww.closet_df()\n",
    "    worn_df = sww.complete_df(closet)\n",
    "    most_worn = worn_df.nlargest(10, columns=\"Count\")\n",
    "    \n",
    "    # merge dataframes\n",
    "    df = pd.merge(closet, df, how=\"right\", on=\"ID\")\n",
    "    df = df[[\"ID\", \"Item\", \"Color\", \"Pattern\", \"Category\", \"Date\", \"Brand\"]]\n",
    "\n",
    "    top_10 = most_worn[\"ID\"].to_list() \n",
    " \n",
    "    return top_10, df\n",
    "\n",
    "\n",
    "def plot_heatmap(df, top_10, i=0):\n",
    "    \"\"\"\n",
    "    Function for heatmap plot.\n",
    "    \n",
    "    Parameters:\n",
    "    -----------\n",
    "         df : pandas.DataFrame   \n",
    "         \n",
    "         top_10 : list\n",
    "            List containing the IDs of the top 10 most worn items.\n",
    "         \n",
    "    Returns:\n",
    "    --------\n",
    "        heatplot : altair.Chart\n",
    "            Heatmap plot for a single item over a single calender year. \n",
    "             \n",
    "    \"\"\"\n",
    "    \n",
    "    # column of day of week for one calender year \n",
    "    time_df = pd.DataFrame()\n",
    "    time_df[\"Date\"] = pd.date_range(df[\"Date\"].min(), periods=365) \n",
    "    time_df[\"Day\"] = time_df[\"Date\"].dt.day_name()\n",
    "    \n",
    "    \n",
    "    heatmap_data = df.loc[df[\"ID\"] == top_10[i]] # need to make this dynamic in plot\n",
    "    item_name = heatmap_data[\"Brand\"].iloc[0] + \" \" + heatmap_data[\"Item\"].iloc[0]\n",
    "    \n",
    "    # isolate item data\n",
    "    year = pd.merge(time_df, heatmap_data, how=\"outer\", on=\"Date\")\n",
    "    year[\"Item\"] = year[\"Item\"].replace(np.nan, 0) \n",
    "    year[\"Bool\"] = np.where(year[\"Item\"] == 0, 0, 1)\n",
    "\n",
    "    # this is horrible to read lol\n",
    "    # wrangling for prettier plotting \n",
    "    week = time_df[\"Date\"].dt.isocalendar()\n",
    "    year[\"Week\"] = week[\"week\"].fillna(52)\n",
    "    year[\"Week\"] = year[\"Week\"].fillna(52)\n",
    "    year['First_day'] = year['Date'] - year['Date'].dt.weekday * np.timedelta64(1, 'D')\n",
    "    week = time_df[\"Date\"].dt.strftime('%m-%d-%y')\n",
    "    year[\"Week\"] = year[\"First_day\"].dt.strftime('%m-%d')\n",
    "    year = year[[\"Date\", \"Day\", \"Item\", \"ID\", \"Bool\", \"Week\"]]\n",
    "\n",
    "    weekdays = [\"Sunday\", \"Monday\", \"Tuesday\", \"Wednesday\", \"Thursday\", \"Friday\", \"Sunday\"]\n",
    "\n",
    "    heat_plot = alt.Chart(year, title=f\"{item_name} in 2023\").mark_rect(\n",
    "    stroke=\"white\",\n",
    "    strokeWidth=3,\n",
    "    opacity=0.9,\n",
    "    ).encode(\n",
    "    alt.X(\"Week:O\", \n",
    "          axis = alt.Axis(labelAngle=-60,                         )\n",
    "         ), \n",
    "    alt.Y(\"Day\", \n",
    "          sort=weekdays,\n",
    "         title=\"\"),\n",
    "    alt.Color(\"Bool\", \n",
    "            scale=alt.Scale(\n",
    "                domain=[0,1], \n",
    "                range=[\"#e0ddd5\", \"#74a675\"]),\n",
    "                legend=None\n",
    "             ),\n",
    "    alt.Tooltip([\"Date\", \"Day\"])\n",
    "    ).properties(\n",
    "    height=200,\n",
    "    width=600\n",
    "    ).configure_axis(grid=False, domain=False)\n",
    "    return heat_plot\n"
   ]
  },
  {
   "cell_type": "code",
   "execution_count": null,
   "id": "447d180a-6560-418f-b4f4-97bf47676bc3",
   "metadata": {},
   "outputs": [],
   "source": [
    "plot_mostworn()"
   ]
  },
  {
   "cell_type": "code",
   "execution_count": null,
   "id": "0583c644-c3e6-4bbc-a16c-a33f0a4eb725",
   "metadata": {},
   "outputs": [],
   "source": [
    "plot_facet()"
   ]
  },
  {
   "cell_type": "code",
   "execution_count": null,
   "id": "ea2b26ea-a78f-4cd8-8e8b-63ebbab145c2",
   "metadata": {},
   "outputs": [],
   "source": [
    "plot_heatmap(df, top_10)"
   ]
  },
  {
   "cell_type": "markdown",
   "id": "9a4a3e10-f969-4a65-ab2d-9f529b88e180",
   "metadata": {},
   "source": [
    "TO DO NEXT:\n",
    "- fix the concat'd function to plot y =\"count\"\n",
    "- color scheme of plots \n",
    "    - `range=[\"#e0ddd5\", \"#7c9e7b\"]` green/warm gray heatmap\n",
    "- [\"#bb8c9d\",\"#9a8ca6\",\"#8ba88a\",\"#5bccc1\",\"#e0ddd5\"]\n"
   ]
  },
  {
   "cell_type": "markdown",
   "id": "cd4817be-c696-4271-a728-dcc3c9994753",
   "metadata": {},
   "source": [
    "# Note to self \n",
    "- maybe add ID into google sheet for easier merging later?\n",
    "\n",
    "IDEA: \n",
    "- is there anyway to read google sheet data in automatically? its a pain to download everytime for testing"
   ]
  },
  {
   "cell_type": "code",
   "execution_count": null,
   "id": "9494e306-1362-4bea-a0d7-d404b17e1f66",
   "metadata": {},
   "outputs": [],
   "source": []
  }
 ],
 "metadata": {
  "kernelspec": {
   "display_name": "Python 3 (ipykernel)",
   "language": "python",
   "name": "python3"
  },
  "language_info": {
   "codemirror_mode": {
    "name": "ipython",
    "version": 3
   },
   "file_extension": ".py",
   "mimetype": "text/x-python",
   "name": "python",
   "nbconvert_exporter": "python",
   "pygments_lexer": "ipython3",
   "version": "3.9.7"
  }
 },
 "nbformat": 4,
 "nbformat_minor": 5
}
