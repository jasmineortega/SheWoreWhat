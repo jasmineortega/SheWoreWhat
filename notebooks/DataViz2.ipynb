{
 "cells": [
  {
   "cell_type": "markdown",
   "id": "48ada91d-9bfb-4bb6-96c3-6c5a9425d633",
   "metadata": {},
   "source": [
    "# More data viz ideas \n",
    "- now that I have a basic layout, we can have more concrete ideas"
   ]
  },
  {
   "cell_type": "code",
   "execution_count": 13,
   "id": "d0b144b6-bd11-455a-b97f-7a0263c122ad",
   "metadata": {},
   "outputs": [],
   "source": [
    "from dash import Dash, html, dcc, Input, Output\n",
    "import altair as alt\n",
    "import dash_bootstrap_components as dbc\n",
    "import pandas as pd\n",
    "import numpy as np\n",
    "import sheworewhat as sww"
   ]
  },
  {
   "cell_type": "code",
   "execution_count": 12,
   "id": "aa88d273-9f27-40b3-97db-1e223285553b",
   "metadata": {
    "tags": []
   },
   "outputs": [],
   "source": [
    "df = sww.closet_df()\n",
    "worn_df = sww.complete_df(df)\n",
    "worn_df.head(5)"
   ]
  },
  {
   "cell_type": "markdown",
   "id": "e8ebc7c3-69d0-43cb-b9e5-c4717e564f57",
   "metadata": {},
   "source": [
    "Ideas:\n",
    "- Seasonal shit \n",
    "- Color analysis"
   ]
  },
  {
   "cell_type": "markdown",
   "id": "9494a915-d878-426a-a388-605188cc4547",
   "metadata": {},
   "source": [
    "## Color Analysis\n",
    "- would be SICK to actually plot the colors of my closet"
   ]
  },
  {
   "cell_type": "code",
   "execution_count": 96,
   "id": "f1b360bc-c241-48e6-b113-ea9705341ac7",
   "metadata": {},
   "outputs": [],
   "source": [
    "# split the color \n",
    "color_df = pd.concat([worn_df[[\"ID\", \"Item\", \"Count\"]], worn_df[\"Color\"].str.split(\",\", expand=True)], axis=1)\n",
    "color_df = color_df.rename(columns={0:\"Color1\",\n",
    "                                   1:\"Color2\", \n",
    "                                   2:\"Color3\"})\n",
    "color_df.sample(1)"
   ]
  },
  {
   "cell_type": "code",
   "execution_count": 85,
   "id": "db03a828-ec6c-4caa-994f-6799d38c1760",
   "metadata": {},
   "outputs": [],
   "source": [
    "plot_primaryc = alt.Chart(color_df, \n",
    "                          title=\"Primary Color\"\n",
    "                ).mark_bar(\n",
    "                    cornerRadiusBottomRight=10,\n",
    "                    cornerRadiusTopRight=10\n",
    "                ).encode(\n",
    "                    alt.Y(\n",
    "                        \"Color1\",\n",
    "                        sort=\"-x\",\n",
    "                        title=\"Primary Color of Wardrobe\"\n",
    "                    ),\n",
    "                    alt.X(\n",
    "                        \"count()\",\n",
    "                        title=\"Count\"\n",
    "                    ),\n",
    "                    color=\"Color1\",\n",
    "                    tooltip=[\"count()\"]\n",
    "                )\n",
    "plot_primaryc"
   ]
  },
  {
   "cell_type": "markdown",
   "id": "fa0062bc-78f4-47d7-bb0c-e987c854051d",
   "metadata": {},
   "source": [
    "What if I used a stacked bar chart?"
   ]
  },
  {
   "cell_type": "code",
   "execution_count": 80,
   "id": "f65a44fd-b892-41db-9076-9cfd3bb243f7",
   "metadata": {},
   "outputs": [],
   "source": [
    "plot_secondc = alt.Chart(color_df, \n",
    "                          title=\"Secondary Color\"\n",
    "                ).mark_bar(\n",
    "                    cornerRadiusBottomRight=10,\n",
    "                    cornerRadiusTopRight=10\n",
    "                ).encode(\n",
    "                    alt.Y(\n",
    "                        \"Color2\",\n",
    "                        sort=\"-x\",\n",
    "                        title=\"Primary Color of Wardrobe\"\n",
    "                    ),\n",
    "                    alt.X(\n",
    "                        \"count()\",\n",
    "                        title=\"Count\"\n",
    "                    ),\n",
    "                    color=\"Color1\",\n",
    "                    tooltip=[\"count()\"]\n",
    "                )\n",
    "plot_secondc"
   ]
  },
  {
   "cell_type": "markdown",
   "id": "830c14e9-9dfb-4b0b-940e-2c8226d6fc42",
   "metadata": {},
   "source": [
    "was going to try to melt all the colors into one column but i cannot get it to work"
   ]
  },
  {
   "cell_type": "code",
   "execution_count": 106,
   "id": "9e136833-0790-4a32-aac9-98a1d79496fd",
   "metadata": {},
   "outputs": [],
   "source": [
    "worn_df.columns"
   ]
  },
  {
   "cell_type": "code",
   "execution_count": 162,
   "id": "7de4fa22-48f0-4316-a07d-c254f2b28390",
   "metadata": {},
   "outputs": [
    {
     "data": {
      "text/html": [
       "\n",
       "<div id=\"altair-viz-93fde4d0340f45dbbc89c09b5a1d35b5\"></div>\n",
       "<script type=\"text/javascript\">\n",
       "  var VEGA_DEBUG = (typeof VEGA_DEBUG == \"undefined\") ? {} : VEGA_DEBUG;\n",
       "  (function(spec, embedOpt){\n",
       "    let outputDiv = document.currentScript.previousElementSibling;\n",
       "    if (outputDiv.id !== \"altair-viz-93fde4d0340f45dbbc89c09b5a1d35b5\") {\n",
       "      outputDiv = document.getElementById(\"altair-viz-93fde4d0340f45dbbc89c09b5a1d35b5\");\n",
       "    }\n",
       "    const paths = {\n",
       "      \"vega\": \"https://cdn.jsdelivr.net/npm//vega@5?noext\",\n",
       "      \"vega-lib\": \"https://cdn.jsdelivr.net/npm//vega-lib?noext\",\n",
       "      \"vega-lite\": \"https://cdn.jsdelivr.net/npm//vega-lite@4.17.0?noext\",\n",
       "      \"vega-embed\": \"https://cdn.jsdelivr.net/npm//vega-embed@6?noext\",\n",
       "    };\n",
       "\n",
       "    function maybeLoadScript(lib, version) {\n",
       "      var key = `${lib.replace(\"-\", \"\")}_version`;\n",
       "      return (VEGA_DEBUG[key] == version) ?\n",
       "        Promise.resolve(paths[lib]) :\n",
       "        new Promise(function(resolve, reject) {\n",
       "          var s = document.createElement('script');\n",
       "          document.getElementsByTagName(\"head\")[0].appendChild(s);\n",
       "          s.async = true;\n",
       "          s.onload = () => {\n",
       "            VEGA_DEBUG[key] = version;\n",
       "            return resolve(paths[lib]);\n",
       "          };\n",
       "          s.onerror = () => reject(`Error loading script: ${paths[lib]}`);\n",
       "          s.src = paths[lib];\n",
       "        });\n",
       "    }\n",
       "\n",
       "    function showError(err) {\n",
       "      outputDiv.innerHTML = `<div class=\"error\" style=\"color:red;\">${err}</div>`;\n",
       "      throw err;\n",
       "    }\n",
       "\n",
       "    function displayChart(vegaEmbed) {\n",
       "      vegaEmbed(outputDiv, spec, embedOpt)\n",
       "        .catch(err => showError(`Javascript Error: ${err.message}<br>This usually means there's a typo in your chart specification. See the javascript console for the full traceback.`));\n",
       "    }\n",
       "\n",
       "    if(typeof define === \"function\" && define.amd) {\n",
       "      requirejs.config({paths});\n",
       "      require([\"vega-embed\"], displayChart, err => showError(`Error loading script: ${err.message}`));\n",
       "    } else {\n",
       "      maybeLoadScript(\"vega\", \"5\")\n",
       "        .then(() => maybeLoadScript(\"vega-lite\", \"4.17.0\"))\n",
       "        .then(() => maybeLoadScript(\"vega-embed\", \"6\"))\n",
       "        .catch(showError)\n",
       "        .then(() => displayChart(vegaEmbed));\n",
       "    }\n",
       "  })({\"config\": {\"view\": {\"continuousWidth\": 400, \"continuousHeight\": 300}}, \"data\": {\"name\": \"data-d78256ee128c26f86f87a7b2b5324514\"}, \"mark\": {\"type\": \"bar\", \"cornerRadiusBottomRight\": 10, \"cornerRadiusTopRight\": 10}, \"encoding\": {\"tooltip\": [{\"aggregate\": \"count\", \"type\": \"quantitative\"}], \"x\": {\"aggregate\": \"count\", \"title\": \"Count\", \"type\": \"quantitative\"}, \"y\": {\"field\": \"Color\", \"sort\": \"-x\", \"title\": \"Primary Color of Wardrobe\", \"type\": \"nominal\"}}, \"title\": \"Primary Color\", \"$schema\": \"https://vega.github.io/schema/vega-lite/v4.17.0.json\", \"datasets\": {\"data-d78256ee128c26f86f87a7b2b5324514\": [{\"ID\": 0, \"former_name\": 0, \"Color\": \"Black\"}, {\"ID\": 1, \"former_name\": 0, \"Color\": \"Black\"}, {\"ID\": 2, \"former_name\": 0, \"Color\": \"Black\"}, {\"ID\": 3, \"former_name\": 0, \"Color\": \"Blue\"}, {\"ID\": 4, \"former_name\": 0, \"Color\": \"Black\"}, {\"ID\": 5, \"former_name\": 0, \"Color\": \"Black\"}, {\"ID\": 6, \"former_name\": 0, \"Color\": \"White\"}, {\"ID\": 7, \"former_name\": 0, \"Color\": \"Black\"}, {\"ID\": 8, \"former_name\": 0, \"Color\": \"Black\"}, {\"ID\": 9, \"former_name\": 0, \"Color\": \"Black\"}, {\"ID\": 10, \"former_name\": 0, \"Color\": \"Tan\"}, {\"ID\": 11, \"former_name\": 0, \"Color\": \"Black\"}, {\"ID\": 12, \"former_name\": 0, \"Color\": \"Black\"}, {\"ID\": 13, \"former_name\": 0, \"Color\": \"White\"}, {\"ID\": 14, \"former_name\": 0, \"Color\": \"Clay\"}, {\"ID\": 15, \"former_name\": 0, \"Color\": \"Navy\"}, {\"ID\": 16, \"former_name\": 0, \"Color\": \"Green\"}, {\"ID\": 17, \"former_name\": 0, \"Color\": \"Black\"}, {\"ID\": 18, \"former_name\": 0, \"Color\": \"Navy\"}, {\"ID\": 19, \"former_name\": 0, \"Color\": \"Green\"}, {\"ID\": 20, \"former_name\": 0, \"Color\": \"Gray\"}, {\"ID\": 21, \"former_name\": 0, \"Color\": \"Black\"}, {\"ID\": 22, \"former_name\": 0, \"Color\": \"Brown\"}, {\"ID\": 23, \"former_name\": 0, \"Color\": \"Navy\"}, {\"ID\": 24, \"former_name\": 0, \"Color\": \"Green\"}, {\"ID\": 25, \"former_name\": 0, \"Color\": \"Red\"}, {\"ID\": 26, \"former_name\": 0, \"Color\": \"Black\"}, {\"ID\": 27, \"former_name\": 0, \"Color\": \"Black\"}, {\"ID\": 28, \"former_name\": 0, \"Color\": \"Black\"}, {\"ID\": 29, \"former_name\": 0, \"Color\": \"White\"}, {\"ID\": 30, \"former_name\": 0, \"Color\": \"Black\"}, {\"ID\": 31, \"former_name\": 0, \"Color\": \"Navy\"}, {\"ID\": 32, \"former_name\": 0, \"Color\": \"Orange\"}, {\"ID\": 33, \"former_name\": 0, \"Color\": \"Black\"}, {\"ID\": 34, \"former_name\": 0, \"Color\": \"Black\"}, {\"ID\": 35, \"former_name\": 0, \"Color\": \"Black\"}, {\"ID\": 36, \"former_name\": 0, \"Color\": \"Beige\"}, {\"ID\": 37, \"former_name\": 0, \"Color\": \"Black\"}, {\"ID\": 38, \"former_name\": 0, \"Color\": \"Black\"}, {\"ID\": 39, \"former_name\": 0, \"Color\": \"Black\"}, {\"ID\": 40, \"former_name\": 0, \"Color\": \"White\"}, {\"ID\": 41, \"former_name\": 0, \"Color\": \"White\"}, {\"ID\": 42, \"former_name\": 0, \"Color\": \"Cream\"}, {\"ID\": 43, \"former_name\": 0, \"Color\": \"White\"}, {\"ID\": 44, \"former_name\": 0, \"Color\": \"Navy\"}, {\"ID\": 45, \"former_name\": 0, \"Color\": \"Pink\"}, {\"ID\": 46, \"former_name\": 0, \"Color\": \"White\"}, {\"ID\": 47, \"former_name\": 0, \"Color\": \"Yellow\"}, {\"ID\": 48, \"former_name\": 0, \"Color\": \"Black\"}, {\"ID\": 49, \"former_name\": 0, \"Color\": \"Black\"}, {\"ID\": 50, \"former_name\": 0, \"Color\": \"Gray\"}, {\"ID\": 51, \"former_name\": 0, \"Color\": \"Burgundy\"}, {\"ID\": 52, \"former_name\": 0, \"Color\": \"Black\"}, {\"ID\": 53, \"former_name\": 0, \"Color\": \"Black\"}, {\"ID\": 54, \"former_name\": 0, \"Color\": \"Black\"}, {\"ID\": 55, \"former_name\": 0, \"Color\": \"Black\"}, {\"ID\": 56, \"former_name\": 0, \"Color\": \"Black\"}, {\"ID\": 57, \"former_name\": 0, \"Color\": \"Green\"}, {\"ID\": 58, \"former_name\": 0, \"Color\": \"White\"}, {\"ID\": 59, \"former_name\": 0, \"Color\": \"Navy\"}, {\"ID\": 60, \"former_name\": 0, \"Color\": \"Beige\"}, {\"ID\": 61, \"former_name\": 0, \"Color\": \"Tan\"}, {\"ID\": 62, \"former_name\": 0, \"Color\": \"Black\"}, {\"ID\": 63, \"former_name\": 0, \"Color\": \"Tan\"}, {\"ID\": 64, \"former_name\": 0, \"Color\": \"Tan\"}, {\"ID\": 65, \"former_name\": 0, \"Color\": \"Lavender\"}, {\"ID\": 66, \"former_name\": 0, \"Color\": \"Green\"}, {\"ID\": 67, \"former_name\": 0, \"Color\": \"White\"}, {\"ID\": 68, \"former_name\": 0, \"Color\": \"Gray\"}, {\"ID\": 69, \"former_name\": 0, \"Color\": \"Black\"}, {\"ID\": 70, \"former_name\": 0, \"Color\": \"Cream\"}, {\"ID\": 71, \"former_name\": 0, \"Color\": \"Gold\"}, {\"ID\": 72, \"former_name\": 0, \"Color\": \"Black\"}, {\"ID\": 73, \"former_name\": 0, \"Color\": \"Black\"}, {\"ID\": 74, \"former_name\": 0, \"Color\": \"Black\"}, {\"ID\": 75, \"former_name\": 0, \"Color\": \"Black\"}, {\"ID\": 76, \"former_name\": 0, \"Color\": \"Navy\"}, {\"ID\": 77, \"former_name\": 0, \"Color\": \"Black\"}, {\"ID\": 78, \"former_name\": 0, \"Color\": \"Black\"}, {\"ID\": 79, \"former_name\": 0, \"Color\": \"Pink\"}, {\"ID\": 80, \"former_name\": 0, \"Color\": \"White\"}, {\"ID\": 81, \"former_name\": 0, \"Color\": \"Gold\"}, {\"ID\": 82, \"former_name\": 0, \"Color\": \"Gold\"}, {\"ID\": 83, \"former_name\": 0, \"Color\": \"Gold\"}, {\"ID\": 84, \"former_name\": 0, \"Color\": \"Green\"}, {\"ID\": 85, \"former_name\": 0, \"Color\": \"Green\"}, {\"ID\": 86, \"former_name\": 0, \"Color\": \"White\"}, {\"ID\": 87, \"former_name\": 0, \"Color\": \"Black\"}, {\"ID\": 88, \"former_name\": 0, \"Color\": \"Black\"}, {\"ID\": 89, \"former_name\": 0, \"Color\": \"Silver\"}, {\"ID\": 90, \"former_name\": 0, \"Color\": \"Black\"}, {\"ID\": 91, \"former_name\": 0, \"Color\": \"Blue\"}, {\"ID\": 1, \"former_name\": 1, \"Color\": \" Red\"}, {\"ID\": 2, \"former_name\": 1, \"Color\": \" Tan\"}, {\"ID\": 4, \"former_name\": 1, \"Color\": \" White\"}, {\"ID\": 8, \"former_name\": 1, \"Color\": \" White\"}, {\"ID\": 10, \"former_name\": 1, \"Color\": \" White\"}, {\"ID\": 11, \"former_name\": 1, \"Color\": \" White\"}, {\"ID\": 21, \"former_name\": 1, \"Color\": \" White\"}, {\"ID\": 30, \"former_name\": 1, \"Color\": \" White\"}, {\"ID\": 32, \"former_name\": 1, \"Color\": \" Black\"}, {\"ID\": 42, \"former_name\": 1, \"Color\": \" Gold\"}, {\"ID\": 45, \"former_name\": 1, \"Color\": \" Silver\"}, {\"ID\": 53, \"former_name\": 1, \"Color\": \" Pink\"}, {\"ID\": 55, \"former_name\": 1, \"Color\": \" White\"}, {\"ID\": 58, \"former_name\": 1, \"Color\": \" Green\"}, {\"ID\": 69, \"former_name\": 1, \"Color\": \" Brown\"}, {\"ID\": 70, \"former_name\": 1, \"Color\": \" Navy\"}, {\"ID\": 75, \"former_name\": 1, \"Color\": \" White\"}, {\"ID\": 80, \"former_name\": 1, \"Color\": \" Gold\"}, {\"ID\": 91, \"former_name\": 1, \"Color\": \" Silver\"}, {\"ID\": 1, \"former_name\": 2, \"Color\": \" Gold\"}]}}, {\"mode\": \"vega-lite\"});\n",
       "</script>"
      ],
      "text/plain": [
       "alt.Chart(...)"
      ]
     },
     "execution_count": 162,
     "metadata": {},
     "output_type": "execute_result"
    }
   ],
   "source": [
    "# split the color column and melt into one\n",
    "color_df = pd.concat([worn_df[[\"ID\", \"Item\", \"Count\", \"Category\"]], \n",
    "                      worn_df[\"Color\"].str.split(\",\", n=2, expand=True)], \n",
    "                     axis=1)\n",
    "\n",
    "color_df = color_df.melt(id_vars=[\"ID\"], \n",
    "                         value_vars=[0, 1,2],\n",
    "                         var_name=\"former_name\",\n",
    "                         value_name=\"Color\"\n",
    "                        ).fillna(\"Delete\")\n",
    "\n",
    "# only keep multiple colors if present\n",
    "color_df = color_df[color_df[\"Color\"] != \"Delete\"]\n",
    "\n",
    "plot_color = alt.Chart(color_df, \n",
    "                          title=\"Primary Color\"\n",
    "                ).mark_bar(\n",
    "                    cornerRadiusBottomRight=10,\n",
    "                    cornerRadiusTopRight=10\n",
    "                ).encode(\n",
    "                    alt.Y(\n",
    "                        \"Color\",\n",
    "                        sort=\"-x\",\n",
    "                        title=\"Primary Color of Wardrobe\"\n",
    "                    ),\n",
    "                    alt.X(\n",
    "                        \"count()\",\n",
    "                        title=\"Count\"\n",
    "                    ),\n",
    "                    tooltip=[\"count()\"]\n",
    "                )\n",
    "plot_color"
   ]
  },
  {
   "cell_type": "code",
   "execution_count": 173,
   "id": "f9e73ea2-ec83-4010-b450-e9ef80a0651b",
   "metadata": {},
   "outputs": [
    {
     "data": {
      "text/html": [
       "\n",
       "<div id=\"altair-viz-ff4708d30ef9461a9a7b39c521da696b\"></div>\n",
       "<script type=\"text/javascript\">\n",
       "  var VEGA_DEBUG = (typeof VEGA_DEBUG == \"undefined\") ? {} : VEGA_DEBUG;\n",
       "  (function(spec, embedOpt){\n",
       "    let outputDiv = document.currentScript.previousElementSibling;\n",
       "    if (outputDiv.id !== \"altair-viz-ff4708d30ef9461a9a7b39c521da696b\") {\n",
       "      outputDiv = document.getElementById(\"altair-viz-ff4708d30ef9461a9a7b39c521da696b\");\n",
       "    }\n",
       "    const paths = {\n",
       "      \"vega\": \"https://cdn.jsdelivr.net/npm//vega@5?noext\",\n",
       "      \"vega-lib\": \"https://cdn.jsdelivr.net/npm//vega-lib?noext\",\n",
       "      \"vega-lite\": \"https://cdn.jsdelivr.net/npm//vega-lite@4.17.0?noext\",\n",
       "      \"vega-embed\": \"https://cdn.jsdelivr.net/npm//vega-embed@6?noext\",\n",
       "    };\n",
       "\n",
       "    function maybeLoadScript(lib, version) {\n",
       "      var key = `${lib.replace(\"-\", \"\")}_version`;\n",
       "      return (VEGA_DEBUG[key] == version) ?\n",
       "        Promise.resolve(paths[lib]) :\n",
       "        new Promise(function(resolve, reject) {\n",
       "          var s = document.createElement('script');\n",
       "          document.getElementsByTagName(\"head\")[0].appendChild(s);\n",
       "          s.async = true;\n",
       "          s.onload = () => {\n",
       "            VEGA_DEBUG[key] = version;\n",
       "            return resolve(paths[lib]);\n",
       "          };\n",
       "          s.onerror = () => reject(`Error loading script: ${paths[lib]}`);\n",
       "          s.src = paths[lib];\n",
       "        });\n",
       "    }\n",
       "\n",
       "    function showError(err) {\n",
       "      outputDiv.innerHTML = `<div class=\"error\" style=\"color:red;\">${err}</div>`;\n",
       "      throw err;\n",
       "    }\n",
       "\n",
       "    function displayChart(vegaEmbed) {\n",
       "      vegaEmbed(outputDiv, spec, embedOpt)\n",
       "        .catch(err => showError(`Javascript Error: ${err.message}<br>This usually means there's a typo in your chart specification. See the javascript console for the full traceback.`));\n",
       "    }\n",
       "\n",
       "    if(typeof define === \"function\" && define.amd) {\n",
       "      requirejs.config({paths});\n",
       "      require([\"vega-embed\"], displayChart, err => showError(`Error loading script: ${err.message}`));\n",
       "    } else {\n",
       "      maybeLoadScript(\"vega\", \"5\")\n",
       "        .then(() => maybeLoadScript(\"vega-lite\", \"4.17.0\"))\n",
       "        .then(() => maybeLoadScript(\"vega-embed\", \"6\"))\n",
       "        .catch(showError)\n",
       "        .then(() => displayChart(vegaEmbed));\n",
       "    }\n",
       "  })({\"config\": {\"view\": {\"continuousWidth\": 400, \"continuousHeight\": 300}}, \"data\": {\"name\": \"data-d78256ee128c26f86f87a7b2b5324514\"}, \"mark\": {\"type\": \"arc\", \"innerRadius\": 20, \"stroke\": \"#fff\"}, \"encoding\": {\"color\": {\"field\": \"Color\", \"type\": \"nominal\"}, \"radius\": {\"aggregate\": \"count\", \"scale\": {\"rangeMin\": 20, \"type\": \"sqrt\", \"zero\": true}, \"type\": \"quantitative\"}, \"theta\": {\"aggregate\": \"count\", \"stack\": true, \"type\": \"quantitative\"}, \"tooltip\": [{\"field\": \"Color\", \"type\": \"nominal\"}, {\"aggregate\": \"count\", \"type\": \"quantitative\"}]}, \"$schema\": \"https://vega.github.io/schema/vega-lite/v4.17.0.json\", \"datasets\": {\"data-d78256ee128c26f86f87a7b2b5324514\": [{\"ID\": 0, \"former_name\": 0, \"Color\": \"Black\"}, {\"ID\": 1, \"former_name\": 0, \"Color\": \"Black\"}, {\"ID\": 2, \"former_name\": 0, \"Color\": \"Black\"}, {\"ID\": 3, \"former_name\": 0, \"Color\": \"Blue\"}, {\"ID\": 4, \"former_name\": 0, \"Color\": \"Black\"}, {\"ID\": 5, \"former_name\": 0, \"Color\": \"Black\"}, {\"ID\": 6, \"former_name\": 0, \"Color\": \"White\"}, {\"ID\": 7, \"former_name\": 0, \"Color\": \"Black\"}, {\"ID\": 8, \"former_name\": 0, \"Color\": \"Black\"}, {\"ID\": 9, \"former_name\": 0, \"Color\": \"Black\"}, {\"ID\": 10, \"former_name\": 0, \"Color\": \"Tan\"}, {\"ID\": 11, \"former_name\": 0, \"Color\": \"Black\"}, {\"ID\": 12, \"former_name\": 0, \"Color\": \"Black\"}, {\"ID\": 13, \"former_name\": 0, \"Color\": \"White\"}, {\"ID\": 14, \"former_name\": 0, \"Color\": \"Clay\"}, {\"ID\": 15, \"former_name\": 0, \"Color\": \"Navy\"}, {\"ID\": 16, \"former_name\": 0, \"Color\": \"Green\"}, {\"ID\": 17, \"former_name\": 0, \"Color\": \"Black\"}, {\"ID\": 18, \"former_name\": 0, \"Color\": \"Navy\"}, {\"ID\": 19, \"former_name\": 0, \"Color\": \"Green\"}, {\"ID\": 20, \"former_name\": 0, \"Color\": \"Gray\"}, {\"ID\": 21, \"former_name\": 0, \"Color\": \"Black\"}, {\"ID\": 22, \"former_name\": 0, \"Color\": \"Brown\"}, {\"ID\": 23, \"former_name\": 0, \"Color\": \"Navy\"}, {\"ID\": 24, \"former_name\": 0, \"Color\": \"Green\"}, {\"ID\": 25, \"former_name\": 0, \"Color\": \"Red\"}, {\"ID\": 26, \"former_name\": 0, \"Color\": \"Black\"}, {\"ID\": 27, \"former_name\": 0, \"Color\": \"Black\"}, {\"ID\": 28, \"former_name\": 0, \"Color\": \"Black\"}, {\"ID\": 29, \"former_name\": 0, \"Color\": \"White\"}, {\"ID\": 30, \"former_name\": 0, \"Color\": \"Black\"}, {\"ID\": 31, \"former_name\": 0, \"Color\": \"Navy\"}, {\"ID\": 32, \"former_name\": 0, \"Color\": \"Orange\"}, {\"ID\": 33, \"former_name\": 0, \"Color\": \"Black\"}, {\"ID\": 34, \"former_name\": 0, \"Color\": \"Black\"}, {\"ID\": 35, \"former_name\": 0, \"Color\": \"Black\"}, {\"ID\": 36, \"former_name\": 0, \"Color\": \"Beige\"}, {\"ID\": 37, \"former_name\": 0, \"Color\": \"Black\"}, {\"ID\": 38, \"former_name\": 0, \"Color\": \"Black\"}, {\"ID\": 39, \"former_name\": 0, \"Color\": \"Black\"}, {\"ID\": 40, \"former_name\": 0, \"Color\": \"White\"}, {\"ID\": 41, \"former_name\": 0, \"Color\": \"White\"}, {\"ID\": 42, \"former_name\": 0, \"Color\": \"Cream\"}, {\"ID\": 43, \"former_name\": 0, \"Color\": \"White\"}, {\"ID\": 44, \"former_name\": 0, \"Color\": \"Navy\"}, {\"ID\": 45, \"former_name\": 0, \"Color\": \"Pink\"}, {\"ID\": 46, \"former_name\": 0, \"Color\": \"White\"}, {\"ID\": 47, \"former_name\": 0, \"Color\": \"Yellow\"}, {\"ID\": 48, \"former_name\": 0, \"Color\": \"Black\"}, {\"ID\": 49, \"former_name\": 0, \"Color\": \"Black\"}, {\"ID\": 50, \"former_name\": 0, \"Color\": \"Gray\"}, {\"ID\": 51, \"former_name\": 0, \"Color\": \"Burgundy\"}, {\"ID\": 52, \"former_name\": 0, \"Color\": \"Black\"}, {\"ID\": 53, \"former_name\": 0, \"Color\": \"Black\"}, {\"ID\": 54, \"former_name\": 0, \"Color\": \"Black\"}, {\"ID\": 55, \"former_name\": 0, \"Color\": \"Black\"}, {\"ID\": 56, \"former_name\": 0, \"Color\": \"Black\"}, {\"ID\": 57, \"former_name\": 0, \"Color\": \"Green\"}, {\"ID\": 58, \"former_name\": 0, \"Color\": \"White\"}, {\"ID\": 59, \"former_name\": 0, \"Color\": \"Navy\"}, {\"ID\": 60, \"former_name\": 0, \"Color\": \"Beige\"}, {\"ID\": 61, \"former_name\": 0, \"Color\": \"Tan\"}, {\"ID\": 62, \"former_name\": 0, \"Color\": \"Black\"}, {\"ID\": 63, \"former_name\": 0, \"Color\": \"Tan\"}, {\"ID\": 64, \"former_name\": 0, \"Color\": \"Tan\"}, {\"ID\": 65, \"former_name\": 0, \"Color\": \"Lavender\"}, {\"ID\": 66, \"former_name\": 0, \"Color\": \"Green\"}, {\"ID\": 67, \"former_name\": 0, \"Color\": \"White\"}, {\"ID\": 68, \"former_name\": 0, \"Color\": \"Gray\"}, {\"ID\": 69, \"former_name\": 0, \"Color\": \"Black\"}, {\"ID\": 70, \"former_name\": 0, \"Color\": \"Cream\"}, {\"ID\": 71, \"former_name\": 0, \"Color\": \"Gold\"}, {\"ID\": 72, \"former_name\": 0, \"Color\": \"Black\"}, {\"ID\": 73, \"former_name\": 0, \"Color\": \"Black\"}, {\"ID\": 74, \"former_name\": 0, \"Color\": \"Black\"}, {\"ID\": 75, \"former_name\": 0, \"Color\": \"Black\"}, {\"ID\": 76, \"former_name\": 0, \"Color\": \"Navy\"}, {\"ID\": 77, \"former_name\": 0, \"Color\": \"Black\"}, {\"ID\": 78, \"former_name\": 0, \"Color\": \"Black\"}, {\"ID\": 79, \"former_name\": 0, \"Color\": \"Pink\"}, {\"ID\": 80, \"former_name\": 0, \"Color\": \"White\"}, {\"ID\": 81, \"former_name\": 0, \"Color\": \"Gold\"}, {\"ID\": 82, \"former_name\": 0, \"Color\": \"Gold\"}, {\"ID\": 83, \"former_name\": 0, \"Color\": \"Gold\"}, {\"ID\": 84, \"former_name\": 0, \"Color\": \"Green\"}, {\"ID\": 85, \"former_name\": 0, \"Color\": \"Green\"}, {\"ID\": 86, \"former_name\": 0, \"Color\": \"White\"}, {\"ID\": 87, \"former_name\": 0, \"Color\": \"Black\"}, {\"ID\": 88, \"former_name\": 0, \"Color\": \"Black\"}, {\"ID\": 89, \"former_name\": 0, \"Color\": \"Silver\"}, {\"ID\": 90, \"former_name\": 0, \"Color\": \"Black\"}, {\"ID\": 91, \"former_name\": 0, \"Color\": \"Blue\"}, {\"ID\": 1, \"former_name\": 1, \"Color\": \" Red\"}, {\"ID\": 2, \"former_name\": 1, \"Color\": \" Tan\"}, {\"ID\": 4, \"former_name\": 1, \"Color\": \" White\"}, {\"ID\": 8, \"former_name\": 1, \"Color\": \" White\"}, {\"ID\": 10, \"former_name\": 1, \"Color\": \" White\"}, {\"ID\": 11, \"former_name\": 1, \"Color\": \" White\"}, {\"ID\": 21, \"former_name\": 1, \"Color\": \" White\"}, {\"ID\": 30, \"former_name\": 1, \"Color\": \" White\"}, {\"ID\": 32, \"former_name\": 1, \"Color\": \" Black\"}, {\"ID\": 42, \"former_name\": 1, \"Color\": \" Gold\"}, {\"ID\": 45, \"former_name\": 1, \"Color\": \" Silver\"}, {\"ID\": 53, \"former_name\": 1, \"Color\": \" Pink\"}, {\"ID\": 55, \"former_name\": 1, \"Color\": \" White\"}, {\"ID\": 58, \"former_name\": 1, \"Color\": \" Green\"}, {\"ID\": 69, \"former_name\": 1, \"Color\": \" Brown\"}, {\"ID\": 70, \"former_name\": 1, \"Color\": \" Navy\"}, {\"ID\": 75, \"former_name\": 1, \"Color\": \" White\"}, {\"ID\": 80, \"former_name\": 1, \"Color\": \" Gold\"}, {\"ID\": 91, \"former_name\": 1, \"Color\": \" Silver\"}, {\"ID\": 1, \"former_name\": 2, \"Color\": \" Gold\"}]}}, {\"mode\": \"vega-lite\"});\n",
       "</script>"
      ],
      "text/plain": [
       "alt.Chart(...)"
      ]
     },
     "execution_count": 173,
     "metadata": {},
     "output_type": "execute_result"
    }
   ],
   "source": [
    "base = alt.Chart(color_df).encode(\n",
    "    theta=alt.Theta(\"count()\", stack=True),\n",
    "    radius=alt.Radius(\"count()\", scale=alt.Scale(type=\"sqrt\", zero=True, rangeMin=20)),\n",
    "    color=\"Color\",\n",
    "    tooltip=[\"Color\", \"count()\"]\n",
    ")\n",
    "\n",
    "c1 = base.mark_arc(innerRadius=20, stroke=\"#fff\")\n",
    "c1 "
   ]
  },
  {
   "cell_type": "code",
   "execution_count": null,
   "id": "68b1cd82-a55d-4429-958a-324d37facd2d",
   "metadata": {},
   "outputs": [],
   "source": []
  }
 ],
 "metadata": {
  "kernelspec": {
   "display_name": "Python 3 (ipykernel)",
   "language": "python",
   "name": "python3"
  },
  "language_info": {
   "codemirror_mode": {
    "name": "ipython",
    "version": 3
   },
   "file_extension": ".py",
   "mimetype": "text/x-python",
   "name": "python",
   "nbconvert_exporter": "python",
   "pygments_lexer": "ipython3",
   "version": "3.9.7"
  }
 },
 "nbformat": 4,
 "nbformat_minor": 5
}
