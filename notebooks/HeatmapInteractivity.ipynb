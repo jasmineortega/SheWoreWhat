{
 "cells": [
  {
   "cell_type": "markdown",
   "id": "fc368426-0588-4f24-9687-537dad2c86a9",
   "metadata": {
    "tags": []
   },
   "source": [
    "# Heat Map Interactivity "
   ]
  },
  {
   "cell_type": "code",
   "execution_count": 1,
   "id": "b1b67889-5db0-41d0-853d-5dba87bf8c19",
   "metadata": {},
   "outputs": [],
   "source": [
    "from dash import Dash, html, dcc, Input, Output\n",
    "import altair as alt\n",
    "import dash_bootstrap_components as dbc\n",
    "from vega_datasets import data\n",
    "import panel as pn\n",
    "from panel.interact import interact\n",
    "import pandas as pd\n",
    "import numpy as np\n",
    "import sheworewhat as sww"
   ]
  },
  {
   "cell_type": "markdown",
   "id": "2b65df0f-ba63-43fc-91d5-5313b464e9ee",
   "metadata": {
    "jp-MarkdownHeadingCollapsed": true,
    "tags": []
   },
   "source": [
    "# Basic interactivity"
   ]
  },
  {
   "cell_type": "code",
   "execution_count": 21,
   "id": "958ffb1e-9469-471e-b9ed-40cbb8628e9f",
   "metadata": {
    "tags": []
   },
   "outputs": [
    {
     "data": {
      "text/plain": [
       "['USA', 'Europe', 'Japan']"
      ]
     },
     "execution_count": 21,
     "metadata": {},
     "output_type": "execute_result"
    }
   ],
   "source": [
    "df = data.cars()\n",
    "countries = df[\"Origin\"].unique().tolist()\n",
    "countries"
   ]
  },
  {
   "cell_type": "code",
   "execution_count": 22,
   "id": "75a49d4c-6252-4254-8433-57958ac95873",
   "metadata": {},
   "outputs": [
    {
     "name": "stdout",
     "output_type": "stream",
     "text": [
      "Dash is running on http://127.0.0.1:8075/\n",
      "\n",
      "Dash is running on http://127.0.0.1:8075/\n",
      "\n",
      "Dash is running on http://127.0.0.1:8075/\n",
      "\n",
      "Dash is running on http://127.0.0.1:8075/\n",
      "\n",
      "Dash is running on http://127.0.0.1:8075/\n",
      "\n",
      "Dash is running on http://127.0.0.1:8075/\n",
      "\n",
      "Dash is running on http://127.0.0.1:8075/\n",
      "\n",
      "Dash is running on http://127.0.0.1:8075/\n",
      "\n",
      "Dash is running on http://127.0.0.1:8075/\n",
      "\n",
      "Dash is running on http://127.0.0.1:8075/\n",
      "\n",
      "Dash is running on http://127.0.0.1:8075/\n",
      "\n",
      "Dash is running on http://127.0.0.1:8075/\n",
      "\n",
      "Dash is running on http://127.0.0.1:8075/\n",
      "\n",
      " * Serving Flask app '__main__'\n",
      " * Debug mode: off\n"
     ]
    },
    {
     "name": "stderr",
     "output_type": "stream",
     "text": [
      "WARNING: This is a development server. Do not use it in a production deployment. Use a production WSGI server instead.\n",
      " * Running on http://127.0.0.1:8075\n",
      "Press CTRL+C to quit\n",
      "127.0.0.1 - - [10/Jan/2023 13:12:32] \"GET / HTTP/1.1\" 200 -\n",
      "127.0.0.1 - - [10/Jan/2023 13:12:33] \"GET /_dash-layout HTTP/1.1\" 200 -\n",
      "127.0.0.1 - - [10/Jan/2023 13:12:33] \"GET /_dash-dependencies HTTP/1.1\" 200 -\n",
      "127.0.0.1 - - [10/Jan/2023 13:12:33] \"GET /_dash-component-suites/dash/dcc/async-dropdown.js HTTP/1.1\" 304 -\n",
      "127.0.0.1 - - [10/Jan/2023 13:12:33] \"POST /_dash-update-component HTTP/1.1\" 200 -\n",
      "127.0.0.1 - - [10/Jan/2023 13:12:35] \"POST /_dash-update-component HTTP/1.1\" 200 -\n",
      "127.0.0.1 - - [10/Jan/2023 13:12:36] \"POST /_dash-update-component HTTP/1.1\" 200 -\n",
      "127.0.0.1 - - [10/Jan/2023 13:12:38] \"POST /_dash-update-component HTTP/1.1\" 200 -\n",
      "127.0.0.1 - - [10/Jan/2023 13:12:43] \"POST /_dash-update-component HTTP/1.1\" 200 -\n"
     ]
    }
   ],
   "source": [
    "# df = data.cars()\n",
    "# countries = df[\"Origin\"].unique().tolist()\n",
    "\n",
    "# def plot_altair(zcol):\n",
    "#     chart = alt.Chart(df).mark_circle().encode(\n",
    "#         x='Year',\n",
    "#         y=\"Miles_per_Gallon\",\n",
    "#         color=zcol).interactive()\n",
    "\n",
    "#     return chart.to_html()\n",
    "\n",
    "# app = Dash(__name__)\n",
    "# server = app.server\n",
    "\n",
    "# app.layout = html.Div([\n",
    "#         dcc.Dropdown(\n",
    "#             id='zcol', value='Origin',\n",
    "#             options=[{'label': i, 'value': i} for i in df.columns]),\n",
    "#         html.Iframe(\n",
    "#             id='scatter',\n",
    "#             style={'border-width': '0', 'width': '100%', 'height': '400px'},\n",
    "#             srcDoc=plot_altair(zcol=\"Origin\"))\n",
    "# ])\n",
    "\n",
    "# @app.callback(\n",
    "#     Output('scatter', 'srcDoc'),\n",
    "#     Input('zcol', 'value'))\n",
    "\n",
    "# def update_output(zcol):\n",
    "#     return plot_altair(zcol)\n",
    "\n",
    "# if __name__ == '__main__':\n",
    "#     app.run_server(\n",
    "#         port = 8075,\n",
    "#         debug=False)"
   ]
  },
  {
   "cell_type": "markdown",
   "id": "1b585652-8645-481a-a3e6-5ec05f9ad3c1",
   "metadata": {
    "jp-MarkdownHeadingCollapsed": true,
    "tags": []
   },
   "source": [
    "# Trying it out with heatmap"
   ]
  },
  {
   "cell_type": "code",
   "execution_count": 21,
   "id": "8dad31e7-c7af-47c9-901a-91901861e50a",
   "metadata": {},
   "outputs": [],
   "source": [
    "df = sww.closet_df()\n",
    "worn_df = sww.worn(df)\n",
    "top_10, df = sww.top_10_df()"
   ]
  },
  {
   "cell_type": "code",
   "execution_count": 1,
   "id": "acf3858f-0693-445c-a3a5-775be24787c5",
   "metadata": {},
   "outputs": [],
   "source": [
    "# sww.plot_heatmap(top_10, df, 0)"
   ]
  },
  {
   "cell_type": "markdown",
   "id": "778709a7-89cc-468e-8952-949d947cf72b",
   "metadata": {
    "jp-MarkdownHeadingCollapsed": true,
    "tags": []
   },
   "source": [
    "# Making button"
   ]
  },
  {
   "cell_type": "code",
   "execution_count": 15,
   "id": "e630de75-dddf-4abe-a92e-1a19731fdc67",
   "metadata": {},
   "outputs": [
    {
     "data": {
      "text/plain": [
       "{75: 'Adidas Tennis Shoe',\n",
       " 81: 'No Brand Gold Hoops',\n",
       " 9: 'Blondo Boots',\n",
       " 50: 'Glossier Crewneck Sweater',\n",
       " 92: 'Taylor Swift Baseball Cap',\n",
       " 94: 'Ray-Ban Sunglasses',\n",
       " 3: 'Aerie Jeans',\n",
       " 7: 'Girlfriend Collective Skort',\n",
       " 10: 'Athleta Beanie',\n",
       " 15: 'Aerie Sports Bra - Navy '}"
      ]
     },
     "execution_count": 15,
     "metadata": {},
     "output_type": "execute_result"
    }
   ],
   "source": [
    "top_dict"
   ]
  },
  {
   "cell_type": "code",
   "execution_count": null,
   "id": "3311f23a-9286-4bc0-b876-293482d88d2d",
   "metadata": {},
   "outputs": [],
   "source": [
    "from dash import Dash, html, dcc, Input, Output\n",
    "import altair as alt\n",
    "import dash_bootstrap_components as dbc\n",
    "import pandas as pd\n",
    "import numpy as np\n",
    "\n",
    "import sheworewhat as sww\n",
    "\n",
    "top_dict, top_id, top_item, df = sww.top_10_df()\n",
    "\n",
    "# need to make top 10 list a dictionary\n",
    "app = Dash(__name__)\n",
    "server = app.server\n",
    "\n",
    "app.layout = html.Div([\n",
    "        dcc.Dropdown(\n",
    "            id='zcol',\n",
    "            value=top_item[0],\n",
    "            options=[{'label': item, 'value': i} for i, item in enumerate(top_item)])\n",
    "])\n",
    "\n",
    "if __name__ == '__main__':\n",
    "    app.run_server(\n",
    "        port = 8070,\n",
    "        debug=False)"
   ]
  },
  {
   "cell_type": "markdown",
   "id": "c21e36e5-bb39-4361-8891-ac4a45867bdf",
   "metadata": {},
   "source": [
    "## Making button + graph\n",
    "- this works but the two are not linked!\n",
    "- omg this worked!"
   ]
  },
  {
   "cell_type": "code",
   "execution_count": null,
   "id": "9d858c3a-b774-476d-a692-509373c71707",
   "metadata": {},
   "outputs": [],
   "source": [
    "from dash import Dash, html, dcc, Input, Output\n",
    "import altair as alt\n",
    "import dash_bootstrap_components as dbc\n",
    "import pandas as pd\n",
    "import numpy as np\n",
    "\n",
    "import sheworewhat as sww\n",
    "\n",
    "top_dict, top_id, top_item, df = sww.top_10_df()\n",
    "\n",
    "def plot_heatmap(top_10, df, z=0):\n",
    "    # column of day of week for one calender year\n",
    "    time_df = pd.DataFrame()\n",
    "    time_df[\"Date\"] = pd.date_range(df[\"Date\"].min(), periods=365)\n",
    "    time_df[\"Day\"] = time_df[\"Date\"].dt.day_name()\n",
    "\n",
    "    heatmap_data = df.loc[df[\"ID\"] == top_10[z]]  # need to make this dynamic in plot\n",
    "    item_name = heatmap_data[\"Brand\"].iloc[0] + \" \" + heatmap_data[\"Item\"].iloc[0]\n",
    "\n",
    "    # isolate item data\n",
    "    year = pd.merge(time_df, heatmap_data, how=\"outer\", on=\"Date\")\n",
    "    year[\"Item\"] = year[\"Item\"].replace(np.nan, 0)\n",
    "    year[\"Bool\"] = np.where(year[\"Item\"] == 0, 0, 1)\n",
    "\n",
    "    # this is horrible to read lol\n",
    "    # wrangling for prettier plotting\n",
    "    week = time_df[\"Date\"].dt.isocalendar()\n",
    "    year[\"Week\"] = week[\"week\"].fillna(52)\n",
    "    year[\"Week\"] = year[\"Week\"].fillna(52)\n",
    "    year[\"First_day\"] = year[\"Date\"] - year[\"Date\"].dt.weekday * np.timedelta64(1, \"D\")\n",
    "    week = time_df[\"Date\"].dt.strftime(\"%m-%d-%y\")\n",
    "    year[\"Week\"] = year[\"First_day\"].dt.strftime(\"%m-%d\")\n",
    "    year = year[[\"Date\", \"Day\", \"Item\", \"ID\", \"Bool\", \"Week\"]]\n",
    "\n",
    "    weekdays = [\n",
    "        \"Sunday\",\n",
    "        \"Monday\",\n",
    "        \"Tuesday\",\n",
    "        \"Wednesday\",\n",
    "        \"Thursday\",\n",
    "        \"Friday\",\n",
    "        \"Sunday\",\n",
    "    ]\n",
    "\n",
    "    heat_plot = (\n",
    "        alt.Chart(year, title=f\"{item_name} in 2023\")\n",
    "        .mark_rect(\n",
    "            stroke=\"white\",\n",
    "            strokeWidth=3,\n",
    "            opacity=0.85,\n",
    "        )\n",
    "        .encode(\n",
    "            alt.X(\n",
    "                \"Week:O\",\n",
    "                axis=alt.Axis(\n",
    "                    labelAngle=-60,\n",
    "                ),\n",
    "            ),\n",
    "            alt.Y(\"Day\", sort=weekdays, title=\"\"),\n",
    "            alt.Color(\n",
    "                \"Bool\",\n",
    "                scale=alt.Scale(domain=[0, 1], range=[\"#e0ddd5\", \"#74a675\"]),\n",
    "                legend=None,\n",
    "            ),\n",
    "            alt.Tooltip([\"Date\", \"Day\"]),\n",
    "        )\n",
    "        .properties(height=200, width=600)\n",
    "        .configure_axis(\n",
    "            grid=False, domain=False, labelColor=\"#706f6c\", titleColor=\"#706f6c\"\n",
    "        )\n",
    "        .configure_title(color=\"#706f6c\")\n",
    "    )\n",
    "    return heat_plot.to_html()\n",
    "\n",
    "# need to make top 10 list a dictionary\n",
    "app = Dash(__name__)\n",
    "server = app.server\n",
    "\n",
    "app.layout = html.Div([\n",
    "        dcc.Dropdown(\n",
    "            id='select-item',\n",
    "            options=[{'label': item, 'value': i} for i, item in enumerate(top_item)]), # can switch to k,v instead of enumerate\n",
    "        html.Iframe(\n",
    "            id='heatmap_item',\n",
    "            style={'border-width': '0', 'width': '100%', 'height': '400px'},\n",
    "            srcDoc=plot_heatmap(top_id, df))\n",
    "])\n",
    "\n",
    "@app.callback(\n",
    "    Output('heatmap_item', 'srcDoc'),\n",
    "    Input('select-item', 'value'))\n",
    "\n",
    "def update_output(z):\n",
    "    return plot_heatmap(top_id, df, z)\n",
    "\n",
    "if __name__ == '__main__':\n",
    "    app.run_server(\n",
    "        port = 8077,\n",
    "        debug=False)"
   ]
  },
  {
   "cell_type": "markdown",
   "id": "e97f2b35-2141-4d1f-8dfd-205208e4a034",
   "metadata": {},
   "source": [
    "But can i get it to work without directly defining function in the script?\n",
    "- probs need to update function calls\n",
    "    - to html and sww.\n",
    "    \n",
    "... and it works! ok now to plug into the larger script"
   ]
  },
  {
   "cell_type": "code",
   "execution_count": 3,
   "id": "84b60ff2-1b61-4ee3-aaf6-f50249d033d5",
   "metadata": {},
   "outputs": [],
   "source": [
    "from dash import Dash, html, dcc, Input, Output\n",
    "import altair as alt\n",
    "import dash_bootstrap_components as dbc\n",
    "import pandas as pd\n",
    "import numpy as np\n",
    "\n",
    "import sheworewhat as sww\n",
    "\n",
    "top_id, top_item, df = sww.top_10_df()\n",
    "\n",
    "# need to make top 10 list a dictionary\n",
    "app = Dash(__name__)\n",
    "server = app.server\n",
    "\n",
    "app.layout = html.Div([\n",
    "        dcc.Dropdown(\n",
    "            id='select-item',\n",
    "            options=[{'label': item, 'value': i} for i, item in enumerate(top_item)]), \n",
    "        html.Iframe(\n",
    "            id='heatmap_item',\n",
    "            style={'border-width': '0', 'width': '100%', 'height': '400px'},\n",
    "            srcDoc=sww.plot_heatmap(top_id, df).to_html())\n",
    "])\n",
    "\n",
    "@app.callback(\n",
    "    Output('heatmap_item', 'srcDoc'),\n",
    "    Input('select-item', 'value'))\n",
    "\n",
    "def update_output(z):\n",
    "    return sww.plot_heatmap(top_id, df, z).to_html()\n",
    "\n",
    "if __name__ == '__main__':\n",
    "    app.run_server(\n",
    "        port = 8071,\n",
    "        debug=False)"
   ]
  },
  {
   "cell_type": "markdown",
   "id": "ad62a1db-d1af-4bb0-ad40-3dafb1d2b3e9",
   "metadata": {},
   "source": [
    "# Top 10 barchart + button"
   ]
  },
  {
   "cell_type": "code",
   "execution_count": 2,
   "id": "afc8eadb-2db4-48bd-90f4-3f75993e2aa4",
   "metadata": {},
   "outputs": [],
   "source": [
    "closet = sww.closet_df()\n",
    "worn_df = sww.worn(closet)"
   ]
  },
  {
   "cell_type": "code",
   "execution_count": 3,
   "id": "70ba4f68-3aa7-457e-a0c3-d589f25ed5a6",
   "metadata": {},
   "outputs": [],
   "source": [
    "def plot_mostworn(worn_df, item_name=\"Adidas Tennis Shoe\"):\n",
    "    most_worn = worn_df.nlargest(10, columns=\"Count\")\n",
    "    closet_comp = (\n",
    "        alt.Chart(most_worn, title=\"Ten Most Worn Pieces in 2023\")\n",
    "        .mark_bar(\n",
    "            cornerRadiusBottomRight=10,\n",
    "            cornerRadiusTopRight=10,\n",
    "            opacity=0.85,\n",
    "        )\n",
    "        .encode(\n",
    "            alt.Y(\"Name\", title=\"\", axis=alt.Axis(labelAngle=-0), sort=\"-x\"),\n",
    "            alt.X(\"Count\", title=\"Times Worn\", axis=alt.Axis(tickMinStep=1)),\n",
    "            alt.Tooltip(\"Count\"),\n",
    "            color=alt.condition(\n",
    "                alt.datum.Name == item_name,  \n",
    "                alt.value('#8ba88a'),     # highlights selected bar\n",
    "                alt.value('#e0ddd5')   \n",
    "    )\n",
    "        )\n",
    "        .configure_title(color=\"#706f6c\")\n",
    "        .configure_axis(\n",
    "            labelColor=\"#706f6c\", titleColor=\"#706f6c\", grid=False, domain=False\n",
    "        )\n",
    "    )\n",
    "\n",
    "    return closet_comp"
   ]
  },
  {
   "cell_type": "code",
   "execution_count": 5,
   "id": "85c5d37d-b7c5-4d49-aaab-da618bf1a5ae",
   "metadata": {},
   "outputs": [
    {
     "name": "stdout",
     "output_type": "stream",
     "text": [
      "Dash is running on http://127.0.0.1:8070/\n",
      "\n",
      "Dash is running on http://127.0.0.1:8070/\n",
      "\n",
      " * Serving Flask app '__main__'\n",
      " * Debug mode: off\n"
     ]
    },
    {
     "name": "stderr",
     "output_type": "stream",
     "text": [
      "WARNING: This is a development server. Do not use it in a production deployment. Use a production WSGI server instead.\n",
      " * Running on http://127.0.0.1:8070\n",
      "Press CTRL+C to quit\n",
      "127.0.0.1 - - [10/Jan/2023 21:29:10] \"GET / HTTP/1.1\" 200 -\n",
      "127.0.0.1 - - [10/Jan/2023 21:29:10] \"GET /_dash-layout HTTP/1.1\" 200 -\n",
      "127.0.0.1 - - [10/Jan/2023 21:29:10] \"GET /_dash-dependencies HTTP/1.1\" 200 -\n",
      "127.0.0.1 - - [10/Jan/2023 21:29:10] \"GET /_dash-component-suites/dash/dcc/async-dropdown.js HTTP/1.1\" 304 -\n"
     ]
    },
    {
     "name": "stdout",
     "output_type": "stream",
     "text": [
      "Exception on /_dash-update-component [POST]\n",
      "Traceback (most recent call last):\n",
      "  File \"/Users/jasmineortega/opt/miniconda3/lib/python3.9/site-packages/flask/app.py\", line 2525, in wsgi_app\n",
      "    response = self.full_dispatch_request()\n",
      "  File \"/Users/jasmineortega/opt/miniconda3/lib/python3.9/site-packages/flask/app.py\", line 1822, in full_dispatch_request\n",
      "    rv = self.handle_user_exception(e)\n",
      "  File \"/Users/jasmineortega/opt/miniconda3/lib/python3.9/site-packages/flask/app.py\", line 1820, in full_dispatch_request\n",
      "    rv = self.dispatch_request()\n",
      "  File \"/Users/jasmineortega/opt/miniconda3/lib/python3.9/site-packages/flask/app.py\", line 1796, in dispatch_request\n",
      "    return self.ensure_sync(self.view_functions[rule.endpoint])(**view_args)\n",
      "  File \"/Users/jasmineortega/opt/miniconda3/lib/python3.9/site-packages/dash/dash.py\", line 1274, in dispatch\n",
      "    ctx.run(\n",
      "  File \"/Users/jasmineortega/opt/miniconda3/lib/python3.9/site-packages/dash/_callback.py\", line 440, in add_context\n",
      "    output_value = func(*func_args, **func_kwargs)  # %% callback invoked %%\n",
      "  File \"/var/folders/qh/6chp8sds4c7gybyg8m5n7k3m0000gn/T/ipykernel_41922/617631013.py\", line 34, in update_output\n",
      "    return plot_mostworn(worn_df, item_name).to_html()\n",
      "NameError: name 'item_name' is not defined\n",
      "Exception on /_dash-update-component [POST]\n",
      "Traceback (most recent call last):\n",
      "  File \"/Users/jasmineortega/opt/miniconda3/lib/python3.9/site-packages/flask/app.py\", line 2525, in wsgi_app\n",
      "    response = self.full_dispatch_request()\n",
      "  File \"/Users/jasmineortega/opt/miniconda3/lib/python3.9/site-packages/flask/app.py\", line 1822, in full_dispatch_request\n",
      "    rv = self.handle_user_exception(e)\n",
      "  File \"/Users/jasmineortega/opt/miniconda3/lib/python3.9/site-packages/flask/app.py\", line 1820, in full_dispatch_request\n",
      "    rv = self.dispatch_request()\n",
      "  File \"/Users/jasmineortega/opt/miniconda3/lib/python3.9/site-packages/flask/app.py\", line 1796, in dispatch_request\n",
      "    return self.ensure_sync(self.view_functions[rule.endpoint])(**view_args)\n",
      "  File \"/Users/jasmineortega/opt/miniconda3/lib/python3.9/site-packages/dash/dash.py\", line 1274, in dispatch\n",
      "    ctx.run(\n",
      "  File \"/Users/jasmineortega/opt/miniconda3/lib/python3.9/site-packages/dash/_callback.py\", line 440, in add_context\n",
      "    output_value = func(*func_args, **func_kwargs)  # %% callback invoked %%\n",
      "  File \"/var/folders/qh/6chp8sds4c7gybyg8m5n7k3m0000gn/T/ipykernel_41922/617631013.py\", line 34, in update_output\n",
      "    return plot_mostworn(worn_df, item_name).to_html()\n",
      "NameError: name 'item_name' is not defined\n"
     ]
    },
    {
     "name": "stderr",
     "output_type": "stream",
     "text": [
      "127.0.0.1 - - [10/Jan/2023 21:29:10] \"POST /_dash-update-component HTTP/1.1\" 500 -\n"
     ]
    }
   ],
   "source": [
    "from dash import Dash, html, dcc, Input, Output\n",
    "import altair as alt\n",
    "import dash_bootstrap_components as dbc\n",
    "import pandas as pd\n",
    "import numpy as np\n",
    "\n",
    "import sheworewhat as sww\n",
    "\n",
    "closet = sww.closet_df()\n",
    "worn_df = sww.worn(closet)\n",
    "top_id, top_item, df = sww.top_10_df()\n",
    "\n",
    "# need to make top 10 list a dictionary\n",
    "app = Dash(__name__)\n",
    "server = app.server\n",
    "\n",
    "app.layout = html.Div([\n",
    "        dcc.Dropdown(\n",
    "            id='item_name',\n",
    "            value=top_item[0],\n",
    "            options=[{'label': item, 'value': i} for i, item in enumerate(top_item)]\n",
    "        ), \n",
    "        html.Iframe(\n",
    "            id='top10',\n",
    "            style={'border-width': '0', 'width': '100%', 'height': '400px'},\n",
    "            srcDoc=plot_mostworn(worn_df).to_html())\n",
    "])\n",
    "\n",
    "@app.callback(\n",
    "    Output('top10', 'srcDoc'),\n",
    "    Input('item_name', 'label'))\n",
    "\n",
    "def update_output(z):\n",
    "    return plot_mostworn(worn_df, item_name).to_html()\n",
    "\n",
    "\n",
    "if __name__ == '__main__':\n",
    "    app.run_server(\n",
    "        port = 8070,\n",
    "        debug=False)"
   ]
  },
  {
   "cell_type": "code",
   "execution_count": null,
   "id": "b6f39816-d136-462f-8ed1-9d5b9063972b",
   "metadata": {},
   "outputs": [],
   "source": []
  }
 ],
 "metadata": {
  "kernelspec": {
   "display_name": "Python 3 (ipykernel)",
   "language": "python",
   "name": "python3"
  },
  "language_info": {
   "codemirror_mode": {
    "name": "ipython",
    "version": 3
   },
   "file_extension": ".py",
   "mimetype": "text/x-python",
   "name": "python",
   "nbconvert_exporter": "python",
   "pygments_lexer": "ipython3",
   "version": "3.9.7"
  }
 },
 "nbformat": 4,
 "nbformat_minor": 5
}
